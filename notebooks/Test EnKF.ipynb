{
 "cells": [
  {
   "cell_type": "code",
   "execution_count": 1,
   "metadata": {},
   "outputs": [
    {
     "data": {
      "text/plain": [
       "\"/media/mat/HDD/EnKF/Project.toml\""
      ]
     },
     "execution_count": 1,
     "metadata": {},
     "output_type": "execute_result"
    }
   ],
   "source": [
    "using Pkg\n",
    "Pkg.activate(\"/media/mat/HDD/EnKF/\")"
   ]
  },
  {
   "cell_type": "code",
   "execution_count": 2,
   "metadata": {},
   "outputs": [],
   "source": [
    "using Revise\n",
    "using EnKF\n",
    "using Distributions\n",
    "using LinearAlgebra"
   ]
  },
  {
   "cell_type": "code",
   "execution_count": 93,
   "metadata": {},
   "outputs": [
    {
     "name": "stdout",
     "output_type": "stream",
     "text": [
      "  0.000005 seconds (6 allocations: 336 bytes)\n",
      "  0.000010 seconds (29 allocations: 3.031 KiB)\n"
     ]
    },
    {
     "data": {
      "text/plain": [
       "EnsembleState{10,5,Array{Float64,1}}(Array{Float64,1}[[-0.250513, -1.06465, -0.176891, -0.937579, 1.49237], [0.538262, -0.0107092, 0.360769, 0.756102, 0.108136], [1.57122, 0.66229, 1.92762, -0.0881205, -0.158286], [0.932599, 0.668298, 2.60278, 2.02101, 2.51189], [2.70045, 0.786482, 1.96647, 1.83372, 1.43197], [0.870238, 0.912479, 0.486363, 0.579874, 0.506422], [1.50274, 1.02822, 1.86205, 0.850264, 1.406], [2.36764, 1.14188, 0.910553, 1.77672, 0.897048], [-0.0923623, 2.23143, 0.735549, 1.60139, 0.849719], [1.25237, 1.58097, 3.3973, 1.08191, 1.36682]])"
      ]
     },
     "execution_count": 93,
     "metadata": {},
     "output_type": "execute_result"
    }
   ],
   "source": [
    "@time A = MvNormal(ones(5), I)\n",
    "@time out = initialize(10, A)"
   ]
  },
  {
   "cell_type": "code",
   "execution_count": 94,
   "metadata": {},
   "outputs": [
    {
     "data": {
      "text/plain": [
       "5-element Array{Float64,1}:\n",
       " -0.25051327620171215\n",
       " -1.0646505670156676 \n",
       " -0.17689075733371662\n",
       " -0.9375792006342527 \n",
       "  1.4923729475762832 "
      ]
     },
     "execution_count": 94,
     "metadata": {},
     "output_type": "execute_result"
    }
   ],
   "source": [
    "out.S[1]"
   ]
  },
  {
   "cell_type": "code",
   "execution_count": 95,
   "metadata": {},
   "outputs": [
    {
     "data": {
      "text/plain": [
       "5-element Array{Float64,1}:\n",
       "  0.5382618441884401 \n",
       " -0.01070916313189163\n",
       "  0.36076947370688506\n",
       "  0.7561017949555943 \n",
       "  0.10813638034761508"
      ]
     },
     "execution_count": 95,
     "metadata": {},
     "output_type": "execute_result"
    }
   ],
   "source": [
    "out.S[2]"
   ]
  },
  {
   "cell_type": "code",
   "execution_count": 96,
   "metadata": {},
   "outputs": [
    {
     "data": {
      "text/plain": [
       "5-element Array{Float64,1}:\n",
       " 1.1392638231100656\n",
       " 0.7936700486704211\n",
       " 1.4072570398195512\n",
       " 0.9475297876680863\n",
       " 1.041208446274524 "
      ]
     },
     "execution_count": 96,
     "metadata": {},
     "output_type": "execute_result"
    }
   ],
   "source": [
    "out̄ = mean(out)"
   ]
  },
  {
   "cell_type": "code",
   "execution_count": 97,
   "metadata": {},
   "outputs": [
    {
     "data": {
      "text/plain": [
       "5-element Array{Float64,1}:\n",
       " -1.3897770993117777 \n",
       " -1.8583206156860888 \n",
       " -1.5841477971532678 \n",
       " -1.8851089883023389 \n",
       "  0.45116450130175934"
      ]
     },
     "execution_count": 97,
     "metadata": {},
     "output_type": "execute_result"
    }
   ],
   "source": [
    "out̃1 = out.S[1] - out̄"
   ]
  },
  {
   "cell_type": "code",
   "execution_count": 98,
   "metadata": {},
   "outputs": [
    {
     "data": {
      "text/plain": [
       "5-element Array{Float64,1}:\n",
       " -0.6010019789216254\n",
       " -0.8043792118023128\n",
       " -1.046487566112666 \n",
       " -0.191427992712492 \n",
       " -0.9330720659269088"
      ]
     },
     "execution_count": 98,
     "metadata": {},
     "output_type": "execute_result"
    }
   ],
   "source": [
    "out̃2 = out.S[2] - out̄"
   ]
  },
  {
   "cell_type": "code",
   "execution_count": 99,
   "metadata": {},
   "outputs": [
    {
     "data": {
      "text/plain": [
       "5-element Array{Float64,1}:\n",
       "  0.5382618441884401 \n",
       " -0.01070916313189163\n",
       "  0.36076947370688506\n",
       "  0.7561017949555943 \n",
       "  0.10813638034761508"
      ]
     },
     "execution_count": 99,
     "metadata": {},
     "output_type": "execute_result"
    }
   ],
   "source": [
    "out.S[2]"
   ]
  },
  {
   "cell_type": "code",
   "execution_count": 100,
   "metadata": {},
   "outputs": [
    {
     "data": {
      "text/plain": [
       "5-element Array{Float64,1}:\n",
       " 1.1392638231100656\n",
       " 0.7936700486704211\n",
       " 1.4072570398195512\n",
       " 0.9475297876680863\n",
       " 1.041208446274524 "
      ]
     },
     "execution_count": 100,
     "metadata": {},
     "output_type": "execute_result"
    }
   ],
   "source": [
    "mean(out)"
   ]
  },
  {
   "cell_type": "code",
   "execution_count": 101,
   "metadata": {},
   "outputs": [
    {
     "data": {
      "text/plain": [
       "EnsembleState{10,5,Array{Float64,1}}(Array{Float64,1}[[-1.38978, -1.85832, -1.58415, -1.88511, 0.451165], [-0.601002, -0.804379, -1.04649, -0.191428, -0.933072], [0.431952, -0.13138, 0.520368, -1.03565, -1.19949], [-0.206665, -0.125372, 1.19553, 1.07348, 1.47068], [1.56119, -0.00718778, 0.559214, 0.886193, 0.390761], [-0.269026, 0.118809, -0.920894, -0.367656, -0.534787], [0.363477, 0.234555, 0.454797, -0.0972658, 0.364794], [1.22837, 0.348212, -0.496704, 0.829192, -0.144161], [-1.23163, 1.43776, -0.671709, 0.653861, -0.19149], [0.113105, 0.787303, 1.99004, 0.134379, 0.325607]])"
      ]
     },
     "execution_count": 101,
     "metadata": {},
     "output_type": "execute_result"
    }
   ],
   "source": [
    "fluc = deviation(out)"
   ]
  },
  {
   "cell_type": "code",
   "execution_count": 75,
   "metadata": {},
   "outputs": [
    {
     "data": {
      "text/plain": [
       "5-element Array{Float64,1}:\n",
       " -0.36584246072126536 \n",
       " -0.014553710202640735\n",
       "  0.7857435492211184  \n",
       "  0.02345716187282365 \n",
       "  1.5070559743327538  "
      ]
     },
     "execution_count": 75,
     "metadata": {},
     "output_type": "execute_result"
    }
   ],
   "source": [
    "fluc.S[2] "
   ]
  },
  {
   "cell_type": "code",
   "execution_count": 76,
   "metadata": {},
   "outputs": [
    {
     "data": {
      "text/plain": [
       "5-element Array{Float64,1}:\n",
       " -0.46813012044205504\n",
       " -0.16782076138382496\n",
       "  0.6775204930495393 \n",
       " -0.11149846374179417\n",
       "  1.4569107753844706 "
      ]
     },
     "execution_count": 76,
     "metadata": {},
     "output_type": "execute_result"
    }
   ],
   "source": [
    "out̃2"
   ]
  },
  {
   "cell_type": "code",
   "execution_count": 65,
   "metadata": {},
   "outputs": [
    {
     "name": "stdout",
     "output_type": "stream",
     "text": [
      "  0.000009 seconds (9 allocations: 864 bytes)\n"
     ]
    },
    {
     "data": {
      "text/plain": [
       "5×10 Array{Float64,2}:\n",
       " -0.539186   1.4081    -1.8842    …   1.21245    1.27941    0.791377\n",
       " -0.777557   0.12469    0.781018     -0.305445   0.914769   0.158905\n",
       " -0.854543   0.235891   0.139233      0.720152   1.00565   -1.99376 \n",
       " -0.911113  -1.08949    0.373762      0.0816877  1.32854    0.954057\n",
       "  1.39184   -0.43751   -1.15292      -0.63643    0.698721   0.068289"
      ]
     },
     "execution_count": 65,
     "metadata": {},
     "output_type": "execute_result"
    }
   ],
   "source": [
    "@time hcat(out.S ...)"
   ]
  },
  {
   "cell_type": "code",
   "execution_count": 8,
   "metadata": {},
   "outputs": [
    {
     "data": {
      "text/plain": [
       "Any"
      ]
     },
     "execution_count": 8,
     "metadata": {},
     "output_type": "execute_result"
    }
   ],
   "source": [
    "supertype(Tuple{Int64,Int64})"
   ]
  },
  {
   "cell_type": "code",
   "execution_count": 6,
   "metadata": {},
   "outputs": [
    {
     "data": {
      "text/plain": [
       "0-dimensional Array{Tuple{Int64,Int64},0}:\n",
       "(1, 4)"
      ]
     },
     "execution_count": 6,
     "metadata": {},
     "output_type": "execute_result"
    }
   ],
   "source": [
    "[i for i in enumerate(N)]"
   ]
  },
  {
   "cell_type": "code",
   "execution_count": 16,
   "metadata": {},
   "outputs": [
    {
     "data": {
      "text/plain": [
       "4-element Array{Array{Float64,1},1}:\n",
       " [0.392122, 0.3869, 1.59795, -0.415342, -1.74986, 1.27202, 0.810317, 1.4941, 0.28943, 1.27486]           \n",
       " [0.846543, 1.63695, 0.989738, -0.682586, 1.02343, -2.55806, 2.04068, 0.25681, 1.54071, 1.47328]         \n",
       " [-0.365841, 0.391182, 0.276103, 0.588314, -1.0984, 0.456155, -0.0643328, -0.585154, -0.279022, -0.61115]\n",
       " [-0.821307, 0.257601, -0.304821, -0.186259, -1.05403, -1.88551, -1.34901, -0.50757, -0.698108, 0.662555]"
      ]
     },
     "execution_count": 16,
     "metadata": {},
     "output_type": "execute_result"
    }
   ],
   "source": [
    "States = [randn(10) for i = 1:4]"
   ]
  },
  {
   "cell_type": "code",
   "execution_count": 17,
   "metadata": {},
   "outputs": [
    {
     "data": {
      "text/plain": [
       "EnsembleState{4,Array{Float64,1}}(Array{Float64,1}[[0.392122, 0.3869, 1.59795, -0.415342, -1.74986, 1.27202, 0.810317, 1.4941, 0.28943, 1.27486], [0.846543, 1.63695, 0.989738, -0.682586, 1.02343, -2.55806, 2.04068, 0.25681, 1.54071, 1.47328], [-0.365841, 0.391182, 0.276103, 0.588314, -1.0984, 0.456155, -0.0643328, -0.585154, -0.279022, -0.61115], [-0.821307, 0.257601, -0.304821, -0.186259, -1.05403, -1.88551, -1.34901, -0.50757, -0.698108, 0.662555]])"
      ]
     },
     "execution_count": 17,
     "metadata": {},
     "output_type": "execute_result"
    }
   ],
   "source": [
    "EnS = EnsembleState(States)"
   ]
  },
  {
   "cell_type": "code",
   "execution_count": 18,
   "metadata": {},
   "outputs": [
    {
     "data": {
      "text/plain": [
       "(4, (10,))"
      ]
     },
     "execution_count": 18,
     "metadata": {},
     "output_type": "execute_result"
    }
   ],
   "source": [
    "size(EnS)"
   ]
  },
  {
   "cell_type": "code",
   "execution_count": 19,
   "metadata": {},
   "outputs": [
    {
     "data": {
      "text/plain": [
       "(10,)"
      ]
     },
     "execution_count": 19,
     "metadata": {},
     "output_type": "execute_result"
    }
   ],
   "source": [
    "size(EnS.S[1])"
   ]
  },
  {
   "cell_type": "code",
   "execution_count": 21,
   "metadata": {},
   "outputs": [
    {
     "name": "stdout",
     "output_type": "stream",
     "text": [
      "  0.001923 seconds (34 allocations: 2.344 KiB)\n"
     ]
    },
    {
     "data": {
      "text/plain": [
       "10-element Array{Float64,1}:\n",
       "  0.01287947145794821\n",
       "  0.6681571160058574 \n",
       "  0.6397420518901215 \n",
       " -0.17396843980891674\n",
       " -0.7197149599083105 \n",
       " -0.6788498111208523 \n",
       "  0.359412408612103  \n",
       "  0.16454603970531606\n",
       "  0.21325342681426226\n",
       "  0.6998844119461762 "
      ]
     },
     "execution_count": 21,
     "metadata": {},
     "output_type": "execute_result"
    }
   ],
   "source": [
    "@time (EnS.S[1]+EnS.S[2]+EnS.S[3]+EnS.S[4])/4"
   ]
  },
  {
   "cell_type": "code",
   "execution_count": 22,
   "metadata": {},
   "outputs": [
    {
     "data": {
      "text/plain": [
       "10-element Array{Float64,1}:\n",
       "  0.01287947145794821\n",
       "  0.6681571160058574 \n",
       "  0.6397420518901215 \n",
       " -0.17396843980891674\n",
       " -0.7197149599083105 \n",
       " -0.6788498111208523 \n",
       "  0.359412408612103  \n",
       "  0.16454603970531606\n",
       "  0.21325342681426226\n",
       "  0.6998844119461762 "
      ]
     },
     "execution_count": 22,
     "metadata": {},
     "output_type": "execute_result"
    }
   ],
   "source": [
    "mean(EnS)"
   ]
  },
  {
   "cell_type": "code",
   "execution_count": 24,
   "metadata": {},
   "outputs": [
    {
     "data": {
      "text/plain": [
       "EnsembleState{4,Array{Float64,1}}"
      ]
     },
     "execution_count": 24,
     "metadata": {},
     "output_type": "execute_result"
    }
   ],
   "source": []
  },
  {
   "cell_type": "code",
   "execution_count": null,
   "metadata": {},
   "outputs": [],
   "source": []
  }
 ],
 "metadata": {
  "@webio": {
   "lastCommId": null,
   "lastKernelId": null
  },
  "kernelspec": {
   "display_name": "Julia 1.1.1",
   "language": "julia",
   "name": "julia-1.1"
  },
  "language_info": {
   "file_extension": ".jl",
   "mimetype": "application/julia",
   "name": "julia",
   "version": "1.1.1"
  }
 },
 "nbformat": 4,
 "nbformat_minor": 2
}
