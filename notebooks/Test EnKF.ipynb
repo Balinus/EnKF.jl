{
 "cells": [
  {
   "cell_type": "code",
   "execution_count": 37,
   "metadata": {},
   "outputs": [
    {
     "data": {
      "text/plain": [
       "\"/media/mat/HDD/EnKF/Project.toml\""
      ]
     },
     "execution_count": 37,
     "metadata": {},
     "output_type": "execute_result"
    }
   ],
   "source": [
    "using Pkg\n",
    "Pkg.activate(\"/media/mat/HDD/EnKF/\")"
   ]
  },
  {
   "cell_type": "code",
   "execution_count": 38,
   "metadata": {},
   "outputs": [],
   "source": [
    "using Revise\n",
    "using EnKF\n",
    "using Distributions\n",
    "using LinearAlgebra"
   ]
  },
  {
   "cell_type": "code",
   "execution_count": 39,
   "metadata": {},
   "outputs": [
    {
     "data": {
      "text/plain": [
       "RealMeasurementFunction()"
      ]
     },
     "execution_count": 39,
     "metadata": {},
     "output_type": "execute_result"
    }
   ],
   "source": [
    "f = PropagationFunction()\n",
    "m = MeasurementFunction()\n",
    "z = RealMeasurementFunction()"
   ]
  },
  {
   "cell_type": "code",
   "execution_count": 40,
   "metadata": {},
   "outputs": [],
   "source": [
    "function (::PropagationFunction)(t::Float64, ENS::EnsembleState{N, NS, TS}) where {N, NS, TS}\n",
    "    return ENS  \n",
    "end"
   ]
  },
  {
   "cell_type": "code",
   "execution_count": 41,
   "metadata": {},
   "outputs": [],
   "source": [
    "function (::MeasurementFunction)(t::Float64, mENS::EnsembleState{N, NZ, TZ},  ENS::EnsembleState{N, NS, TS}) where {N, NS, TS, NZ, TZ}\n",
    "    fill!(mENS, 1.01*ones(NZ))\n",
    "    return mENS\n",
    "end"
   ]
  },
  {
   "cell_type": "code",
   "execution_count": 42,
   "metadata": {},
   "outputs": [],
   "source": [
    "function (::MeasurementFunction)(t::Float64, S::Array{TS,1}) where {TS}\n",
    "    return 1.05*ones(NZ)\n",
    "end"
   ]
  },
  {
   "cell_type": "code",
   "execution_count": 43,
   "metadata": {},
   "outputs": [],
   "source": [
    "function (::RealMeasurementFunction)(t::Float64, zENS::EnsembleState{N, NZ, TZ}) where {N, NZ, TZ} \n",
    "    fill!(zENS, 1.01*ones(NZ))\n",
    "    return zENS\n",
    "end"
   ]
  },
  {
   "cell_type": "code",
   "execution_count": null,
   "metadata": {},
   "outputs": [],
   "source": []
  },
  {
   "cell_type": "markdown",
   "metadata": {},
   "source": [
    "#### Ensemble Kalman filter"
   ]
  },
  {
   "cell_type": "code",
   "execution_count": 44,
   "metadata": {},
   "outputs": [
    {
     "data": {
      "text/plain": [
       "false"
      ]
     },
     "execution_count": 44,
     "metadata": {},
     "output_type": "execute_result"
    }
   ],
   "source": [
    "N = 10\n",
    "NS = 3\n",
    "TS = Float64\n",
    "NZ = 5\n",
    "TZ = Float64\n",
    "β = MultiplicativeInflation(NS, 1.01)\n",
    "ϵ = AdditiveInflation(NZ)\n",
    "isinflated = true\n",
    "isaugmented = false"
   ]
  },
  {
   "cell_type": "code",
   "execution_count": 66,
   "metadata": {},
   "outputs": [
    {
     "data": {
      "text/plain": [
       "ENKF{10,Float64,5,Float64}(PropagationFunction(), MultiplicativeInflation{3}(1.01), MeasurementFunction(), RealMeasurementFunction(), AdditiveInflation{5}(IsoNormal(\n",
       "dim: 5\n",
       "μ: [0.0, 0.0, 0.0, 0.0, 0.0]\n",
       "Σ: [1.0 0.0 … 0.0 0.0; 0.0 1.0 … 0.0 0.0; … ; 0.0 0.0 … 1.0 0.0; 0.0 0.0 … 0.0 1.0]\n",
       ")\n",
       "), true, false)"
      ]
     },
     "execution_count": 66,
     "metadata": {},
     "output_type": "execute_result"
    }
   ],
   "source": [
    "enkf = ENKF{N, TS, NZ, TZ}(f, β, m, z, ϵ, isinflated, isaugmented)"
   ]
  },
  {
   "cell_type": "code",
   "execution_count": 67,
   "metadata": {},
   "outputs": [
    {
     "data": {
      "text/plain": [
       "EnsembleState{10,3,Float64}(Array{Float64,1}[[0.0, 0.0, 0.0], [0.0, 0.0, 0.0], [0.0, 0.0, 0.0], [0.0, 0.0, 0.0], [0.0, 0.0, 0.0], [0.0, 0.0, 0.0], [0.0, 0.0, 0.0], [0.0, 0.0, 0.0], [0.0, 0.0, 0.0], [0.0, 0.0, 0.0]])"
      ]
     },
     "execution_count": 67,
     "metadata": {},
     "output_type": "execute_result"
    }
   ],
   "source": [
    "ens = EnsembleState(N, NS)"
   ]
  },
  {
   "cell_type": "markdown",
   "metadata": {},
   "source": [
    "#### Initialize each ensemble member"
   ]
  },
  {
   "cell_type": "code",
   "execution_count": 68,
   "metadata": {},
   "outputs": [
    {
     "data": {
      "text/plain": [
       "EnsembleState{10,3,Float64}(Array{Float64,1}[[-1.66471, 0.676053, -1.22097], [-0.0266453, 2.29579, -0.686862], [0.138188, -0.505176, 0.193189], [0.200068, -2.16938, -0.319361], [-0.531064, 1.50317, 0.510158], [1.06139, 1.14497, 1.85255], [0.318791, -0.871691, -0.961866], [-0.0828105, -0.133427, 0.211076], [1.61859, 0.80286, 0.523287], [-1.81119, 0.951695, 0.684395]])"
      ]
     },
     "execution_count": 68,
     "metadata": {},
     "output_type": "execute_result"
    }
   ],
   "source": [
    "initialize(ens)"
   ]
  },
  {
   "cell_type": "markdown",
   "metadata": {},
   "source": [
    "#### Propagate each ensemble member"
   ]
  },
  {
   "cell_type": "code",
   "execution_count": 69,
   "metadata": {},
   "outputs": [
    {
     "data": {
      "text/plain": [
       "EnsembleState{10,3,Float64}(Array{Float64,1}[[-1.66471, 0.676053, -1.22097], [-0.0266453, 2.29579, -0.686862], [0.138188, -0.505176, 0.193189], [0.200068, -2.16938, -0.319361], [-0.531064, 1.50317, 0.510158], [1.06139, 1.14497, 1.85255], [0.318791, -0.871691, -0.961866], [-0.0828105, -0.133427, 0.211076], [1.61859, 0.80286, 0.523287], [-1.81119, 0.951695, 0.684395]])"
      ]
     },
     "execution_count": 69,
     "metadata": {},
     "output_type": "execute_result"
    }
   ],
   "source": [
    "enkf.f(0.0, ens)"
   ]
  },
  {
   "cell_type": "markdown",
   "metadata": {},
   "source": [
    "#### Apply convariance inflation"
   ]
  },
  {
   "cell_type": "code",
   "execution_count": 70,
   "metadata": {},
   "outputs": [
    {
     "data": {
      "text/plain": [
       "EnsembleState{10,3,Float64}(Array{Float64,1}[[-1.68058, 0.679119, -1.23396], [-0.0261324, 2.31505, -0.694516], [0.140349, -0.513923, 0.194335], [0.202848, -2.19476, -0.323341], [-0.535595, 1.5145, 0.514474], [1.07279, 1.15272, 1.87029], [0.322758, -0.884103, -0.97227], [-0.0828592, -0.138456, 0.212402], [1.63555, 0.807194, 0.527735], [-1.82852, 0.957517, 0.690453]])"
      ]
     },
     "execution_count": 70,
     "metadata": {},
     "output_type": "execute_result"
    }
   ],
   "source": [
    "if isinflated ==true\n",
    "        enkf.A(ens)\n",
    "end"
   ]
  },
  {
   "cell_type": "code",
   "execution_count": 71,
   "metadata": {},
   "outputs": [
    {
     "data": {
      "text/plain": [
       "EnsembleState{10,3,Float64}(Array{Float64,1}[[-1.68058, 0.679119, -1.23396], [-0.0261324, 2.31505, -0.694516], [0.140349, -0.513923, 0.194335], [0.202848, -2.19476, -0.323341], [-0.535595, 1.5145, 0.514474], [1.07279, 1.15272, 1.87029], [0.322758, -0.884103, -0.97227], [-0.0828592, -0.138456, 0.212402], [1.63555, 0.807194, 0.527735], [-1.82852, 0.957517, 0.690453]])"
      ]
     },
     "execution_count": 71,
     "metadata": {},
     "output_type": "execute_result"
    }
   ],
   "source": [
    "ens"
   ]
  },
  {
   "cell_type": "markdown",
   "metadata": {},
   "source": [
    "#### Compute mean and deviation"
   ]
  },
  {
   "cell_type": "code",
   "execution_count": 72,
   "metadata": {},
   "outputs": [
    {
     "data": {
      "text/plain": [
       "3-element Array{Float64,1}:\n",
       " -0.07793972916534782\n",
       "  0.3694865307017862 \n",
       "  0.07855973997475506"
      ]
     },
     "execution_count": 72,
     "metadata": {},
     "output_type": "execute_result"
    }
   ],
   "source": [
    "Ŝ = deepcopy(mean(ens))"
   ]
  },
  {
   "cell_type": "code",
   "execution_count": 73,
   "metadata": {},
   "outputs": [
    {
     "data": {
      "text/plain": [
       "3×10 Array{Float64,2}:\n",
       " -1.60264    0.0518074   0.218289  …  -0.00491949  1.71349   -1.75058 \n",
       "  0.309632   1.94557    -0.88341      -0.507943    0.437707   0.58803 \n",
       " -1.31252   -0.773076    0.115775      0.133842    0.449175   0.611893"
      ]
     },
     "execution_count": 73,
     "metadata": {},
     "output_type": "execute_result"
    }
   ],
   "source": [
    "ensfluc = EnsembleState(size(ens))\n",
    "\n",
    "deviation(ensfluc, ens)\n",
    "A′ = hcat(ensfluc)"
   ]
  },
  {
   "cell_type": "markdown",
   "metadata": {},
   "source": [
    "#### Compute measurement"
   ]
  },
  {
   "cell_type": "code",
   "execution_count": 74,
   "metadata": {},
   "outputs": [
    {
     "data": {
      "text/plain": [
       "5×10 Array{Float64,2}:\n",
       " 1.01  1.01  1.01  1.01  1.01  1.01  1.01  1.01  1.01  1.01\n",
       " 1.01  1.01  1.01  1.01  1.01  1.01  1.01  1.01  1.01  1.01\n",
       " 1.01  1.01  1.01  1.01  1.01  1.01  1.01  1.01  1.01  1.01\n",
       " 1.01  1.01  1.01  1.01  1.01  1.01  1.01  1.01  1.01  1.01\n",
       " 1.01  1.01  1.01  1.01  1.01  1.01  1.01  1.01  1.01  1.01"
      ]
     },
     "execution_count": 74,
     "metadata": {},
     "output_type": "execute_result"
    }
   ],
   "source": [
    "mens = EnsembleState((N, NZ))\n",
    "enkf.m(0.0, mens, ens)\n",
    "Â = hcat(deepcopy(mens))"
   ]
  },
  {
   "cell_type": "markdown",
   "metadata": {},
   "source": [
    "#### Compute deviation from measurement of the mean"
   ]
  },
  {
   "cell_type": "code",
   "execution_count": 75,
   "metadata": {},
   "outputs": [
    {
     "data": {
      "text/plain": [
       "5×10 Array{Float64,2}:\n",
       " -0.04  -0.04  -0.04  -0.04  -0.04  -0.04  -0.04  -0.04  -0.04  -0.04\n",
       " -0.04  -0.04  -0.04  -0.04  -0.04  -0.04  -0.04  -0.04  -0.04  -0.04\n",
       " -0.04  -0.04  -0.04  -0.04  -0.04  -0.04  -0.04  -0.04  -0.04  -0.04\n",
       " -0.04  -0.04  -0.04  -0.04  -0.04  -0.04  -0.04  -0.04  -0.04  -0.04\n",
       " -0.04  -0.04  -0.04  -0.04  -0.04  -0.04  -0.04  -0.04  -0.04  -0.04"
      ]
     },
     "execution_count": 75,
     "metadata": {},
     "output_type": "execute_result"
    }
   ],
   "source": [
    "Â′  = Â .- enkf.m(0.0, mean(ens))"
   ]
  },
  {
   "cell_type": "markdown",
   "metadata": {},
   "source": [
    "#### Get actual measurements"
   ]
  },
  {
   "cell_type": "code",
   "execution_count": 76,
   "metadata": {},
   "outputs": [
    {
     "data": {
      "text/plain": [
       "EnsembleState{10,5,Float64}(Array{Float64,1}[[1.01, 1.01, 1.01, 1.01, 1.01], [1.01, 1.01, 1.01, 1.01, 1.01], [1.01, 1.01, 1.01, 1.01, 1.01], [1.01, 1.01, 1.01, 1.01, 1.01], [1.01, 1.01, 1.01, 1.01, 1.01], [1.01, 1.01, 1.01, 1.01, 1.01], [1.01, 1.01, 1.01, 1.01, 1.01], [1.01, 1.01, 1.01, 1.01, 1.01], [1.01, 1.01, 1.01, 1.01, 1.01], [1.01, 1.01, 1.01, 1.01, 1.01]])"
      ]
     },
     "execution_count": 76,
     "metadata": {},
     "output_type": "execute_result"
    }
   ],
   "source": [
    "zens = EnsembleState((N, NZ))\n",
    "M = 1.01*ones(NZ)\n",
    "enkf.z(0.0, zens)"
   ]
  },
  {
   "cell_type": "code",
   "execution_count": 77,
   "metadata": {},
   "outputs": [
    {
     "data": {
      "text/plain": [
       "EnsembleState{10,5,Float64}(Array{Float64,1}[[1.01, 1.01, 1.01, 1.01, 1.01], [1.01, 1.01, 1.01, 1.01, 1.01], [1.01, 1.01, 1.01, 1.01, 1.01], [1.01, 1.01, 1.01, 1.01, 1.01], [1.01, 1.01, 1.01, 1.01, 1.01], [1.01, 1.01, 1.01, 1.01, 1.01], [1.01, 1.01, 1.01, 1.01, 1.01], [1.01, 1.01, 1.01, 1.01, 1.01], [1.01, 1.01, 1.01, 1.01, 1.01], [1.01, 1.01, 1.01, 1.01, 1.01]])"
      ]
     },
     "execution_count": 77,
     "metadata": {},
     "output_type": "execute_result"
    }
   ],
   "source": [
    "zens"
   ]
  },
  {
   "cell_type": "markdown",
   "metadata": {},
   "source": [
    "#### Perturb actual measurement"
   ]
  },
  {
   "cell_type": "code",
   "execution_count": 78,
   "metadata": {},
   "outputs": [
    {
     "data": {
      "text/plain": [
       "EnsembleState{10,5,Float64}(Array{Float64,1}[[0.171374, 0.0713985, 1.46292, 0.528676, 1.38181], [1.20128, 0.0604121, 1.58649, 0.874224, 1.43439], [3.2031, 0.640649, 0.524665, 0.642677, 1.65493], [0.230927, 2.02628, 0.641645, 0.951238, 0.726476], [1.49078, 0.487333, 0.476496, 0.261838, 0.285854], [-0.0252117, 0.48012, -0.143654, 0.134917, 0.709577], [-0.00502122, -0.238678, 0.47087, 0.0564351, 1.74913], [1.35316, 2.22454, 1.64712, 0.887743, 1.52322], [1.49455, 1.3144, 1.23636, 1.35456, -0.972444], [0.26295, 1.68819, -0.585303, 1.77463, 1.60714]])"
      ]
     },
     "execution_count": 78,
     "metadata": {},
     "output_type": "execute_result"
    }
   ],
   "source": [
    "ϵ(zens)"
   ]
  },
  {
   "cell_type": "markdown",
   "metadata": {},
   "source": [
    "#### Construct representer matrix and vectors"
   ]
  },
  {
   "cell_type": "code",
   "execution_count": 79,
   "metadata": {},
   "outputs": [
    {
     "data": {
      "text/plain": [
       "5×10 Array{Float64,2}:\n",
       " 0.171374   1.20128    3.2031    0.230927  …  1.35316    1.49455    0.26295 \n",
       " 0.0713985  0.0604121  0.640649  2.02628      2.22454    1.3144     1.68819 \n",
       " 1.46292    1.58649    0.524665  0.641645     1.64712    1.23636   -0.585303\n",
       " 0.528676   0.874224   0.642677  0.951238     0.887743   1.35456    1.77463 \n",
       " 1.38181    1.43439    1.65493   0.726476     1.52322   -0.972444   1.60714 "
      ]
     },
     "execution_count": 79,
     "metadata": {},
     "output_type": "execute_result"
    }
   ],
   "source": [
    "D = hcat(zens)"
   ]
  },
  {
   "cell_type": "code",
   "execution_count": 80,
   "metadata": {},
   "outputs": [
    {
     "data": {
      "text/plain": [
       "5×5 Array{Float64,2}:\n",
       " 1.0  0.0  0.0  0.0  0.0\n",
       " 0.0  1.0  0.0  0.0  0.0\n",
       " 0.0  0.0  1.0  0.0  0.0\n",
       " 0.0  0.0  0.0  1.0  0.0\n",
       " 0.0  0.0  0.0  0.0  1.0"
      ]
     },
     "execution_count": 80,
     "metadata": {},
     "output_type": "execute_result"
    }
   ],
   "source": [
    "cov(ϵ)"
   ]
  },
  {
   "cell_type": "code",
   "execution_count": 81,
   "metadata": {},
   "outputs": [
    {
     "data": {
      "text/plain": [
       "5×5 Array{Float64,2}:\n",
       " 9.016  0.016  0.016  0.016  0.016\n",
       " 0.016  9.016  0.016  0.016  0.016\n",
       " 0.016  0.016  9.016  0.016  0.016\n",
       " 0.016  0.016  0.016  9.016  0.016\n",
       " 0.016  0.016  0.016  0.016  9.016"
      ]
     },
     "execution_count": 81,
     "metadata": {},
     "output_type": "execute_result"
    }
   ],
   "source": [
    "(Â′*Â′') + (N-1)*cov(ϵ)*I"
   ]
  },
  {
   "cell_type": "code",
   "execution_count": 82,
   "metadata": {},
   "outputs": [
    {
     "name": "stdout",
     "output_type": "stream",
     "text": [
      "  0.817178 seconds (3.41 M allocations: 162.344 MiB, 5.45% gc time)\n"
     ]
    },
    {
     "data": {
      "text/plain": [
       "5×10 Array{Float64,2}:\n",
       " -0.0928999   0.0212323   0.243362   …   0.0376229   0.0539612  -0.0829464\n",
       " -0.104008   -0.105531   -0.0413554      0.134443    0.0339437   0.0754138\n",
       "  0.0506054   0.0640331  -0.0542425      0.0702851   0.0252735  -0.177197 \n",
       " -0.0531997  -0.0151072  -0.0411301     -0.0140904   0.0384059   0.0850181\n",
       "  0.0415925   0.047134    0.071342       0.0565179  -0.22015     0.0664076"
      ]
     },
     "execution_count": 82,
     "metadata": {},
     "output_type": "execute_result"
    }
   ],
   "source": [
    "@time b = ((Â′*Â′') + (N-1)*cov(ϵ)*I) \\ (D - Â)"
   ]
  },
  {
   "cell_type": "code",
   "execution_count": 83,
   "metadata": {},
   "outputs": [
    {
     "name": "stdout",
     "output_type": "stream",
     "text": [
      "  0.003094 seconds (4.05 k allocations: 225.549 KiB)\n"
     ]
    },
    {
     "data": {
      "text/plain": [
       "3×10 Array{Float64,2}:\n",
       " -7.92192e-19   5.90044e-20   8.92857e-19  …  -3.43974e-19  -1.67075e-19\n",
       "  1.08555e-18  -8.08542e-20  -1.22349e-18      4.71351e-19   2.28944e-19\n",
       " -1.51988e-18   1.13205e-19   1.71302e-18     -6.59941e-19  -3.20547e-19"
      ]
     },
     "execution_count": 83,
     "metadata": {},
     "output_type": "execute_result"
    }
   ],
   "source": [
    "@time Bᵀb = (A′*Â′')*b"
   ]
  },
  {
   "cell_type": "markdown",
   "metadata": {},
   "source": [
    "#### Analysis step"
   ]
  },
  {
   "cell_type": "code",
   "execution_count": 84,
   "metadata": {},
   "outputs": [
    {
     "data": {
      "text/plain": [
       "EnsembleState{10,3,Float64}(Array{Float64,1}[[-1.68058, 0.679119, -1.23396], [-0.0261324, 2.31505, -0.694516], [0.140349, -0.513923, 0.194335], [0.202848, -2.19476, -0.323341], [-0.535595, 1.5145, 0.514474], [1.07279, 1.15272, 1.87029], [0.322758, -0.884103, -0.97227], [-0.0828592, -0.138456, 0.212402], [1.63555, 0.807194, 0.527735], [-1.82852, 0.957517, 0.690453]])"
      ]
     },
     "execution_count": 84,
     "metadata": {},
     "output_type": "execute_result"
    }
   ],
   "source": [
    "ens  += cut(Bᵀb)"
   ]
  },
  {
   "cell_type": "code",
   "execution_count": 112,
   "metadata": {},
   "outputs": [
    {
     "data": {
      "text/plain": [
       "TupleProduct{2,Continuous,Tuple{Normal{Float64},Truncated{Normal{Float64},Continuous}}}(\n",
       "v: (Normal{Float64}(μ=0.0, σ=1.0), Truncated(Normal{Float64}(μ=0.0, σ=1.0), range=(-0.1, 0.1)))\n",
       ")\n"
      ]
     },
     "execution_count": 112,
     "metadata": {},
     "output_type": "execute_result"
    }
   ],
   "source": [
    "TP = TupleProduct((Normal(), TruncatedNormal(0.0,1.0,-0.1,0.1)))"
   ]
  },
  {
   "cell_type": "code",
   "execution_count": 111,
   "metadata": {},
   "outputs": [
    {
     "data": {
      "text/plain": [
       "true"
      ]
     },
     "execution_count": 111,
     "metadata": {},
     "output_type": "execute_result"
    }
   ],
   "source": [
    "typeof(TP)<:MultivariateDistribution"
   ]
  },
  {
   "cell_type": "code",
   "execution_count": null,
   "metadata": {},
   "outputs": [],
   "source": []
  },
  {
   "cell_type": "code",
   "execution_count": null,
   "metadata": {},
   "outputs": [],
   "source": []
  },
  {
   "cell_type": "code",
   "execution_count": null,
   "metadata": {},
   "outputs": [],
   "source": []
  },
  {
   "cell_type": "code",
   "execution_count": null,
   "metadata": {},
   "outputs": [],
   "source": []
  },
  {
   "cell_type": "code",
   "execution_count": null,
   "metadata": {},
   "outputs": [],
   "source": []
  },
  {
   "cell_type": "code",
   "execution_count": null,
   "metadata": {},
   "outputs": [],
   "source": []
  }
 ],
 "metadata": {
  "@webio": {
   "lastCommId": null,
   "lastKernelId": null
  },
  "kernelspec": {
   "display_name": "Julia 1.1.1",
   "language": "julia",
   "name": "julia-1.1"
  },
  "language_info": {
   "file_extension": ".jl",
   "mimetype": "application/julia",
   "name": "julia",
   "version": "1.1.1"
  }
 },
 "nbformat": 4,
 "nbformat_minor": 2
}
