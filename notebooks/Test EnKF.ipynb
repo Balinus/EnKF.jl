{
 "cells": [
  {
   "cell_type": "code",
   "execution_count": 1,
   "metadata": {},
   "outputs": [
    {
     "data": {
      "text/plain": [
       "\"/media/mat/HDD/EnKF/Project.toml\""
      ]
     },
     "execution_count": 1,
     "metadata": {},
     "output_type": "execute_result"
    }
   ],
   "source": [
    "using Pkg\n",
    "Pkg.activate(\"/media/mat/HDD/EnKF/\")"
   ]
  },
  {
   "cell_type": "code",
   "execution_count": 2,
   "metadata": {},
   "outputs": [
    {
     "name": "stderr",
     "output_type": "stream",
     "text": [
      "┌ Info: Recompiling stale cache file /home/mat/.julia/compiled/v1.1/EnKF/oXK06.ji for EnKF [685896a8-a41b-11e9-3419-3315e75b5d74]\n",
      "└ @ Base loading.jl:1184\n"
     ]
    }
   ],
   "source": [
    "using Revise\n",
    "using EnKF\n",
    "using Distributions\n",
    "using LinearAlgebra"
   ]
  },
  {
   "cell_type": "code",
   "execution_count": 3,
   "metadata": {},
   "outputs": [
    {
     "data": {
      "text/plain": [
       "RealMeasurementFunction()"
      ]
     },
     "execution_count": 3,
     "metadata": {},
     "output_type": "execute_result"
    }
   ],
   "source": [
    "f = PropagationFunction()\n",
    "m = MeasurementFunction()\n",
    "z = RealMeasurementFunction()"
   ]
  },
  {
   "cell_type": "code",
   "execution_count": 4,
   "metadata": {},
   "outputs": [],
   "source": [
    "function (::PropagationFunction)(t::Float64, ENS::EnsembleState{N, NS, TS}) where {N, NS, TS}\n",
    "    return ENS  \n",
    "end"
   ]
  },
  {
   "cell_type": "code",
   "execution_count": 5,
   "metadata": {},
   "outputs": [],
   "source": [
    "function (::MeasurementFunction)(mENS::EnsembleState{N, NZ, TZ}, t::Float64, ENS::EnsembleState{N, NS, TS}) where {N, NS, TS, NZ, TZ}\n",
    "    mENS.S = deepcopy(ENS.S)\n",
    "    return mENS\n",
    "end"
   ]
  },
  {
   "cell_type": "code",
   "execution_count": 6,
   "metadata": {},
   "outputs": [],
   "source": [
    "function (::RealMeasurementFunction)(t::Float64, zENS::EnsembleState{N, NZ, TZ}) where {N, NZ, TZ} \n",
    "    fill!(zENS, 1.01*ones(NZ))\n",
    "    return zENS\n",
    "end"
   ]
  },
  {
   "cell_type": "code",
   "execution_count": null,
   "metadata": {},
   "outputs": [],
   "source": []
  },
  {
   "cell_type": "markdown",
   "metadata": {},
   "source": [
    "#### Ensemble Kalman filter"
   ]
  },
  {
   "cell_type": "code",
   "execution_count": 7,
   "metadata": {},
   "outputs": [
    {
     "data": {
      "text/plain": [
       "false"
      ]
     },
     "execution_count": 7,
     "metadata": {},
     "output_type": "execute_result"
    }
   ],
   "source": [
    "N = 10\n",
    "NS = 3\n",
    "TS = Float64\n",
    "NZ = 5\n",
    "TZ = Float64\n",
    "β = MultiplicativeInflation(NS, 1.01)\n",
    "ϵ = AdditiveInflation(NZ)\n",
    "isinflated = true\n",
    "isaugmented = false"
   ]
  },
  {
   "cell_type": "code",
   "execution_count": 8,
   "metadata": {},
   "outputs": [
    {
     "data": {
      "text/plain": [
       "Ensemble Kalman filter with 10 members of state of length 3 and measurement vector of length 5"
      ]
     },
     "execution_count": 8,
     "metadata": {},
     "output_type": "execute_result"
    }
   ],
   "source": [
    "enkf = ENKF{N, NS, TS, NZ, TZ}(f, β, m, z, ϵ, isinflated, isaugmented)"
   ]
  },
  {
   "cell_type": "code",
   "execution_count": 9,
   "metadata": {},
   "outputs": [
    {
     "data": {
      "text/plain": [
       "EnsembleState{10,3,Float64}(Array{Float64,1}[[0.0, 0.0, 0.0], [0.0, 0.0, 0.0], [0.0, 0.0, 0.0], [0.0, 0.0, 0.0], [0.0, 0.0, 0.0], [0.0, 0.0, 0.0], [0.0, 0.0, 0.0], [0.0, 0.0, 0.0], [0.0, 0.0, 0.0], [0.0, 0.0, 0.0]])"
      ]
     },
     "execution_count": 9,
     "metadata": {},
     "output_type": "execute_result"
    }
   ],
   "source": [
    "ens = EnsembleState(N, NS)"
   ]
  },
  {
   "cell_type": "markdown",
   "metadata": {},
   "source": [
    "#### Initialize each ensemble member"
   ]
  },
  {
   "cell_type": "code",
   "execution_count": 10,
   "metadata": {},
   "outputs": [
    {
     "data": {
      "text/plain": [
       "EnsembleState{10,3,Float64}(Array{Float64,1}[[0.138801, -0.986181, -0.188581], [1.32526, -1.25546, -0.601766], [0.0300435, -0.0192722, -0.0954117], [0.45884, -0.0435563, 0.533749], [-0.208217, 1.89932, 0.721332], [0.462211, 0.521487, 1.502], [-0.0911438, -0.456173, -0.296743], [-1.88015, -1.01921, 1.94349], [-1.54495, 0.229317, 0.269998], [0.747688, 0.405674, 0.247686]])"
      ]
     },
     "execution_count": 10,
     "metadata": {},
     "output_type": "execute_result"
    }
   ],
   "source": [
    "initialize(ens)"
   ]
  },
  {
   "cell_type": "markdown",
   "metadata": {},
   "source": [
    "#### Propagate each ensemble member"
   ]
  },
  {
   "cell_type": "code",
   "execution_count": 11,
   "metadata": {},
   "outputs": [
    {
     "data": {
      "text/plain": [
       "EnsembleState{10,3,Float64}(Array{Float64,1}[[0.138801, -0.986181, -0.188581], [1.32526, -1.25546, -0.601766], [0.0300435, -0.0192722, -0.0954117], [0.45884, -0.0435563, 0.533749], [-0.208217, 1.89932, 0.721332], [0.462211, 0.521487, 1.502], [-0.0911438, -0.456173, -0.296743], [-1.88015, -1.01921, 1.94349], [-1.54495, 0.229317, 0.269998], [0.747688, 0.405674, 0.247686]])"
      ]
     },
     "execution_count": 11,
     "metadata": {},
     "output_type": "execute_result"
    }
   ],
   "source": [
    "enkf.f(0.0, ens)"
   ]
  },
  {
   "cell_type": "markdown",
   "metadata": {},
   "source": [
    "#### Apply convariance inflation"
   ]
  },
  {
   "cell_type": "code",
   "execution_count": 12,
   "metadata": {},
   "outputs": [
    {
     "data": {
      "text/plain": [
       "EnsembleState{10,3,Float64}(Array{Float64,1}[[0.140751, -0.995319, -0.194503], [1.33908, -1.26729, -0.611819], [0.0309055, -0.0187409, -0.100402], [0.46399, -0.0432678, 0.535051], [-0.209737, 1.91904, 0.72451], [0.467395, 0.527426, 1.51299], [-0.0914936, -0.460011, -0.303746], [-1.89839, -1.02868, 1.95889], [-1.55984, 0.232334, 0.268662], [0.755727, 0.410455, 0.246127]])"
      ]
     },
     "execution_count": 12,
     "metadata": {},
     "output_type": "execute_result"
    }
   ],
   "source": [
    "if isinflated ==true\n",
    "        enkf.A(ens)\n",
    "end"
   ]
  },
  {
   "cell_type": "code",
   "execution_count": 13,
   "metadata": {},
   "outputs": [
    {
     "data": {
      "text/plain": [
       "EnsembleState{10,3,Float64}(Array{Float64,1}[[0.140751, -0.995319, -0.194503], [1.33908, -1.26729, -0.611819], [0.0309055, -0.0187409, -0.100402], [0.46399, -0.0432678, 0.535051], [-0.209737, 1.91904, 0.72451], [0.467395, 0.527426, 1.51299], [-0.0914936, -0.460011, -0.303746], [-1.89839, -1.02868, 1.95889], [-1.55984, 0.232334, 0.268662], [0.755727, 0.410455, 0.246127]])"
      ]
     },
     "execution_count": 13,
     "metadata": {},
     "output_type": "execute_result"
    }
   ],
   "source": [
    "ens"
   ]
  },
  {
   "cell_type": "markdown",
   "metadata": {},
   "source": [
    "#### Compute mean and deviation"
   ]
  },
  {
   "cell_type": "code",
   "execution_count": 14,
   "metadata": {},
   "outputs": [
    {
     "data": {
      "text/plain": [
       "3-element Array{Float64,1}:\n",
       " -0.05616171499301452\n",
       " -0.07240528977073273\n",
       "  0.4035761270347226 "
      ]
     },
     "execution_count": 14,
     "metadata": {},
     "output_type": "execute_result"
    }
   ],
   "source": [
    "Ŝ = deepcopy(mean(ens))"
   ]
  },
  {
   "cell_type": "code",
   "execution_count": 15,
   "metadata": {},
   "outputs": [
    {
     "data": {
      "text/plain": [
       "EnsembleState{10,3,Float64}(Array{Float64,1}[[0.196912, -0.922914, -0.598079], [1.39524, -1.19488, -1.0154], [0.0870672, 0.0536644, -0.503978], [0.520152, 0.0291375, 0.131475], [-0.153576, 1.99144, 0.320934], [0.523556, 0.599831, 1.10941], [-0.0353319, -0.387605, -0.707323], [-1.84223, -0.956273, 1.55532], [-1.50368, 0.30474, -0.134914], [0.811888, 0.48286, -0.157449]])"
      ]
     },
     "execution_count": 15,
     "metadata": {},
     "output_type": "execute_result"
    }
   ],
   "source": [
    "ensfluc = EnsembleState(size(ens))\n",
    "\n",
    "deviation(ensfluc, ens)"
   ]
  },
  {
   "cell_type": "markdown",
   "metadata": {},
   "source": [
    "#### Compute measurement"
   ]
  },
  {
   "cell_type": "code",
   "execution_count": 16,
   "metadata": {},
   "outputs": [
    {
     "data": {
      "text/plain": [
       "EnsembleState{10,5,Float64}(Array{Float64,1}[[0.140751, -0.995319, -0.194503], [1.33908, -1.26729, -0.611819], [0.0309055, -0.0187409, -0.100402], [0.46399, -0.0432678, 0.535051], [-0.209737, 1.91904, 0.72451], [0.467395, 0.527426, 1.51299], [-0.0914936, -0.460011, -0.303746], [-1.89839, -1.02868, 1.95889], [-1.55984, 0.232334, 0.268662], [0.755727, 0.410455, 0.246127]])"
      ]
     },
     "execution_count": 16,
     "metadata": {},
     "output_type": "execute_result"
    }
   ],
   "source": [
    "mens = EnsembleState((N, NZ))\n",
    "enkf.m(mens, 0.0, ens)"
   ]
  },
  {
   "cell_type": "code",
   "execution_count": 17,
   "metadata": {},
   "outputs": [
    {
     "data": {
      "text/plain": [
       "EnsembleState{10,5,Float64}(Array{Float64,1}[[0.140751, -0.995319, -0.194503], [1.33908, -1.26729, -0.611819], [0.0309055, -0.0187409, -0.100402], [0.46399, -0.0432678, 0.535051], [-0.209737, 1.91904, 0.72451], [0.467395, 0.527426, 1.51299], [-0.0914936, -0.460011, -0.303746], [-1.89839, -1.02868, 1.95889], [-1.55984, 0.232334, 0.268662], [0.755727, 0.410455, 0.246127]])"
      ]
     },
     "execution_count": 17,
     "metadata": {},
     "output_type": "execute_result"
    }
   ],
   "source": [
    "mens"
   ]
  },
  {
   "cell_type": "markdown",
   "metadata": {},
   "source": [
    "#### Get actual measurements"
   ]
  },
  {
   "cell_type": "code",
   "execution_count": 18,
   "metadata": {},
   "outputs": [
    {
     "data": {
      "text/plain": [
       "EnsembleState{10,5,Float64}(Array{Float64,1}[[1.01, 1.01, 1.01, 1.01, 1.01], [1.01, 1.01, 1.01, 1.01, 1.01], [1.01, 1.01, 1.01, 1.01, 1.01], [1.01, 1.01, 1.01, 1.01, 1.01], [1.01, 1.01, 1.01, 1.01, 1.01], [1.01, 1.01, 1.01, 1.01, 1.01], [1.01, 1.01, 1.01, 1.01, 1.01], [1.01, 1.01, 1.01, 1.01, 1.01], [1.01, 1.01, 1.01, 1.01, 1.01], [1.01, 1.01, 1.01, 1.01, 1.01]])"
      ]
     },
     "execution_count": 18,
     "metadata": {},
     "output_type": "execute_result"
    }
   ],
   "source": [
    "zens = EnsembleState((N, NZ))\n",
    "M = 1.01*ones(NZ)\n",
    "enkf.z(0.0, zens)"
   ]
  },
  {
   "cell_type": "code",
   "execution_count": 19,
   "metadata": {},
   "outputs": [
    {
     "data": {
      "text/plain": [
       "EnsembleState{10,5,Float64}(Array{Float64,1}[[1.01, 1.01, 1.01, 1.01, 1.01], [1.01, 1.01, 1.01, 1.01, 1.01], [1.01, 1.01, 1.01, 1.01, 1.01], [1.01, 1.01, 1.01, 1.01, 1.01], [1.01, 1.01, 1.01, 1.01, 1.01], [1.01, 1.01, 1.01, 1.01, 1.01], [1.01, 1.01, 1.01, 1.01, 1.01], [1.01, 1.01, 1.01, 1.01, 1.01], [1.01, 1.01, 1.01, 1.01, 1.01], [1.01, 1.01, 1.01, 1.01, 1.01]])"
      ]
     },
     "execution_count": 19,
     "metadata": {},
     "output_type": "execute_result"
    }
   ],
   "source": [
    "zens"
   ]
  },
  {
   "cell_type": "markdown",
   "metadata": {},
   "source": [
    "#### Perturb actual measurement"
   ]
  },
  {
   "cell_type": "code",
   "execution_count": 20,
   "metadata": {},
   "outputs": [
    {
     "data": {
      "text/plain": [
       "EnsembleState{10,5,Float64}(Array{Float64,1}[[0.47175, 0.907683, 0.108962, 0.67561, 1.75469], [2.44987, 0.689625, 1.58392, 0.901195, 1.70813], [-0.0957805, 1.28899, 1.29763, 1.82718, -0.949305], [0.392392, 2.33904, 1.66593, 1.05584, 0.842593], [0.175119, -0.311121, 3.31287, 2.42079, 1.25574], [0.723421, -0.246045, -0.793788, 1.59683, 2.40609], [0.543545, 0.866952, 1.37806, 2.23697, 0.871422], [-0.297311, 1.39715, 2.73048, 2.89284, 1.55407], [1.34211, 1.03974, 1.56117, 0.145147, 1.89677], [1.20215, 0.628291, 0.884733, -0.262305, 0.62559]])"
      ]
     },
     "execution_count": 20,
     "metadata": {},
     "output_type": "execute_result"
    }
   ],
   "source": [
    "ϵ(zens)"
   ]
  },
  {
   "cell_type": "markdown",
   "metadata": {},
   "source": [
    "#### Construct representer matrix and vectors"
   ]
  },
  {
   "cell_type": "code",
   "execution_count": null,
   "metadata": {},
   "outputs": [],
   "source": []
  }
 ],
 "metadata": {
  "@webio": {
   "lastCommId": null,
   "lastKernelId": null
  },
  "kernelspec": {
   "display_name": "Julia 1.1.1",
   "language": "julia",
   "name": "julia-1.1"
  },
  "language_info": {
   "file_extension": ".jl",
   "mimetype": "application/julia",
   "name": "julia",
   "version": "1.1.1"
  }
 },
 "nbformat": 4,
 "nbformat_minor": 2
}
