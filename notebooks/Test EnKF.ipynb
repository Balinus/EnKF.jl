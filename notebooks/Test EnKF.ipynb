{
 "cells": [
  {
   "cell_type": "code",
   "execution_count": 9,
   "metadata": {},
   "outputs": [
    {
     "data": {
      "text/plain": [
       "\"/media/mat/HDD/EnKF/Project.toml\""
      ]
     },
     "execution_count": 9,
     "metadata": {},
     "output_type": "execute_result"
    }
   ],
   "source": [
    "using Pkg\n",
    "Pkg.activate(\"/media/mat/HDD/EnKF/\")"
   ]
  },
  {
   "cell_type": "code",
   "execution_count": 10,
   "metadata": {},
   "outputs": [
    {
     "name": "stderr",
     "output_type": "stream",
     "text": [
      "┌ Info: Precompiling EnKF [685896a8-a41b-11e9-3419-3315e75b5d74]\n",
      "└ @ Base loading.jl:1186\n",
      "ERROR: LoadError: LoadError: syntax: function argument and static parameter names must be distinct\n",
      "Stacktrace:\n",
      " [1] include at ./boot.jl:326 [inlined]\n",
      " [2] include_relative(::Module, ::String) at ./loading.jl:1038\n",
      " [3] include at ./sysimg.jl:29 [inlined]\n",
      " [4] include(::String) at /media/mat/HDD/EnKF/src/EnKF.jl:1\n",
      " [5] top-level scope at none:0\n",
      " [6] include at ./boot.jl:326 [inlined]\n",
      " [7] include_relative(::Module, ::String) at ./loading.jl:1038\n",
      " [8] include(::Module, ::String) at ./sysimg.jl:29\n",
      " [9] top-level scope at none:2\n",
      " [10] eval at ./boot.jl:328 [inlined]\n",
      " [11] eval(::Expr) at ./client.jl:404\n",
      " [12] top-level scope at ./none:3\n",
      "in expression starting at /media/mat/HDD/EnKF/src/state.jl:26\n",
      "in expression starting at /media/mat/HDD/EnKF/src/EnKF.jl:3\n"
     ]
    },
    {
     "ename": "ErrorException",
     "evalue": "Failed to precompile EnKF [685896a8-a41b-11e9-3419-3315e75b5d74] to /home/mat/.julia/compiled/v1.1/EnKF/oXK06.ji.",
     "output_type": "error",
     "traceback": [
      "Failed to precompile EnKF [685896a8-a41b-11e9-3419-3315e75b5d74] to /home/mat/.julia/compiled/v1.1/EnKF/oXK06.ji.",
      "",
      "Stacktrace:",
      " [1] error(::String) at ./error.jl:33",
      " [2] compilecache(::Base.PkgId, ::String) at ./loading.jl:1197",
      " [3] _require(::Base.PkgId) at ./loading.jl:960",
      " [4] require(::Base.PkgId) at ./loading.jl:858",
      " [5] require(::Module, ::Symbol) at ./loading.jl:853",
      " [6] top-level scope at In[10]:2"
     ]
    }
   ],
   "source": [
    "using Revise\n",
    "using EnKF\n",
    "using Distributions\n",
    "using LinearAlgebra"
   ]
  },
  {
   "cell_type": "code",
   "execution_count": 5,
   "metadata": {},
   "outputs": [
    {
     "data": {
      "text/plain": [
       "4"
      ]
     },
     "execution_count": 5,
     "metadata": {},
     "output_type": "execute_result"
    }
   ],
   "source": [
    "N = 4"
   ]
  },
  {
   "cell_type": "code",
   "execution_count": 5,
   "metadata": {},
   "outputs": [
    {
     "data": {
      "text/plain": [
       "()"
      ]
     },
     "execution_count": 5,
     "metadata": {},
     "output_type": "execute_result"
    }
   ],
   "source": [
    "fieldnames(Array{Float64,1})"
   ]
  },
  {
   "cell_type": "code",
   "execution_count": 8,
   "metadata": {},
   "outputs": [
    {
     "data": {
      "text/plain": [
       "Any"
      ]
     },
     "execution_count": 8,
     "metadata": {},
     "output_type": "execute_result"
    }
   ],
   "source": [
    "supertype(Tuple{Int64,Int64})"
   ]
  },
  {
   "cell_type": "code",
   "execution_count": 6,
   "metadata": {},
   "outputs": [
    {
     "data": {
      "text/plain": [
       "0-dimensional Array{Tuple{Int64,Int64},0}:\n",
       "(1, 4)"
      ]
     },
     "execution_count": 6,
     "metadata": {},
     "output_type": "execute_result"
    }
   ],
   "source": [
    "[i for i in enumerate(N)]"
   ]
  },
  {
   "cell_type": "code",
   "execution_count": 16,
   "metadata": {},
   "outputs": [
    {
     "data": {
      "text/plain": [
       "4-element Array{Array{Float64,1},1}:\n",
       " [0.392122, 0.3869, 1.59795, -0.415342, -1.74986, 1.27202, 0.810317, 1.4941, 0.28943, 1.27486]           \n",
       " [0.846543, 1.63695, 0.989738, -0.682586, 1.02343, -2.55806, 2.04068, 0.25681, 1.54071, 1.47328]         \n",
       " [-0.365841, 0.391182, 0.276103, 0.588314, -1.0984, 0.456155, -0.0643328, -0.585154, -0.279022, -0.61115]\n",
       " [-0.821307, 0.257601, -0.304821, -0.186259, -1.05403, -1.88551, -1.34901, -0.50757, -0.698108, 0.662555]"
      ]
     },
     "execution_count": 16,
     "metadata": {},
     "output_type": "execute_result"
    }
   ],
   "source": [
    "States = [randn(10) for i = 1:4]"
   ]
  },
  {
   "cell_type": "code",
   "execution_count": 17,
   "metadata": {},
   "outputs": [
    {
     "data": {
      "text/plain": [
       "EnsembleState{4,Array{Float64,1}}(Array{Float64,1}[[0.392122, 0.3869, 1.59795, -0.415342, -1.74986, 1.27202, 0.810317, 1.4941, 0.28943, 1.27486], [0.846543, 1.63695, 0.989738, -0.682586, 1.02343, -2.55806, 2.04068, 0.25681, 1.54071, 1.47328], [-0.365841, 0.391182, 0.276103, 0.588314, -1.0984, 0.456155, -0.0643328, -0.585154, -0.279022, -0.61115], [-0.821307, 0.257601, -0.304821, -0.186259, -1.05403, -1.88551, -1.34901, -0.50757, -0.698108, 0.662555]])"
      ]
     },
     "execution_count": 17,
     "metadata": {},
     "output_type": "execute_result"
    }
   ],
   "source": [
    "EnS = EnsembleState(States)"
   ]
  },
  {
   "cell_type": "code",
   "execution_count": 18,
   "metadata": {},
   "outputs": [
    {
     "data": {
      "text/plain": [
       "(4, (10,))"
      ]
     },
     "execution_count": 18,
     "metadata": {},
     "output_type": "execute_result"
    }
   ],
   "source": [
    "size(EnS)"
   ]
  },
  {
   "cell_type": "code",
   "execution_count": 19,
   "metadata": {},
   "outputs": [
    {
     "data": {
      "text/plain": [
       "(10,)"
      ]
     },
     "execution_count": 19,
     "metadata": {},
     "output_type": "execute_result"
    }
   ],
   "source": [
    "size(EnS.S[1])"
   ]
  },
  {
   "cell_type": "code",
   "execution_count": 21,
   "metadata": {},
   "outputs": [
    {
     "name": "stdout",
     "output_type": "stream",
     "text": [
      "  0.001923 seconds (34 allocations: 2.344 KiB)\n"
     ]
    },
    {
     "data": {
      "text/plain": [
       "10-element Array{Float64,1}:\n",
       "  0.01287947145794821\n",
       "  0.6681571160058574 \n",
       "  0.6397420518901215 \n",
       " -0.17396843980891674\n",
       " -0.7197149599083105 \n",
       " -0.6788498111208523 \n",
       "  0.359412408612103  \n",
       "  0.16454603970531606\n",
       "  0.21325342681426226\n",
       "  0.6998844119461762 "
      ]
     },
     "execution_count": 21,
     "metadata": {},
     "output_type": "execute_result"
    }
   ],
   "source": [
    "@time (EnS.S[1]+EnS.S[2]+EnS.S[3]+EnS.S[4])/4"
   ]
  },
  {
   "cell_type": "code",
   "execution_count": 22,
   "metadata": {},
   "outputs": [
    {
     "data": {
      "text/plain": [
       "10-element Array{Float64,1}:\n",
       "  0.01287947145794821\n",
       "  0.6681571160058574 \n",
       "  0.6397420518901215 \n",
       " -0.17396843980891674\n",
       " -0.7197149599083105 \n",
       " -0.6788498111208523 \n",
       "  0.359412408612103  \n",
       "  0.16454603970531606\n",
       "  0.21325342681426226\n",
       "  0.6998844119461762 "
      ]
     },
     "execution_count": 22,
     "metadata": {},
     "output_type": "execute_result"
    }
   ],
   "source": [
    "mean(EnS)"
   ]
  },
  {
   "cell_type": "code",
   "execution_count": 24,
   "metadata": {},
   "outputs": [
    {
     "data": {
      "text/plain": [
       "EnsembleState{4,Array{Float64,1}}"
      ]
     },
     "execution_count": 24,
     "metadata": {},
     "output_type": "execute_result"
    }
   ],
   "source": []
  },
  {
   "cell_type": "code",
   "execution_count": null,
   "metadata": {},
   "outputs": [],
   "source": []
  }
 ],
 "metadata": {
  "@webio": {
   "lastCommId": null,
   "lastKernelId": null
  },
  "kernelspec": {
   "display_name": "Julia 1.1.1",
   "language": "julia",
   "name": "julia-1.1"
  },
  "language_info": {
   "file_extension": ".jl",
   "mimetype": "application/julia",
   "name": "julia",
   "version": "1.1.1"
  }
 },
 "nbformat": 4,
 "nbformat_minor": 2
}
