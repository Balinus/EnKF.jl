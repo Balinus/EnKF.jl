{
 "cells": [
  {
   "cell_type": "code",
   "execution_count": 1,
   "metadata": {},
   "outputs": [
    {
     "data": {
      "text/plain": [
       "\"/media/mat/HDD/EnKF/Project.toml\""
      ]
     },
     "execution_count": 1,
     "metadata": {},
     "output_type": "execute_result"
    }
   ],
   "source": [
    "using Pkg\n",
    "Pkg.activate(\"/media/mat/HDD/EnKF/\")"
   ]
  },
  {
   "cell_type": "code",
   "execution_count": 2,
   "metadata": {},
   "outputs": [
    {
     "name": "stderr",
     "output_type": "stream",
     "text": [
      "┌ Info: Recompiling stale cache file /home/mat/.julia/compiled/v1.1/Revise/M1Qoh.ji for Revise [295af30f-e4ad-537b-8983-00126c2a3abe]\n",
      "└ @ Base loading.jl:1184\n",
      "┌ Info: Recompiling stale cache file /home/mat/.julia/compiled/v1.1/EnKF/oXK06.ji for EnKF [685896a8-a41b-11e9-3419-3315e75b5d74]\n",
      "└ @ Base loading.jl:1184\n"
     ]
    }
   ],
   "source": [
    "using Revise\n",
    "using EnKF\n",
    "using Distributions\n",
    "using DocStringExtensions\n",
    "# using Lazy"
   ]
  },
  {
   "cell_type": "code",
   "execution_count": 3,
   "metadata": {
    "scrolled": true
   },
   "outputs": [
    {
     "name": "stderr",
     "output_type": "stream",
     "text": [
      "┌ Info: Recompiling stale cache file /home/mat/.julia/compiled/v1.1/PotentialFlow/79Lvj.ji for PotentialFlow [73af2aaf-3f58-5b29-82a9-435ecf827f5b]\n",
      "└ @ Base loading.jl:1184\n"
     ]
    }
   ],
   "source": [
    "using PotentialFlow\n",
    "import PotentialFlow.Utils: @get"
   ]
  },
  {
   "cell_type": "code",
   "execution_count": 4,
   "metadata": {},
   "outputs": [],
   "source": [
    "using ProgressMeter\n",
    "using LinearAlgebra\n",
    "using Statistics\n",
    "# using PlotUtils"
   ]
  },
  {
   "cell_type": "code",
   "execution_count": 5,
   "metadata": {},
   "outputs": [
    {
     "name": "stderr",
     "output_type": "stream",
     "text": [
      "┌ Info: Recompiling stale cache file /home/mat/.julia/compiled/v1.1/Plots/ld3vC.ji for Plots [91a5bcdd-55d7-5caf-9e0b-520d859cae80]\n",
      "└ @ Base loading.jl:1184\n",
      "┌ Info: Recompiling stale cache file /home/mat/.julia/compiled/v1.1/PyPlot/oatAj.ji for PyPlot [d330b81b-6aea-500a-939a-2ce795aea3ee]\n",
      "└ @ Base loading.jl:1184\n"
     ]
    },
    {
     "data": {
      "text/plain": [
       "Plots.PyPlotBackend()"
      ]
     },
     "execution_count": 5,
     "metadata": {},
     "output_type": "execute_result"
    }
   ],
   "source": [
    "using Plots\n",
    "default(tickfont = font(\"CMU Serif\", 9), \n",
    "        titlefont = font(\"CMU Serif\", 14), \n",
    "        guidefont = font(\"CMU Serif\", 12),\n",
    "        legendfont = font(\"CMU Serif\", 10),\n",
    "        grid = false)\n",
    "clibrary(:colorbrewer)\n",
    "pyplot()"
   ]
  },
  {
   "cell_type": "code",
   "execution_count": 6,
   "metadata": {},
   "outputs": [],
   "source": [
    "# if !Plots.is_installed(\"PyPlot\")\n",
    "#     Pkg.add(\"PyPlot\")\n",
    "# end\n",
    "# withenv(\"PYTHON\" => \"\") do\n",
    "#     Pkg.build(\"PyPlot\")\n",
    "# end"
   ]
  },
  {
   "cell_type": "markdown",
   "metadata": {},
   "source": [
    "## Load CFD Data"
   ]
  },
  {
   "cell_type": "code",
   "execution_count": 7,
   "metadata": {},
   "outputs": [],
   "source": [
    "using FileIO\n",
    "using Interpolations"
   ]
  },
  {
   "cell_type": "code",
   "execution_count": 8,
   "metadata": {},
   "outputs": [
    {
     "data": {
      "text/plain": [
       "Dict{String,Any} with 6 entries:\n",
       "  \"pressure\"  => Dict{String,Any}(\"t\"=>0.05:0.05:10.0,\"edges\"=>(-0.5, 0.5),\"s\"=…\n",
       "  \"Re\"        => 500\n",
       "  \"aoa\"       => 0.349066\n",
       "  \"force\"     => Dict{String,Any}(\"t\"=>0.001:0.001:10.0,\"F\"=>Complex{Float64}[-…\n",
       "  \"vorticity\" => Dict{String,Any}(\"x\"=>[-0.996, -0.992, -0.988, -0.984, -0.98, …\n",
       "  \"actuation\" => ((3.0, 4.0), 0.01)"
      ]
     },
     "execution_count": 8,
     "metadata": {},
     "output_type": "execute_result"
    }
   ],
   "source": [
    "# re500_data = load(expanduser(\"/home/matmat/Documents/PhD/VortexModel/DarwinVortex/data/re500_aoa20.jld2\")) # No Pulse\n",
    "# re500_data = load(expanduser(\"~/Documents/Research/data/rey500_pulse01_data.jld2\"))\n",
    "re500_data = load(expanduser(\"/media/mat/HDD/VortexModels/data/rey500_aoa20_2pulse01_data.jld2\"))"
   ]
  },
  {
   "cell_type": "code",
   "execution_count": 9,
   "metadata": {},
   "outputs": [],
   "source": [
    "## Old version 0.6\n",
    "# pressure_data = let pressure = -re500_data[\"pressure\"][\"p\"],\n",
    "#     T = re500_data[\"pressure\"][\"t\"],\n",
    "#     s = re500_data[\"pressure\"][\"s\"],\n",
    "#     le = re500_data[\"pressure\"][\"edges\"][1]\n",
    "    \n",
    "    \n",
    "#     scale(interpolate(pressure, BSpline(Cubic(Line())), OnGrid()), sign(le)*s, T)\n",
    "# end;"
   ]
  },
  {
   "cell_type": "code",
   "execution_count": 10,
   "metadata": {},
   "outputs": [],
   "source": [
    "pressure_data = let pressure = -re500_data[\"pressure\"][\"p\"],\n",
    "    T = re500_data[\"pressure\"][\"t\"],\n",
    "    s = re500_data[\"pressure\"][\"s\"],\n",
    "    le = re500_data[\"pressure\"][\"edges\"][1]\n",
    "    \n",
    "#     scale(interpolate(reverse(pressure, dims = 1), BSpline(Cubic(Line(OnGrid())))), \n",
    "#         reverse(sign(le)*s, dims = 1), T, extrapolation  = Flat())\n",
    "    CubicSplineInterpolation((reverse(sign(le)*s), T),reverse(pressure, dims = 1), extrapolation_bc =  Line())\n",
    "end;"
   ]
  },
  {
   "cell_type": "code",
   "execution_count": 11,
   "metadata": {},
   "outputs": [
    {
     "data": {
      "text/plain": [
       "-0.23260800496897818"
      ]
     },
     "execution_count": 11,
     "metadata": {},
     "output_type": "execute_result"
    }
   ],
   "source": [
    "pressure_data(-0.4,0.0)"
   ]
  },
  {
   "cell_type": "code",
   "execution_count": 12,
   "metadata": {},
   "outputs": [
    {
     "data": {
      "text/plain": [
       "-1.1639155392089846"
      ]
     },
     "execution_count": 12,
     "metadata": {},
     "output_type": "execute_result"
    }
   ],
   "source": [
    "pressure_data(0.1,2.0)"
   ]
  },
  {
   "cell_type": "code",
   "execution_count": 13,
   "metadata": {},
   "outputs": [
    {
     "data": {
      "text/plain": [
       "cfd_pressure (generic function with 1 method)"
      ]
     },
     "execution_count": 13,
     "metadata": {},
     "output_type": "execute_result"
    }
   ],
   "source": [
    "function cfd_pressure(t, taps, config, pressure_data)\n",
    "    s = [-0.5config.L*cos(n*π/(config.N-1)) for n in taps]\n",
    "    [pressure_data(i,t) for i in s]\n",
    "end"
   ]
  },
  {
   "cell_type": "code",
   "execution_count": 14,
   "metadata": {},
   "outputs": [
    {
     "data": {
      "text/plain": [
       "Config(512, 1.0, 1.0 + 0.0im, 0.3490658503988659, 0.005, 0.01, true)"
      ]
     },
     "execution_count": 14,
     "metadata": {},
     "output_type": "execute_result"
    }
   ],
   "source": [
    "struct Config\n",
    "    N::Int\n",
    "    L::Float64\n",
    "    ċ::ComplexF64\n",
    "    α::Float64\n",
    "    δ::Float64\n",
    "    Δt::Float64\n",
    "    transfer::Bool\n",
    "end\n",
    "config = let N = 512, L = 1.0, ċ = 1.0,\n",
    "             α = π/9, δ = 5e-3, Δt = 1e-2\n",
    "\n",
    "    Config(N, L, ċ, α, δ, Δt, true)\n",
    "end"
   ]
  },
  {
   "cell_type": "code",
   "execution_count": 15,
   "metadata": {},
   "outputs": [
    {
     "data": {
      "text/plain": [
       "0.0:0.01:5.0"
      ]
     },
     "execution_count": 15,
     "metadata": {},
     "output_type": "execute_result"
    }
   ],
   "source": [
    "tf = 5.0\n",
    "pressure_taps = 10:10:config.N-10\n",
    "T = 0:config.Δt:tf"
   ]
  },
  {
   "cell_type": "code",
   "execution_count": 16,
   "metadata": {},
   "outputs": [],
   "source": [
    "using ColorSchemes"
   ]
  },
  {
   "cell_type": "code",
   "execution_count": 17,
   "metadata": {},
   "outputs": [
    {
     "data": {
      "image/svg+xml": [
       "<?xml version=\"1.0\" encoding=\"UTF-8\"?>\n",
       "<!DOCTYPE svg PUBLIC \"-//W3C//DTD SVG 1.1//EN\"\n",
       " \"http://www.w3.org/Graphics/SVG/1.1/DTD/svg11.dtd\">\n",
       "<svg xmlns=\"http://www.w3.org/2000/svg\" version=\"1.1\"\n",
       "     width=\"180.0mm\" height=\"25.0mm\"\n",
       "     shape-rendering=\"crispEdges\">\n",
       "<rect x=\"0.0mm\" y=\"0.0mm\"\n",
       "      width=\"17.0mm\" height=\"24.0mm\"\n",
       "      fill=\"#2A48EF\" stroke=\"none\" />\n",
       "<rect x=\"18.0mm\" y=\"0.0mm\"\n",
       "      width=\"17.0mm\" height=\"24.0mm\"\n",
       "      fill=\"#5B92F2\" stroke=\"none\" />\n",
       "<rect x=\"36.0mm\" y=\"0.0mm\"\n",
       "      width=\"17.0mm\" height=\"24.0mm\"\n",
       "      fill=\"#8BC8F6\" stroke=\"none\" />\n",
       "<rect x=\"54.0mm\" y=\"0.0mm\"\n",
       "      width=\"17.0mm\" height=\"24.0mm\"\n",
       "      fill=\"#B6ECFA\" stroke=\"none\" />\n",
       "<rect x=\"72.0mm\" y=\"0.0mm\"\n",
       "      width=\"17.0mm\" height=\"24.0mm\"\n",
       "      fill=\"#DDFEFD\" stroke=\"none\" />\n",
       "<rect x=\"90.0mm\" y=\"0.0mm\"\n",
       "      width=\"17.0mm\" height=\"24.0mm\"\n",
       "      fill=\"#FEFED3\" stroke=\"none\" />\n",
       "<rect x=\"108.0mm\" y=\"0.0mm\"\n",
       "      width=\"17.0mm\" height=\"24.0mm\"\n",
       "      fill=\"#FAF1A7\" stroke=\"none\" />\n",
       "<rect x=\"126.0mm\" y=\"0.0mm\"\n",
       "      width=\"17.0mm\" height=\"24.0mm\"\n",
       "      fill=\"#F1D17A\" stroke=\"none\" />\n",
       "<rect x=\"144.0mm\" y=\"0.0mm\"\n",
       "      width=\"17.0mm\" height=\"24.0mm\"\n",
       "      fill=\"#E49F4F\" stroke=\"none\" />\n",
       "<rect x=\"162.0mm\" y=\"0.0mm\"\n",
       "      width=\"17.0mm\" height=\"24.0mm\"\n",
       "      fill=\"#D85E31\" stroke=\"none\" />\n",
       "</svg>"
      ],
      "text/plain": [
       "ColorScheme(RGB{Float64}[RGB{Float64}(0.165698,0.282261,0.936187), RGB{Float64}(0.358007,0.574105,0.948836), RGB{Float64}(0.546319,0.783703,0.966583), RGB{Float64}(0.713848,0.924666,0.981842), RGB{Float64}(0.866087,0.99559,0.992172), RGB{Float64}(0.997223,0.994827,0.825925), RGB{Float64}(0.981765,0.945724,0.654917), RGB{Float64}(0.943297,0.818753,0.479667), RGB{Float64}(0.894942,0.622553,0.310567), RGB{Float64}(0.845274,0.369528,0.19115)], \"general\", \"\")"
      ]
     },
     "execution_count": 17,
     "metadata": {},
     "output_type": "execute_result"
    }
   ],
   "source": [
    "ColorSchemes.lighttemperaturemap"
   ]
  },
  {
   "cell_type": "code",
   "execution_count": 18,
   "metadata": {},
   "outputs": [
    {
     "data": {
      "image/svg+xml": [
       "<?xml version=\"1.0\" encoding=\"UTF-8\"?>\n",
       "<!DOCTYPE svg PUBLIC \"-//W3C//DTD SVG 1.1//EN\"\n",
       " \"http://www.w3.org/Graphics/SVG/1.1/DTD/svg11.dtd\">\n",
       "<svg xmlns=\"http://www.w3.org/2000/svg\" version=\"1.1\"\n",
       "     width=\"180.0mm\" height=\"25.0mm\"\n",
       "     shape-rendering=\"crispEdges\">\n",
       "<rect x=\"0.0mm\" y=\"0.0mm\"\n",
       "      width=\"19.0mm\" height=\"24.0mm\"\n",
       "      fill=\"#4575B4\" stroke=\"none\" />\n",
       "<rect x=\"20.0mm\" y=\"0.0mm\"\n",
       "      width=\"19.0mm\" height=\"24.0mm\"\n",
       "      fill=\"#74ADD1\" stroke=\"none\" />\n",
       "<rect x=\"40.0mm\" y=\"0.0mm\"\n",
       "      width=\"19.0mm\" height=\"24.0mm\"\n",
       "      fill=\"#ABD9E9\" stroke=\"none\" />\n",
       "<rect x=\"60.0mm\" y=\"0.0mm\"\n",
       "      width=\"19.0mm\" height=\"24.0mm\"\n",
       "      fill=\"#E0F3F8\" stroke=\"none\" />\n",
       "<rect x=\"80.0mm\" y=\"0.0mm\"\n",
       "      width=\"19.0mm\" height=\"24.0mm\"\n",
       "      fill=\"#FFFFBF\" stroke=\"none\" />\n",
       "<rect x=\"100.0mm\" y=\"0.0mm\"\n",
       "      width=\"19.0mm\" height=\"24.0mm\"\n",
       "      fill=\"#FEE090\" stroke=\"none\" />\n",
       "<rect x=\"120.0mm\" y=\"0.0mm\"\n",
       "      width=\"19.0mm\" height=\"24.0mm\"\n",
       "      fill=\"#FDAE61\" stroke=\"none\" />\n",
       "<rect x=\"140.0mm\" y=\"0.0mm\"\n",
       "      width=\"19.0mm\" height=\"24.0mm\"\n",
       "      fill=\"#F46D43\" stroke=\"none\" />\n",
       "<rect x=\"160.0mm\" y=\"0.0mm\"\n",
       "      width=\"19.0mm\" height=\"24.0mm\"\n",
       "      fill=\"#D73027\" stroke=\"none\" />\n",
       "</svg>"
      ],
      "text/plain": [
       "ColorScheme(RGB{Float64}[RGB{Float64}(0.271,0.459,0.706), RGB{Float64}(0.455,0.678,0.82), RGB{Float64}(0.671,0.851,0.914), RGB{Float64}(0.878,0.953,0.973), RGB{Float64}(1.0,1.0,0.749), RGB{Float64}(0.996,0.878,0.565), RGB{Float64}(0.992,0.682,0.38), RGB{Float64}(0.957,0.427,0.263), RGB{Float64}(0.843,0.188,0.153)], \"colorbrewer2\", \"red through yellow to blue\")"
      ]
     },
     "execution_count": 18,
     "metadata": {},
     "output_type": "execute_result"
    }
   ],
   "source": [
    "reverse(ColorSchemes.RdYlBu_9)"
   ]
  },
  {
   "cell_type": "code",
   "execution_count": 19,
   "metadata": {},
   "outputs": [
    {
     "data": {
      "image/svg+xml": [
       "<?xml version=\"1.0\" encoding=\"UTF-8\"?>\n",
       "<!DOCTYPE svg PUBLIC \"-//W3C//DTD SVG 1.1//EN\"\n",
       " \"http://www.w3.org/Graphics/SVG/1.1/DTD/svg11.dtd\">\n",
       "<svg xmlns=\"http://www.w3.org/2000/svg\" version=\"1.1\"\n",
       "     width=\"180.0mm\" height=\"25.0mm\"\n",
       "     shape-rendering=\"crispEdges\">\n",
       "<rect x=\"0.0mm\" y=\"0.0mm\"\n",
       "      width=\"9.588235294117647mm\" height=\"24.0mm\"\n",
       "      fill=\"#DB2122\" stroke=\"none\" />\n",
       "<rect x=\"10.588235294117647mm\" y=\"0.0mm\"\n",
       "      width=\"9.588235294117647mm\" height=\"24.0mm\"\n",
       "      fill=\"#E04B29\" stroke=\"none\" />\n",
       "<rect x=\"21.176470588235293mm\" y=\"0.0mm\"\n",
       "      width=\"9.588235294117647mm\" height=\"24.0mm\"\n",
       "      fill=\"#E67431\" stroke=\"none\" />\n",
       "<rect x=\"31.764705882352942mm\" y=\"0.0mm\"\n",
       "      width=\"9.588235294117647mm\" height=\"24.0mm\"\n",
       "      fill=\"#E69537\" stroke=\"none\" />\n",
       "<rect x=\"42.35294117647059mm\" y=\"0.0mm\"\n",
       "      width=\"9.588235294117647mm\" height=\"24.0mm\"\n",
       "      fill=\"#DCAB3C\" stroke=\"none\" />\n",
       "<rect x=\"52.94117647058823mm\" y=\"0.0mm\"\n",
       "      width=\"9.588235294117647mm\" height=\"24.0mm\"\n",
       "      fill=\"#CBB843\" stroke=\"none\" />\n",
       "<rect x=\"63.529411764705884mm\" y=\"0.0mm\"\n",
       "      width=\"9.588235294117647mm\" height=\"24.0mm\"\n",
       "      fill=\"#B4BD4C\" stroke=\"none\" />\n",
       "<rect x=\"74.11764705882352mm\" y=\"0.0mm\"\n",
       "      width=\"9.588235294117647mm\" height=\"24.0mm\"\n",
       "      fill=\"#9BBE5B\" stroke=\"none\" />\n",
       "<rect x=\"84.70588235294117mm\" y=\"0.0mm\"\n",
       "      width=\"9.588235294117647mm\" height=\"24.0mm\"\n",
       "      fill=\"#83BA70\" stroke=\"none\" />\n",
       "<rect x=\"95.29411764705883mm\" y=\"0.0mm\"\n",
       "      width=\"9.588235294117647mm\" height=\"24.0mm\"\n",
       "      fill=\"#6EB38A\" stroke=\"none\" />\n",
       "<rect x=\"105.88235294117646mm\" y=\"0.0mm\"\n",
       "      width=\"9.588235294117647mm\" height=\"24.0mm\"\n",
       "      fill=\"#5CA7A5\" stroke=\"none\" />\n",
       "<rect x=\"116.47058823529412mm\" y=\"0.0mm\"\n",
       "      width=\"9.588235294117647mm\" height=\"24.0mm\"\n",
       "      fill=\"#4E95BD\" stroke=\"none\" />\n",
       "<rect x=\"127.05882352941177mm\" y=\"0.0mm\"\n",
       "      width=\"9.588235294117647mm\" height=\"24.0mm\"\n",
       "      fill=\"#447CCD\" stroke=\"none\" />\n",
       "<rect x=\"137.64705882352942mm\" y=\"0.0mm\"\n",
       "      width=\"9.588235294117647mm\" height=\"24.0mm\"\n",
       "      fill=\"#3E5CD0\" stroke=\"none\" />\n",
       "<rect x=\"148.23529411764704mm\" y=\"0.0mm\"\n",
       "      width=\"9.588235294117647mm\" height=\"24.0mm\"\n",
       "      fill=\"#4039C4\" stroke=\"none\" />\n",
       "<rect x=\"158.8235294117647mm\" y=\"0.0mm\"\n",
       "      width=\"9.588235294117647mm\" height=\"24.0mm\"\n",
       "      fill=\"#4F1EA9\" stroke=\"none\" />\n",
       "<rect x=\"169.41176470588235mm\" y=\"0.0mm\"\n",
       "      width=\"9.588235294117647mm\" height=\"24.0mm\"\n",
       "      fill=\"#781C86\" stroke=\"none\" />\n",
       "</svg>"
      ],
      "text/plain": [
       "ColorScheme(RGB{Float64}[RGB{Float64}(0.857359,0.131106,0.132128), RGB{Float64}(0.878107,0.293208,0.160481), RGB{Float64}(0.902853,0.453964,0.192014), RGB{Float64}(0.901014,0.582826,0.216542), RGB{Float64}(0.863512,0.670771,0.236564), RGB{Float64}(0.794549,0.721158,0.260829), RGB{Float64}(0.705038,0.742591,0.299167), RGB{Float64}(0.607651,0.743718,0.358588), RGB{Float64}(0.513417,0.72992,0.440682), RGB{Float64}(0.429842,0.701849,0.540321), RGB{Float64}(0.36048,0.655759,0.645692), RGB{Float64}(0.305919,0.585575,0.739666), RGB{Float64}(0.266122,0.486664,0.802529), RGB{Float64}(0.24408,0.361242,0.816084), RGB{Float64}(0.250728,0.225386,0.769152), RGB{Float64}(0.31106,0.11758,0.664469), RGB{Float64}(0.471412,0.108766,0.527016)], \"general\", \"\")"
      ]
     },
     "execution_count": 19,
     "metadata": {},
     "output_type": "execute_result"
    }
   ],
   "source": [
    "reverse(ColorSchemes.rainbow)"
   ]
  },
  {
   "cell_type": "code",
   "execution_count": null,
   "metadata": {},
   "outputs": [],
   "source": []
  },
  {
   "cell_type": "code",
   "execution_count": 20,
   "metadata": {},
   "outputs": [
    {
     "data": {
      "image/png": "[encoded data removed]"
     },
     "execution_count": 20,
     "metadata": {},
     "output_type": "execute_result"
    },
    {
     "name": "stderr",
     "output_type": "stream",
     "text": [
      "sys:1: UserWarning: The following kwargs were not used by contour: 'label'\n",
      "findfont: Font family ['CMU Serif'] not found. Falling back to DejaVu Sans.\n",
      "findfont: Font family ['CMU Serif'] not found. Falling back to DejaVu Sans.\n",
      "findfont: Font family ['CMU Serif'] not found. Falling back to DejaVu Sans.\n"
     ]
    }
   ],
   "source": [
    "sch = ColorSchemes.RdYlBu_9.colors\n",
    "let s = [-0.5config.L*cos(θ) for θ in range(0.0, stop = π, length = config.N)][pressure_taps],\n",
    "    #model_pressures = hcat((measure_state(mean(states[i+1]), t, config, pressure_taps) for (i,t) in enumerate(T))...),\n",
    "    cfd_pressures = 2hcat((cfd_pressure(t, pressure_taps, config, pressure_data) for t in T)...)\n",
    "        \n",
    "    plt = plot(size = (800, 400))\n",
    "    contourf!(T, s, cfd_pressures, title = [\"\\$\\\\mathrm{Re} = 500\\$ CFD\" \"EnKF Mean\"],\n",
    "        levels = range(-4.0, stop = 1, length = 161), clims = (-4, 1), color = cgrad(sch), xlabel = \"Convective Time\",\n",
    "        #levels = linspace(-2, 2, 151), clims = (-2, 0.5), color = cgrad(reverse(colormap(:rainbow))), xlabel = [\"Convective Time\"],\n",
    "        yticks = ([0.5, -0.5], [\"LE\", \"TE\"]), background_color_inside = sch[1],colorbar_title=\"Pressure\")\n",
    "        #yticks = ([0.5, -0.5], [\"LE\", \"TE\"]), background_color_inside = colormap(:rainbow)[end], colorbar_title=\"Pressure\")\n",
    "    contour!(T, s, cfd_pressures,levels=0:0,seriescolor=:black)\n",
    "end\n",
    "# savefig(\"test1.pdf\")\n",
    "# savefig(\"EnKF\\ Results/Re500/2pulse01/no_inflation/pressure_comparison.pdf\")"
   ]
  },
  {
   "cell_type": "markdown",
   "metadata": {},
   "source": [
    "## Model Formulation"
   ]
  },
  {
   "cell_type": "markdown",
   "metadata": {},
   "source": [
    "We have a flat plate that is translating at a fixed angle of attack and velocity.\n",
    "We also use a constant blob radius on all of our vortex elements"
   ]
  },
  {
   "cell_type": "code",
   "execution_count": 239,
   "metadata": {},
   "outputs": [],
   "source": [
    "struct Config\n",
    "    N::Int\n",
    "    L::Float64\n",
    "    ċ::ComplexF64\n",
    "    α::Float64\n",
    "    δ::Float64\n",
    "    Δt::Float64\n",
    "    transfer::Bool\n",
    "end"
   ]
  },
  {
   "cell_type": "code",
   "execution_count": 240,
   "metadata": {},
   "outputs": [
    {
     "data": {
      "text/plain": [
       "regen_forces (generic function with 1 method)"
      ]
     },
     "execution_count": 240,
     "metadata": {},
     "output_type": "execute_result"
    }
   ],
   "source": [
    "include(\"/media/mat/HDD/VortexModels/SparseVortex/Jupyter notebooks/merging_model.jl\")"
   ]
  },
  {
   "cell_type": "markdown",
   "metadata": {},
   "source": [
    "#### Define propagation function f with merging"
   ]
  },
  {
   "cell_type": "code",
   "execution_count": 276,
   "metadata": {},
   "outputs": [],
   "source": [
    "function (::PropagationFunction)(t::Float64, ENS::EnsembleState{N, TS}) where {N, TS}\n",
    "\n",
    "    empty_inds = Vector{Int}[]\n",
    "    len = Int[]\n",
    "    ensnew = []\n",
    "    # predicted_states (with merging)\n",
    "    states = deepcopy(ENS.S)\n",
    "    for (i, state) in enumerate(states)\n",
    "        new_state = state_equation(state, t, config)\n",
    "        new_blobs, lesp, tesp = state_to_blobs(new_state, config.δ)\n",
    "        push!(empty_inds, findall(b -> circulation(b) == 0, new_blobs))\n",
    "        push!(len, length(new_blobs))\n",
    "        push!(ensnew, new_state)\n",
    "    end\n",
    "  \n",
    "    # trim zeros\n",
    "    @assert all(len .== len[1])\n",
    "    toremove = intersect(empty_inds...)\n",
    "    tokeep = filter(i -> i ∉ toremove, 1:len[1])\n",
    "    for (i, state) in enumerate(ensnew)\n",
    "        new_blobs, lesp, tesp = state_to_blobs(state, config.δ)\n",
    "        ensnew[i] = blobs_to_state(new_blobs[tokeep], lesp, tesp)\n",
    "    end\n",
    "\n",
    "    # Wrap into an EnsembleState variable\n",
    "    ENS.S .= deepcopy(ensnew)\n",
    " \n",
    "    return ENS\n",
    "    #################### OLD VERSION #####################################\n",
    "#         # predicted_states (with merging)\n",
    "#     for (i, state) in enumerate(states[end-1])\n",
    "#         new_state = state_equation(state, t, config)\n",
    "#         new_blobs, lesp, tesp = state_to_blobs(new_state, config.δ)\n",
    "#         push!(empty_inds, findall(b -> circulation(b) == 0, new_blobs))\n",
    "#         push!(len, length(new_blobs))\n",
    "#         push!(states[end], new_state)\n",
    "#     end\n",
    "    \n",
    "#     # trim zeros\n",
    "#     @assert all(len .== len[1])\n",
    "#     toremove = intersect(empty_inds...)\n",
    "#     tokeep = filter(i -> i ∉ toremove, 1:len[1])\n",
    "#     for (i, state) in enumerate(states[end])\n",
    "#         new_blobs, lesp, tesp = state_to_blobs(state, config.δ)\n",
    "#         states[end][i] = blobs_to_state(new_blobs[tokeep], lesp, tesp)\n",
    "#     end\n",
    "# end\n",
    "    \n",
    "end"
   ]
  },
  {
   "cell_type": "code",
   "execution_count": 277,
   "metadata": {},
   "outputs": [
    {
     "data": {
      "text/plain": [
       "PropagationFunction()"
      ]
     },
     "execution_count": 277,
     "metadata": {},
     "output_type": "execute_result"
    }
   ],
   "source": [
    "fprop = PropagationFunction()"
   ]
  },
  {
   "cell_type": "code",
   "execution_count": 278,
   "metadata": {},
   "outputs": [],
   "source": [
    "# @time f(0.0, ens)"
   ]
  },
  {
   "cell_type": "code",
   "execution_count": 279,
   "metadata": {
    "scrolled": false
   },
   "outputs": [],
   "source": [
    "# @time size(ens)"
   ]
  },
  {
   "cell_type": "markdown",
   "metadata": {},
   "source": [
    "#### Define measurement function m "
   ]
  },
  {
   "cell_type": "code",
   "execution_count": 280,
   "metadata": {},
   "outputs": [],
   "source": [
    "function (::MeasurementFunction)(t::Float64, s::TS) where TS\n",
    "    return measure_state(s, t, config, pressure_taps)\n",
    "end"
   ]
  },
  {
   "cell_type": "code",
   "execution_count": 281,
   "metadata": {},
   "outputs": [
    {
     "data": {
      "text/plain": [
       "MeasurementFunction()"
      ]
     },
     "execution_count": 281,
     "metadata": {},
     "output_type": "execute_result"
    }
   ],
   "source": [
    "m = MeasurementFunction()"
   ]
  },
  {
   "cell_type": "markdown",
   "metadata": {},
   "source": [
    "#### Define real measurement function z"
   ]
  },
  {
   "cell_type": "code",
   "execution_count": 282,
   "metadata": {},
   "outputs": [],
   "source": [
    "function (::RealMeasurementFunction)(t::Float64, ENS::EnsembleState{N, TZ}) where {N, TZ}\n",
    "    \n",
    "    real_meas = cfd_pressure(t, pressure_taps, config, pressure_data)\n",
    "    \n",
    "    fill!(ENS, real_meas)\n",
    "    \n",
    "    return ENS\n",
    "end"
   ]
  },
  {
   "cell_type": "code",
   "execution_count": 283,
   "metadata": {},
   "outputs": [
    {
     "data": {
      "text/plain": [
       "RealMeasurementFunction()"
      ]
     },
     "execution_count": 283,
     "metadata": {},
     "output_type": "execute_result"
    }
   ],
   "source": [
    "z = RealMeasurementFunction()"
   ]
  },
  {
   "cell_type": "code",
   "execution_count": 284,
   "metadata": {},
   "outputs": [
    {
     "data": {
      "text/plain": [
       "Config(512, 1.0, 1.0 + 0.0im, 0.3490658503988659, 0.005, 0.01, true)"
      ]
     },
     "execution_count": 284,
     "metadata": {},
     "output_type": "execute_result"
    }
   ],
   "source": [
    "config"
   ]
  },
  {
   "cell_type": "markdown",
   "metadata": {},
   "source": [
    "#### Covariance inflation"
   ]
  },
  {
   "cell_type": "code",
   "execution_count": 285,
   "metadata": {},
   "outputs": [
    {
     "data": {
      "text/plain": [
       "1.01"
      ]
     },
     "execution_count": 285,
     "metadata": {},
     "output_type": "execute_result"
    }
   ],
   "source": [
    "β = 1.01"
   ]
  },
  {
   "cell_type": "code",
   "execution_count": 286,
   "metadata": {},
   "outputs": [
    {
     "data": {
      "text/plain": [
       "additive (generic function with 1 method)"
      ]
     },
     "execution_count": 286,
     "metadata": {},
     "output_type": "execute_result"
    }
   ],
   "source": [
    "function additive(NS, αp, αΓ, αlesp, αtesp)\n",
    "    V = zeros(NS)\n",
    "    \n",
    "     if NS > 5\n",
    "        for i in 1:3:NS-3\n",
    "            V[i:i+1] = [αp, αp]\n",
    "            V[i+2]   = αΓ\n",
    "        end\n",
    "\n",
    "        # Covariance for LESP\n",
    "        V[end-1] = αlesp\n",
    "\n",
    "        # Covariance for TESP\n",
    "         V[end] = αtesp\n",
    "    end\n",
    "    \n",
    "    return V\n",
    "end"
   ]
  },
  {
   "cell_type": "code",
   "execution_count": 320,
   "metadata": {},
   "outputs": [],
   "source": [
    "# function (RI::RecipeInflation)(ENS::EnsembleState{N, TS}) where {N, TS}\n",
    "#     # unwrap parameters\n",
    "#     αp, αΓ, αlesp, αtesp, β = RI.p\n",
    "    \n",
    "#     # get size of a member\n",
    "#     NS = size(ENS.S[1])[1]\n",
    "    \n",
    "#     # construct inflation distribution\n",
    "#     A  = MultiAdditiveInflation(NS, β, MvNormal(zeros(NS),\n",
    "#         additive(NS, αp, αΓ, αlesp, αtesp)))\n",
    "    \n",
    "#     return A(ENS)\n",
    "# end"
   ]
  },
  {
   "cell_type": "code",
   "execution_count": 321,
   "metadata": {},
   "outputs": [],
   "source": [
    "function (RI::RecipeInflation)(ENS::EnsembleState{N, TS}) where {N, TS}\n",
    "    # unwrap parameters\n",
    "    αp, αΓ, αlesp, αtesp, β = RI.p\n",
    "    \n",
    "    # get size of a member\n",
    "    NS = size(ENS.S[1])[1]\n",
    "    \n",
    "    Ŝ = mean(deepcopy(ENS))\n",
    "    \n",
    "    # Covariance inflation\n",
    "    for (_,s) in enumerate(ENS.S)\n",
    "        s .= Ŝ .+ β*(s .- Ŝ)\n",
    "        if NS > 5\n",
    "        for i in 1:3:size(Ŝ, 1)-3\n",
    "            s[i:i+1] += αp*randn(2)\n",
    "            s[i+2]   += αΓ*randn()\n",
    "        end\n",
    "            s[end-1] = s[end-1] + αlesp*randn()\n",
    "            s[end] = s[end] + αtesp*randn()\n",
    "        end\n",
    "    end\n",
    "    \n",
    "    return ENS\n",
    "end"
   ]
  },
  {
   "cell_type": "code",
   "execution_count": 322,
   "metadata": {},
   "outputs": [
    {
     "data": {
      "text/plain": [
       "RecipeInflation([1.0e-5, 1.0e-5, 5.0e-5, 0.0, 1.01])"
      ]
     },
     "execution_count": 322,
     "metadata": {},
     "output_type": "execute_result"
    }
   ],
   "source": [
    "ri = RecipeInflation([1e-5,1e-5, 5e-5,0.0, β])"
   ]
  },
  {
   "cell_type": "code",
   "execution_count": 323,
   "metadata": {},
   "outputs": [],
   "source": [
    "function (::FilteringFunction)(ENS::EnsembleState{N, TS}) where {N, TS}\n",
    "    \n",
    "    for s in ENS.S\n",
    "        clamp(s[end-1],0.0,3.0)\n",
    "    end\n",
    "    return ENS\n",
    "end"
   ]
  },
  {
   "cell_type": "code",
   "execution_count": 324,
   "metadata": {},
   "outputs": [
    {
     "data": {
      "text/plain": [
       "FilteringFunction()"
      ]
     },
     "execution_count": 324,
     "metadata": {},
     "output_type": "execute_result"
    }
   ],
   "source": [
    "g = FilteringFunction()"
   ]
  },
  {
   "cell_type": "code",
   "execution_count": null,
   "metadata": {},
   "outputs": [],
   "source": []
  },
  {
   "cell_type": "markdown",
   "metadata": {},
   "source": [
    "#### Initialize config"
   ]
  },
  {
   "cell_type": "code",
   "execution_count": 325,
   "metadata": {},
   "outputs": [
    {
     "data": {
      "text/plain": [
       "Config(512, 1.0, 1.0 + 0.0im, 0.3490658503988659, 0.005, 0.01, true)"
      ]
     },
     "execution_count": 325,
     "metadata": {},
     "output_type": "execute_result"
    }
   ],
   "source": [
    "config = let N = 512, L = 1.0, ċ = 1.0,\n",
    "             α = π/9, δ = 5e-3, Δt = 1e-2\n",
    "\n",
    "    Config(N, L, ċ, α, δ, Δt, true)\n",
    "end"
   ]
  },
  {
   "cell_type": "code",
   "execution_count": 326,
   "metadata": {},
   "outputs": [
    {
     "data": {
      "text/plain": [
       "0.0:0.01:5.0"
      ]
     },
     "execution_count": 326,
     "metadata": {},
     "output_type": "execute_result"
    }
   ],
   "source": [
    "ensemble_size = 50 #50\n",
    "meas_size = 50\n",
    "isinflated = true\n",
    "isfiltered = true\n",
    "isaugmented = true\n",
    "\n",
    "tf = 5.0\n",
    "pressure_taps = 10:10:config.N-10\n",
    "T = 0:config.Δt:tf"
   ]
  },
  {
   "cell_type": "code",
   "execution_count": 327,
   "metadata": {},
   "outputs": [
    {
     "data": {
      "text/plain": [
       "AdditiveInflation{50}(IsoNormal(\n",
       "dim: 50\n",
       "μ: [0.0, 0.0, 0.0, 0.0, 0.0, 0.0, 0.0, 0.0, 0.0, 0.0  …  0.0, 0.0, 0.0, 0.0, 0.0, 0.0, 0.0, 0.0, 0.0, 0.0]\n",
       "Σ: [1.0e-8 0.0 … 0.0 0.0; 0.0 1.0e-8 … 0.0 0.0; … ; 0.0 0.0 … 1.0e-8 0.0; 0.0 0.0 … 0.0 1.0e-8]\n",
       ")\n",
       ")"
      ]
     },
     "execution_count": 327,
     "metadata": {},
     "output_type": "execute_result"
    }
   ],
   "source": [
    "ϵ = AdditiveInflation(MvNormal(zeros(meas_size), 1.0*10^-4*I))"
   ]
  },
  {
   "cell_type": "markdown",
   "metadata": {},
   "source": [
    "#### Distribution perturbation initial state"
   ]
  },
  {
   "cell_type": "code",
   "execution_count": 328,
   "metadata": {},
   "outputs": [],
   "source": [
    "\n",
    "# lesp₀ = 0.5 #0.5\n",
    "# tesp₀ = 0.0\n",
    "# lesprand = 0.1 #0.1\n",
    "# lesps = clamp.(lesp₀ .+ lesprand*randn(ensemble_size), 0.0, 3.0);\n",
    "# tesps = tesp₀ .+ 0.0randn(ensemble_size);\n",
    "\n",
    "# states = [map((a,b) -> [a, b], lesps, tesps)];\n",
    "\n",
    "# ens = EnsembleState(deepcopy(states[1]))"
   ]
  },
  {
   "cell_type": "code",
   "execution_count": 343,
   "metadata": {},
   "outputs": [
    {
     "data": {
      "text/plain": [
       "0.0001"
      ]
     },
     "execution_count": 343,
     "metadata": {},
     "output_type": "execute_result"
    }
   ],
   "source": [
    "lesp₀ = 0.5 #0.5\n",
    "tesp₀ = 0.0\n",
    "lesprand = 0.1 #0.1\n",
    "Distx₀ = TupleProduct((TruncatedNormal(lesp₀, lesprand, 0.0, 3.0),\n",
    "            Normal(tesp₀, 0.0)))\n",
    "ens = initialize(ensemble_size, Distx₀)\n",
    "\n",
    "states = [deepcopy(ens.S)]#[map((a,b) -> [a, b], lesps, tesps)];\n",
    "\n",
    "covs = [];\n",
    "\n",
    "η = 1e-4"
   ]
  },
  {
   "cell_type": "code",
   "execution_count": 344,
   "metadata": {},
   "outputs": [
    {
     "data": {
      "text/plain": [
       "ENKF{50,50}(PropagationFunction(), RecipeInflation([1.0e-5, 1.0e-5, 5.0e-5, 0.0, 1.01]), FilteringFunction(), MeasurementFunction(), RealMeasurementFunction(), AdditiveInflation{50}(IsoNormal(\n",
       "dim: 50\n",
       "μ: [0.0, 0.0, 0.0, 0.0, 0.0, 0.0, 0.0, 0.0, 0.0, 0.0  …  0.0, 0.0, 0.0, 0.0, 0.0, 0.0, 0.0, 0.0, 0.0, 0.0]\n",
       "Σ: [1.0e-8 0.0 … 0.0 0.0; 0.0 1.0e-8 … 0.0 0.0; … ; 0.0 0.0 … 1.0e-8 0.0; 0.0 0.0 … 0.0 1.0e-8]\n",
       ")\n",
       "), true, true, true)"
      ]
     },
     "execution_count": 344,
     "metadata": {},
     "output_type": "execute_result"
    }
   ],
   "source": [
    "enkf = ENKF(ensemble_size, meas_size, fprop, ri, g, m, z, ϵ, isinflated, isfiltered, isaugmented)"
   ]
  },
  {
   "cell_type": "code",
   "execution_count": null,
   "metadata": {
    "scrolled": true
   },
   "outputs": [
    {
     "name": "stderr",
     "output_type": "stream",
     "text": [
      "\u001b[32mProgress:  30%|████████████▏                            |  ETA: 0:00:10\u001b[39m"
     ]
    }
   ],
   "source": [
    "tf = 1.0\n",
    "pressure_taps = 10:10:config.N-10\n",
    "T = 0:config.Δt:tf\n",
    "η = 1e-4\n",
    "α = 1.01\n",
    "isenkf = true\n",
    "enstab = []\n",
    "\n",
    "@showprogress for (n,t) in enumerate(T)\n",
    "    N = length(ens)\n",
    "    NZ = meas_size\n",
    "    global ens\n",
    "    global states\n",
    "##########################################################################\n",
    "    \"Propagate each ensemble member\"\n",
    "    ens = EnsembleState(deepcopy(states[end]))\n",
    "    enkf.f(t, ens)\n",
    "    push!(states, deepcopy(ens.S))\n",
    "    \n",
    "    \n",
    "    \n",
    "#     push!(states, [])\n",
    "#     empty_inds = Vector{Int}[]\n",
    "#     len = Int[]\n",
    "    \n",
    "#     # predicted_states (with merging)\n",
    "#     for (i, state) in enumerate(states[end-1])\n",
    "#         new_state = state_equation(state, t, config)\n",
    "#         new_blobs, lesp, tesp = state_to_blobs(new_state, config.δ)\n",
    "#         push!(empty_inds, findall(b -> circulation(b) == 0, new_blobs))\n",
    "#         push!(len, length(new_blobs))\n",
    "#         push!(states[end], new_state)\n",
    "#     end\n",
    "    \n",
    "#     # trim zeros\n",
    "#     @assert all(len .== len[1])\n",
    "#     toremove = intersect(empty_inds...)\n",
    "#     tokeep = filter(i -> i ∉ toremove, 1:len[1])\n",
    "#     for (i, state) in enumerate(states[end])\n",
    "#         new_blobs, lesp, tesp = state_to_blobs(state, config.δ)\n",
    "#         states[end][i] = blobs_to_state(new_blobs[tokeep], lesp, tesp)\n",
    "#     end\n",
    "    \n",
    "\n",
    "\n",
    "##########################################################################\n",
    "#     \"Covariance inflation if 'isinflated==true' \"\n",
    "    ens = EnsembleState(deepcopy(states[end]))\n",
    "    \n",
    "    if enkf.isinflated ==true\n",
    "        enkf.A(ens)\n",
    "    end\n",
    "    \n",
    "    \"State filtering if 'isfiltered==true' \"\n",
    "    if enkf.isfiltered ==true\n",
    "        enkf.G(ens)\n",
    "    end\n",
    "    \n",
    "    states[end] = deepcopy(ens.S)\n",
    "    \n",
    "    \n",
    "#     mean_state = mean(states[end])\n",
    "    \n",
    "#     # Covariance inflation\n",
    "#     for (j,x) in enumerate(states[end])\n",
    "#         x .= mean_state .+ 1.01*(x .- mean_state)\n",
    "#         if n > 5\n",
    "#         for i in 1:3:size(mean_state, 1)-3\n",
    "#             x[i:i+1] += 1e-5*randn(2)\n",
    "#             x[i+2]   += 1e-5*randn()\n",
    "#         end\n",
    "#                 x[end-1] = clamp(x[end-1] + 5e-5*randn(), 0.0, 3.0)\n",
    "#         end\n",
    "#     end\n",
    "    \n",
    "###########################################################################\n",
    "    \"Compute mean and deviation\"\n",
    "    ens = EnsembleState(deepcopy(states[end]))\n",
    "#     ensbis = deepcopy(ens)\n",
    "\n",
    "    ensfluc = EnsembleState(N, ens.S[1])\n",
    "\n",
    "    deviation(ensfluc, ens)\n",
    "    \n",
    "#     println(norm(ens.S - ensbis.S))\n",
    "\n",
    "    A′ = hcat(ensfluc)\n",
    "    \n",
    "    # Compute deviation from mean state\n",
    "\n",
    "    \n",
    "#     mean_state .= mean(ens)\n",
    "    \n",
    "#     mean_state .= mean(states[end])\n",
    "#     A′ = hcat(states[end]...)\n",
    "#     A′ .-= mean_state\n",
    "    \n",
    "#     println(norm(A′ - A′temp))\n",
    "\n",
    "\n",
    "##########################################################################    \n",
    "    \"Compute measurement\"\n",
    "    \n",
    "    mens = EnsembleState(N, zeros(NZ))\n",
    "    \n",
    "    ens = EnsembleState(deepcopy(states[end]))\n",
    "    \n",
    "    for (i, s) in enumerate(ens.S)\n",
    "        mens.S[i] = enkf.m(t, deepcopy(s))\n",
    "    end\n",
    "    \n",
    "    \n",
    "    # compute measurements\n",
    "#     P = [measure_state(s, t, config, pressure_taps) for s in states[end]]\n",
    "    \n",
    "#     println(norm(hcat(deepcopy(mens)) - hcat(P...)))\n",
    "    \n",
    "###########################################################################    \n",
    "    Â = hcat(deepcopy(mens))\n",
    "#     # println(\"good measurement\")\n",
    "\n",
    "    \"Compute deviation from measurement of the mean\"\n",
    "    \n",
    "    Ŝ = mean(deepcopy(ens))\n",
    "    Â′  = Â .- enkf.m(t, Ŝ)\n",
    "    \n",
    "    # compute deviation from measurement of the mean\n",
    "#     Â = hcat(P...)\n",
    "#     Â′= Â .- measure_state(mean_state, t, config, pressure_taps)\n",
    "\n",
    "#     println(norm(Â′ - Âtemp′))\n",
    "##########################################################################    \n",
    "    \"Get actual measurement\"\n",
    "    zens = EnsembleState(N, zeros(NZ))\n",
    "    enkf.z(t+config.Δt, zens)\n",
    "# Dtemp = hcat(zens)    \n",
    "    \n",
    "#     # get actual measurements\n",
    "# D = repeat(cfd_pressure(t+config.Δt, pressure_taps, config, pressure_data), 1, ensemble_size)\n",
    "\n",
    "# print(norm(D-Dtemp))\n",
    "    \n",
    "##########################################################################    \n",
    "    \"Perturb actual measurement\"\n",
    "    enkf.ϵ(zens)\n",
    "\n",
    "    D = hcat(zens)\n",
    "    \n",
    "    \n",
    "    # perturbe actual measurements\n",
    "#     E = η*randn(size(Â′))\n",
    "#     D .+= E\n",
    "    \n",
    "    \n",
    "\n",
    "##########################################################################\n",
    "    \"Analysis step with representers, Evensen, Leeuwen et al. 1998\"\n",
    "\n",
    "#     if enkf.isaugmented ==true\n",
    "#     \"Construct representers\"\n",
    "\n",
    "    b = ((Â′*Â′') + (ensemble_size-1)*(cov(enkf.ϵ))*I) \\ (D - Â)\n",
    "#     println(norm())\n",
    "\n",
    "    Bᵀb = (A′*Â′')*b\n",
    "    \n",
    "#     b = ((Â′*Â′') + (ensemble_size-1)*(η^2)*I) \\ (D - Â)\n",
    "#     Bᵀb = (A′*Â′')*b\n",
    "    \n",
    "#     println(norm(Bᵀbtemp-Bᵀb))\n",
    "    \n",
    "    \n",
    "    # print(size(Bᵀb))\n",
    "    # print(size(ens))\n",
    "    \n",
    "    \n",
    "###########################################################################\n",
    "    \"Analysis step\"\n",
    "    \n",
    "    ens = EnsembleState(deepcopy(states[end]))\n",
    "    ens += cut(Bᵀb)\n",
    "\n",
    "\n",
    "    \"State filtering if 'isfiltered==true' \"\n",
    "    if enkf.isfiltered ==true\n",
    "        enkf.G(ens)\n",
    "    end\n",
    "    \n",
    "    \n",
    "    states[end] = deepcopy(ens.S)\n",
    "    \n",
    "#     for i in 1:ensemble_size\n",
    "#         states[end][i] .+= Bᵀb[:,i]\n",
    "#         states[end][i][end-1] = clamp(states[end][i][end-1], 0, 3)\n",
    "#     end\n",
    "    \n",
    "#     mean_state .= mean(states[end])\n",
    "    \n",
    "#     println(norm(mean_state - mean(deepcopy(ens))))\n",
    "\n",
    "#     end\n",
    "\n",
    "#     return t+Δt, ens\n",
    "#     push!(ttab, t + config.Δt)\n",
    "#     push!(enstab, deepcopy(states))\n",
    "end"
   ]
  },
  {
   "cell_type": "code",
   "execution_count": 342,
   "metadata": {},
   "outputs": [
    {
     "data": {
      "image/png": "[encoded data removed]"
     },
     "execution_count": 342,
     "metadata": {},
     "output_type": "execute_result"
    }
   ],
   "source": [
    "f = regen_forces(collect(T[1:length(states)-1]), mean.(states[1:end-1]), config);\n",
    "plot(re500_data[\"force\"][\"t\"], abs.(re500_data[\"force\"][\"F\"]), label = \"\\$\\\\mathrm{Re} = 500\\$ CFD\", xlim = (0,5),\n",
    "legend = false, linewidth = 2)\n",
    "plot!(collect(T[1:length(states)-1]), 2abs.(f), ylim = (0, 3), label = \"EnKF Mean\", ylabel=\"\\$F_n\\$\", xlabel = \"Convective Time\", size = (600, 300),\n",
    "linewidth = 2, linestyle = :dash)\n",
    "# savefig(\"EnKF\\ Results/Re500/2pulse01/no_inflation/force.pdf\")"
   ]
  },
  {
   "cell_type": "code",
   "execution_count": 155,
   "metadata": {},
   "outputs": [
    {
     "data": {
      "text/plain": [
       "33.28981321267417"
      ]
     },
     "execution_count": 155,
     "metadata": {},
     "output_type": "execute_result"
    }
   ],
   "source": [
    "norm(ens.S)"
   ]
  },
  {
   "cell_type": "code",
   "execution_count": 65,
   "metadata": {},
   "outputs": [
    {
     "data": {
      "image/png": "[encoded data removed]"
     },
     "execution_count": 65,
     "metadata": {},
     "output_type": "execute_result"
    }
   ],
   "source": [
    "f = regen_forces(T, mean.(states), config);\n",
    "plot(re500_data[\"force\"][\"t\"], abs.(re500_data[\"force\"][\"F\"]), label = \"\\$\\\\mathrm{Re} = 500\\$ CFD\", xlim = (0,5),\n",
    "legend = false, linewidth = 2)\n",
    "plot!(T, 2abs.(f)[1:end-1], ylim = (0, 3), label = \"EnKF Mean\", ylabel=\"\\$F_n\\$\", xlabel = \"Convective Time\", size = (600, 300),\n",
    "linewidth = 2, linestyle = :dash)\n",
    "# savefig(\"EnKF\\ Results/Re500/2pulse01/no_inflation/force.pdf\")"
   ]
  },
  {
   "cell_type": "code",
   "execution_count": 228,
   "metadata": {},
   "outputs": [
    {
     "ename": "DimensionMismatch",
     "evalue": "DimensionMismatch(\"dimensions must match\")",
     "output_type": "error",
     "traceback": [
      "DimensionMismatch(\"dimensions must match\")",
      "",
      "Stacktrace:",
      " [1] promote_shape at ./indices.jl:154 [inlined]",
      " [2] promote_shape at ./indices.jl:145 [inlined]",
      " [3] + at ./arraymath.jl:45 [inlined]",
      " [4] _broadcast_getindex_evalf at ./broadcast.jl:578 [inlined]",
      " [5] _broadcast_getindex at ./broadcast.jl:551 [inlined]",
      " [6] getindex at ./broadcast.jl:511 [inlined]",
      " [7] macro expansion at ./broadcast.jl:843 [inlined]",
      " [8] macro expansion at ./simdloop.jl:73 [inlined]",
      " [9] copyto! at ./broadcast.jl:842 [inlined]",
      " [10] copyto! at ./broadcast.jl:797 [inlined]",
      " [11] copy at ./broadcast.jl:773 [inlined]",
      " [12] materialize at ./broadcast.jl:753 [inlined]",
      " [13] broadcast(::typeof(+), ::Array{Array{Float64,1},1}, ::Array{Array{Float64,1},1}) at ./broadcast.jl:707",
      " [14] + at ./arraymath.jl:47 [inlined]",
      " [15] add_sum at ./reduce.jl:21 [inlined]",
      " [16] _mapreduce(::typeof(identity), ::typeof(Base.add_sum), ::IndexLinear, ::Array{Array{Array{Float64,1},1},1}) at ./reduce.jl:313",
      " [17] _mapreduce_dim at ./reducedim.jl:308 [inlined]",
      " [18] #mapreduce#548 at ./reducedim.jl:304 [inlined]",
      " [19] mapreduce at ./reducedim.jl:304 [inlined]",
      " [20] _sum at ./reducedim.jl:653 [inlined]",
      " [21] _sum at ./reducedim.jl:652 [inlined]",
      " [22] #sum#550 at ./reducedim.jl:648 [inlined]",
      " [23] sum at ./reducedim.jl:648 [inlined]",
      " [24] _mean at /buildworker/worker/package_linux64/build/usr/share/julia/stdlib/v1.1/Statistics/src/Statistics.jl:135 [inlined]",
      " [25] #mean#1 at /buildworker/worker/package_linux64/build/usr/share/julia/stdlib/v1.1/Statistics/src/Statistics.jl:132 [inlined]",
      " [26] mean(::Array{Array{Array{Float64,1},1},1}) at /buildworker/worker/package_linux64/build/usr/share/julia/stdlib/v1.1/Statistics/src/Statistics.jl:132",
      " [27] _broadcast_getindex_evalf at ./broadcast.jl:578 [inlined]",
      " [28] _broadcast_getindex at ./broadcast.jl:551 [inlined]",
      " [29] getindex at ./broadcast.jl:511 [inlined]",
      " [30] copy at ./broadcast.jl:787 [inlined]",
      " [31] materialize(::Base.Broadcast.Broadcasted{Base.Broadcast.DefaultArrayStyle{1},Nothing,typeof(mean),Tuple{Array{Any,1}}}) at ./broadcast.jl:753",
      " [32] top-level scope at In[228]:1"
     ]
    }
   ],
   "source": [
    "f = regen_forces(T, mean.(enstab), config);\n",
    "# plot(re500_data[\"force\"][\"t\"], abs.(re500_data[\"force\"][\"F\"]), label = \"\\$\\\\mathrm{Re} = 500\\$ CFD\", xlim = (0,5),\n",
    "# legend = false, linewidth = 2)\n",
    "# plot!(T, 2abs.(f)[1:end-1], ylim = (0, 3), label = \"EnKF Mean\", ylabel=\"\\$F_n\\$\", xlabel = \"Convective Time\", size = (600, 300),\n",
    "# linewidth = 2, linestyle = :dash)\n",
    "# savefig(\"EnKF\\ Results/Re500/2pulse01/no_inflation/force.pdf\")"
   ]
  },
  {
   "cell_type": "code",
   "execution_count": 390,
   "metadata": {},
   "outputs": [
    {
     "name": "stderr",
     "output_type": "stream",
     "text": [
      "\u001b[32mProgress: 100%|█████████████████████████████████████████| Time: 0:01:21\u001b[39m\n"
     ]
    }
   ],
   "source": [
    "enstab = [ens.S]\n",
    "t = 0.0\n",
    "ttab = [t]\n",
    "\n",
    "\n",
    "@showprogress for (n,ti) in enumerate(T)\n",
    "\n",
    "    global t, ens = enkf(t, config.Δt, ens)\n",
    "    \n",
    "    push!(enstab, ens.S)\n",
    "    push!(ttab, deepcopy(t))\n",
    "end"
   ]
  },
  {
   "cell_type": "code",
   "execution_count": 127,
   "metadata": {},
   "outputs": [
    {
     "data": {
      "text/plain": [
       "52-element Array{Float64,1}:\n",
       " 0.8960657257977194 \n",
       " 0.7394822153005288 \n",
       " 0.5468873436367131 \n",
       " 0.495569668505576  \n",
       " 0.5618260806573068 \n",
       " 0.48322023213421983\n",
       " 0.3426670993687033 \n",
       " 0.6127089905440227 \n",
       " 0.5222321287997207 \n",
       " 0.5500260816729551 \n",
       " 0.5763172976825579 \n",
       " 0.5679107377042258 \n",
       " 0.5581310043984484 \n",
       " ⋮                  \n",
       " 0.6407141092710112 \n",
       " 0.6406823331214545 \n",
       " 0.6713528486073196 \n",
       " 0.6553665447123276 \n",
       " 0.646766351715447  \n",
       " 0.6468706398897743 \n",
       " 0.6481351584317724 \n",
       " 0.6503846485145419 \n",
       " 0.6748608015531374 \n",
       " 0.6724567620871715 \n",
       " 0.6653691988157279 \n",
       " 1.3381084723044872 "
      ]
     },
     "execution_count": 127,
     "metadata": {},
     "output_type": "execute_result"
    }
   ],
   "source": [
    "abs.(f)"
   ]
  },
  {
   "cell_type": "code",
   "execution_count": null,
   "metadata": {},
   "outputs": [],
   "source": [
    "tf = 5.0\n",
    "pressure_taps = 10:10:config.N-10\n",
    "T = 0:config.Δt:tf\n",
    "ϵ = 1e-4\n",
    "α = 1.01\n",
    "isenkf = true\n",
    "\n",
    "@showprogress for (n,t) in enumerate(T)\n",
    "    N = length(ens)\n",
    "    NZ = meas_size\n",
    "#     global ens\n",
    "#     global states\n",
    "##########################################################################\n",
    "    \"Propagate each ensemble member\"\n",
    "#     enkf.f(t, ens)\n",
    "    \n",
    "    push!(states, [])\n",
    "    empty_inds = Vector{Int}[]\n",
    "    len = Int[]\n",
    "    \n",
    "    # predicted_states (with merging)\n",
    "    for (i, state) in enumerate(states[end-1])\n",
    "        new_state = state_equation(state, t, config)\n",
    "        new_blobs, lesp, tesp = state_to_blobs(new_state, config.δ)\n",
    "        push!(empty_inds, findall(b -> circulation(b) == 0, new_blobs))\n",
    "        push!(len, length(new_blobs))\n",
    "        push!(states[end], new_state)\n",
    "    end\n",
    "    \n",
    "    # trim zeros\n",
    "    @assert all(len .== len[1])\n",
    "    toremove = intersect(empty_inds...)\n",
    "    tokeep = filter(i -> i ∉ toremove, 1:len[1])\n",
    "    for (i, state) in enumerate(states[end])\n",
    "        new_blobs, lesp, tesp = state_to_blobs(state, config.δ)\n",
    "        states[end][i] = blobs_to_state(new_blobs[tokeep], lesp, tesp)\n",
    "    end\n",
    "    \n",
    "\n",
    "\n",
    "##########################################################################\n",
    "    \"Covariance inflation if 'isinflated==true' \"\n",
    "#     if enkf.isinflated ==true\n",
    "#         enkf.A(ens)\n",
    "#     end\n",
    "    \n",
    "    \"State filtering if 'isfiltered==true' \"\n",
    "#     if enkf.isfiltered ==true\n",
    "#         enkf.G(ens)\n",
    "#     end\n",
    "\n",
    "#     states = deepcopy(ens.S)\n",
    "    \n",
    "    mean_state = mean(states[end])\n",
    "    \n",
    "    # Covariance inflation\n",
    "    for (j,x) in enumerate(states[end])\n",
    "        x .= mean_state .+ 1.01*(x .- mean_state)\n",
    "        if n > 5\n",
    "        for i in 1:3:size(mean_state, 1)-3\n",
    "            x[i:i+1] += 1e-5*randn(2)\n",
    "            x[i+2]   += 1e-5*randn()\n",
    "        end\n",
    "                x[end-1] = clamp(x[end-1] + 5e-5*randn(), 0.0, 3.0)\n",
    "        end\n",
    "    end\n",
    "    \n",
    "###########################################################################\n",
    "    \"Compute mean and deviation\"\n",
    "    \n",
    "#     Ŝ = deepcopy(mean(ens))\n",
    "\n",
    "#     ensfluc = EnsembleState(N, ens.S[1])\n",
    "\n",
    "#     deviation(ensfluc, ens)\n",
    "\n",
    "#     A′ = hcat(ensfluc)\n",
    "    \n",
    "    # Compute deviation from mean state\n",
    "\n",
    "    \n",
    "#     mean_state .= mean(ens)\n",
    "    \n",
    "    mean_state .= mean(states[end])\n",
    "    A′ = hcat(states[end]...)\n",
    "    A′ .-= mean_state\n",
    "\n",
    "\n",
    "##########################################################################    \n",
    "    \"Compute measurement\"\n",
    "    \n",
    "#     mens = EnsembleState(N, zeros(NZ))\n",
    "\n",
    "#     for (i, s) in enumerate(ens.S)\n",
    "#         mens.S[i] = enkf.m(t, deepcopy(s))\n",
    "#     end\n",
    "    \n",
    "    # compute measurements\n",
    "    P = [measure_state(s, t, config, pressure_taps) for s in states[end]]\n",
    "    \n",
    "    \n",
    "###########################################################################    \n",
    "#     Â = hcat(deepcopy(mens))\n",
    "#     # println(\"good measurement\")\n",
    "\n",
    "    \"Compute deviation from measurement of the mean\"\n",
    "#     Â′  = Â .- enkf.m(t, Ŝ)\n",
    "    \n",
    "    # compute deviation from measurement of the mean\n",
    "    Â = hcat(P...)\n",
    "    Â′= Â .- measure_state(mean_state, t, config, pressure_taps)\n",
    "\n",
    "\n",
    "##########################################################################    \n",
    "    \"Get actual measurement\"\n",
    "#     zens = EnsembleState(N, zeros(NZ))\n",
    "#     enkf.z(t+config.Δt, zens)\n",
    "    \n",
    "    \n",
    "    # get actual measurements\n",
    "D = repeat(cfd_pressure(t+config.Δt, pressure_taps, config, pressure_data), 1, ensemble_size)\n",
    "\n",
    "    \n",
    "##########################################################################    \n",
    "    \"Perturb actual measurement\"\n",
    "#     enkf.ϵ(zens)\n",
    "\n",
    "#     D = hcat(zens)\n",
    "    \n",
    "    # perturbe actual measurements\n",
    "    E = η*randn(size(Â′))\n",
    "    D .+= E\n",
    "    \n",
    "    \n",
    "\n",
    "##########################################################################\n",
    "    \"Analysis step with representers, Evensen, Leeuwen et al. 1998\"\n",
    "\n",
    "#     if enkf.isaugmented ==true\n",
    "#     \"Construct representers\"\n",
    "\n",
    "#     b = ((Â′*Â′') + (N-1)*cov(enkf.ϵ)*I) \\ (D - Â)\n",
    "\n",
    "#     Bᵀb = (A′*Â′')*b\n",
    "    \n",
    "    b = ((Â′*Â′') + (ensemble_size-1)*(η^2)*I) \\ (D - Â)\n",
    "    Bᵀb = (A′*Â′')*b\n",
    "    \n",
    "    \n",
    "    # print(size(Bᵀb))\n",
    "    # print(size(ens))\n",
    "    \n",
    "    \n",
    "###########################################################################\n",
    "#     \"Analysis step\"\n",
    "#     ens += cut(Bᵀb)\n",
    "\n",
    "\n",
    "#     \"State filtering if 'isfiltered==true' \"\n",
    "#     if enkf.isfiltered ==true\n",
    "#         enkf.G(ens)\n",
    "#     end\n",
    "    \n",
    "    for i in 1:ensemble_size\n",
    "        states[end][i] .+= Bᵀb[:,i]\n",
    "        states[end][i][end-1] = clamp(states[end][i][end-1], 0, 3)\n",
    "    end\n",
    "    \n",
    "    mean_state .= mean(states[end])\n",
    "\n",
    "#     end\n",
    "\n",
    "#     return t+Δt, ens\n",
    "#     push!(ttab, t + config.Δt)\n",
    "#     push!(enstab, states)\n",
    "end"
   ]
  },
  {
   "cell_type": "code",
   "execution_count": 190,
   "metadata": {},
   "outputs": [
    {
     "name": "stderr",
     "output_type": "stream",
     "text": [
      "\u001b[32mProgress: 100%|█████████████████████████████████████████| Time: 0:01:27\u001b[39m\n"
     ]
    }
   ],
   "source": [
    "tf = 5.0\n",
    "pressure_taps = 10:10:config.N-10\n",
    "T = 0:config.Δt:tf\n",
    "ϵ = 1e-4\n",
    "α = 1.01\n",
    "isenkf = true\n",
    "@showprogress for (n,t) in enumerate(T)\n",
    "    push!(states, [])\n",
    "    empty_inds = Vector{Int}[]\n",
    "    len = Int[]\n",
    "    \n",
    "    # predicted_states (with merging)\n",
    "    for (i, state) in enumerate(states[end-1])\n",
    "        new_state = state_equation(state, t, config)\n",
    "        new_blobs, lesp, tesp = state_to_blobs(new_state, config.δ)\n",
    "        push!(empty_inds, findall(b -> circulation(b) == 0, new_blobs))\n",
    "        push!(len, length(new_blobs))\n",
    "        push!(states[end], new_state)\n",
    "    end\n",
    "    \n",
    "    # trim zeros\n",
    "    @assert all(len .== len[1])\n",
    "    toremove = intersect(empty_inds...)\n",
    "    tokeep = filter(i -> i ∉ toremove, 1:len[1])\n",
    "    for (i, state) in enumerate(states[end])\n",
    "        new_blobs, lesp, tesp = state_to_blobs(state, config.δ)\n",
    "        states[end][i] = blobs_to_state(new_blobs[tokeep], lesp, tesp)\n",
    "    end\n",
    "    \n",
    "    mean_state = mean(states[end])\n",
    "    \n",
    "    # Covariance inflation\n",
    "    if isenkf\n",
    "    for (j,x) in enumerate(states[end])\n",
    "        x .= mean_state .+ α*(x .- mean_state)\n",
    "        if n > 5\n",
    "        for i in 1:3:size(mean_state, 1)-3\n",
    "            x[i:i+1] += 1e-5*randn(2)\n",
    "            x[i+2]   += 1e-5*randn()\n",
    "        end\n",
    "                x[end-1] = clamp(x[end-1] + 5e-5*randn(), 0.0, 3.0)\n",
    "        end\n",
    "    end\n",
    "    mean_state .= mean(states[end])\n",
    "    \n",
    "    # Compute deviation from mean state\n",
    "    A′ = hcat(states[end]...)\n",
    "    A′ .-= mean_state\n",
    "\n",
    "    # compute measurements\n",
    "    P = [measure_state(s, t, config, pressure_taps) for s in states[end]]\n",
    "\n",
    "    # compute deviation from measurement of the mean\n",
    "    Â = hcat(P...)\n",
    "    Â′= Â .- measure_state(mean_state, t, config, pressure_taps)\n",
    "\n",
    "\n",
    "    # get actual measurements\n",
    "    D = repeat(cfd_pressure(t+config.Δt, pressure_taps, config, pressure_data), 1, ensemble_size)\n",
    "\n",
    "    # perturbe actual measurements\n",
    "    E = ϵ*randn(size(Â′))\n",
    "    D .+= E\n",
    "\n",
    "    b = ((Â′*Â′') + (ensemble_size-1)*(ϵ^2)*I) \\ (D - Â)\n",
    "    Bᵀb = (A′*Â′')*b\n",
    "\n",
    "\n",
    "    for i in 1:ensemble_size\n",
    "        states[end][i] .+= Bᵀb[:,i]\n",
    "        states[end][i][end-1] = clamp(states[end][i][end-1], 0, 3)\n",
    "    end\n",
    "    \n",
    "    mean_state .= mean(states[end])\n",
    "    # Compute deviation from mean state\n",
    "    A′ = hcat(states[end]...)\n",
    "    A′ .-= mean_state\n",
    "    push!(covs, A′*A′')\n",
    "    end\n",
    "    \n",
    "end"
   ]
  },
  {
   "cell_type": "markdown",
   "metadata": {},
   "source": [
    "One of the ensemble member"
   ]
  },
  {
   "cell_type": "code",
   "execution_count": 72,
   "metadata": {},
   "outputs": [
    {
     "ename": "UndefVarError",
     "evalue": "UndefVarError: states not defined",
     "output_type": "error",
     "traceback": [
      "UndefVarError: states not defined",
      "",
      "Stacktrace:",
      " [1] top-level scope at In[72]:6",
      " [2] top-level scope at /home/mat/.julia/packages/ProgressMeter/NIpPa/src/ProgressMeter.jl:606",
      " [3] top-level scope at In[72]:5"
     ]
    }
   ],
   "source": [
    "\n",
    "ϵ = 1e-4\n",
    "α = 1.01\n",
    "isenkf = true\n",
    "@showprogress for (n,t) in enumerate(T)\n",
    "    push!(states, [])\n",
    "    empty_inds = Vector{Int}[]\n",
    "    len = Int[]\n",
    "    \n",
    "    # predicted_states (with merging)\n",
    "    for (i, state) in enumerate(states[end-1])\n",
    "        new_state = state_equation(state, t, config)\n",
    "        new_blobs, lesp, tesp = state_to_blobs(new_state, config.δ)\n",
    "        push!(empty_inds, findall(b -> circulation(b) == 0, new_blobs))\n",
    "        push!(len, length(new_blobs))\n",
    "        push!(states[end], new_state)\n",
    "    end\n",
    "    \n",
    "    # trim zeros\n",
    "    @assert all(len .== len[1])\n",
    "    toremove = intersect(empty_inds...)\n",
    "    tokeep = filter(i -> i ∉ toremove, 1:len[1])\n",
    "    for (i, state) in enumerate(states[end])\n",
    "        new_blobs, lesp, tesp = state_to_blobs(state, config.δ)\n",
    "        states[end][i] = blobs_to_state(new_blobs[tokeep], lesp, tesp)\n",
    "    end\n",
    "    \n",
    "    mean_state = mean(states[end])\n",
    "    \n",
    "    # Covariance inflation\n",
    "    if isenkf\n",
    "    for (j,x) in enumerate(states[end])\n",
    "        x .= mean_state .+ α*(x .- mean_state)\n",
    "        if n > 5\n",
    "        for i in 1:3:size(mean_state, 1)-3\n",
    "            x[i:i+1] += 1e-5*randn(2)\n",
    "            x[i+2]   += 1e-5*randn()\n",
    "        end\n",
    "                x[end-1] = clamp(x[end-1] + 5e-5*randn(), 0.0, 3.0)\n",
    "        end\n",
    "    end\n",
    "    mean_state .= mean(states[end])\n",
    "    \n",
    "    # Compute deviation from mean state\n",
    "    A′ = hcat(states[end]...)\n",
    "    A′ .-= mean_state\n",
    "\n",
    "    # compute measurements\n",
    "    P = [measure_state(s, t, config, pressure_taps) for s in states[end]]\n",
    "\n",
    "    # compute deviation from measurement of the mean\n",
    "    Â = hcat(P...)\n",
    "    Â′= Â .- measure_state(mean_state, t, config, pressure_taps)\n",
    "\n",
    "\n",
    "    # get actual measurements\n",
    "    D = repeat(cfd_pressure(t+config.Δt, pressure_taps, config, pressure_data), 1, ensemble_size)\n",
    "\n",
    "    # perturbe actual measurements\n",
    "    E = ϵ*randn(size(Â′))\n",
    "    D .+= E\n",
    "\n",
    "    b = ((Â′*Â′') + (ensemble_size-1)*(ϵ^2)*I) \\ (D - Â)\n",
    "    Bᵀb = (A′*Â′')*b\n",
    "\n",
    "\n",
    "    for i in 1:ensemble_size\n",
    "        states[end][i] .+= Bᵀb[:,i]\n",
    "        states[end][i][end-1] = clamp(states[end][i][end-1], 0, 3)\n",
    "    end\n",
    "    \n",
    "    mean_state .= mean(states[end])\n",
    "    # Compute deviation from mean state\n",
    "    A′ = hcat(states[end]...)\n",
    "    A′ .-= mean_state\n",
    "    push!(covs, A′*A′')\n",
    "    end\n",
    "    \n",
    "end"
   ]
  },
  {
   "cell_type": "code",
   "execution_count": null,
   "metadata": {},
   "outputs": [],
   "source": [
    "member_state(ensemble_state, i) =  [ensemble_state[t][i] for t = 1:size(ensemble_state,1)]"
   ]
  },
  {
   "cell_type": "code",
   "execution_count": null,
   "metadata": {},
   "outputs": [],
   "source": [
    "member_state(states,10)[4] - states[4][10]\n",
    "\n",
    "member_state(states,50)[150] - states[150][50];"
   ]
  },
  {
   "cell_type": "code",
   "execution_count": null,
   "metadata": {},
   "outputs": [],
   "source": [
    "mean.(states)[4]"
   ]
  },
  {
   "cell_type": "code",
   "execution_count": null,
   "metadata": {},
   "outputs": [],
   "source": [
    "member_state(states,25)[150] "
   ]
  },
  {
   "cell_type": "code",
   "execution_count": null,
   "metadata": {},
   "outputs": [],
   "source": [
    "f1 = regen_forces(T, member_state(states,1), config);\n",
    "plot(re500_data[\"force\"][\"t\"], abs.(re500_data[\"force\"][\"F\"]), label = \"\\$\\\\mathrm{Re} = 500\\$ CFD\", xlim = (0,5),\n",
    "legend = false, linewidth = 2)\n",
    "plot!(T, 2abs.(f1)[1:end-1], ylim = (0, 3), label = \"EnKF Mean\", ylabel=\"\\$F_n\\$\", xlabel = \"Convective Time\", size = (600, 300),\n",
    "linewidth = 2, linestyle = :dash)\n",
    "# savefig(\"EnKF\\ Results/Re500/2pulse01/no_inflation/force.pdf\")"
   ]
  },
  {
   "cell_type": "code",
   "execution_count": null,
   "metadata": {},
   "outputs": [],
   "source": [
    "# plt = plot(re500_data[\"force\"][\"t\"], abs.(re500_data[\"force\"][\"F\"]), label = \"\\$\\\\mathrm{Re} = 500\\$ CFD\", xlim = (0,5),\n",
    "# legend = false, linewidth = 2)\n",
    "# for i = 1:10#ensemble_size\n",
    "\n",
    "f = regen_forces(T, member_state(states,50), config);\n",
    "\n",
    "plot!(T, 2abs.(f)[1:end-1], ylim = (0, 3), label = \"EnKF Mean\", ylabel=\"\\$F_n\\$\", xlabel = \"Convective Time\", size = (600, 300),\n",
    "linewidth = 1, linestyle = :dash)\n",
    "# savefig(\"EnKF\\ Results/Re500/2pulse01/no_inflation/force.pdf\")\n",
    "# end\n",
    "# plt"
   ]
  },
  {
   "cell_type": "code",
   "execution_count": null,
   "metadata": {},
   "outputs": [],
   "source": [
    "f1 = regen_forces(T, member_state(states,10), config);\n",
    "f2 = regen_forces(T, member_state(states,50), config);"
   ]
  },
  {
   "cell_type": "code",
   "execution_count": null,
   "metadata": {},
   "outputs": [],
   "source": [
    "plot(T, 2abs.(f1)[1:end-1])#, ylim = (0, 3), label = \"EnKF Mean\", ylabel=\"\\$F_n\\$\", xlabel = \"Convective Time\", size = (600, 300),\n",
    "# linewidth = 2, linestyle = :dash)\n",
    "plot!(T, 2abs.(f2)[1:end-1])#, ylim = (0, 3), label = \"EnKF Mean\", ylabel=\"\\$F_n\\$\", xlabel = \"Convective Time\", size = (600, 300),\n",
    "# linewidth = 2, linestyle = :dash)"
   ]
  },
  {
   "cell_type": "code",
   "execution_count": null,
   "metadata": {},
   "outputs": [],
   "source": [
    "plot(T, 2abs.(f1)[1:end-1])#, ylim = (0, 3), label = \"EnKF Mean\", ylabel=\"\\$F_n\\$\", xlabel = \"Convective Time\", size = (600, 300),\n",
    "# linewidth = 2, linestyle = :dash)\n",
    "plot!(T, 2abs.(f2)[1:end-1])#, ylim = (0, 3), label = \"EnKF Mean\", ylabel=\"\\$F_n\\$\", xlabel = \"Convective Time\", size = (600, 300),\n",
    "# linewidth = 2, linestyle = :dash)"
   ]
  },
  {
   "cell_type": "code",
   "execution_count": null,
   "metadata": {},
   "outputs": [],
   "source": [
    "# f = regen_forces(T, mean.(states), config);\n",
    "# plot(re500_data[\"force\"][\"t\"], abs.(re500_data[\"force\"][\"F\"]), label = \"\\$\\\\mathrm{Re} = 500\\$ CFD\", xlim = (0,5),\n",
    "# legend = false, linewidth = 2)\n",
    "# plot!(T, 2abs.(f)[1:end-1], ylim = (0, 3), label = \"EnKF Mean\", ylabel=\"\\$F_n\\$\", xlabel = \"Convective Time\", size = (600, 300),\n",
    "# linewidth = 2, linestyle = :dash)\n",
    "# # savefig(\"EnKF\\ Results/Re500/2pulse01/no_inflation/force.pdf\")"
   ]
  },
  {
   "cell_type": "code",
   "execution_count": null,
   "metadata": {},
   "outputs": [],
   "source": [
    "let s = [-0.5config.L*cos(θ) for θ in range(0.0, stop = π, length = config.N)][pressure_taps],\n",
    "    model_pressures = hcat((measure_state(mean(states[i+1]), t, config, pressure_taps) for (i,t) in enumerate(T))...),\n",
    "    cfd_pressures = hcat((cfd_pressure(t, pressure_taps, config, pressure_data) for t in T)...)\n",
    "    \n",
    "    plt = plot(layout = (2,1), size = (800, 400))\n",
    "    contourf!(T, s, [cfd_pressures, model_pressures], title = [\"\\$\\\\mathrm{Re} = 500\\$ CFD\" \"EnKF Mean\"],\n",
    "        levels = range(-2.0, stop  = 2.0, length = 151), clims = (-2, 2), color = cgrad(reverse(colormap(\"RdBu\"))), xlabel = [\"\" \"Convective Time\"],\n",
    "        yticks = ([0.5, -0.5], [\"LE\", \"TE\"]), background_color_inside = colormap(\"RdBu\")[end], colorbar_title=\"Pressure\")\n",
    "end\n",
    "# savefig(\"EnKF\\ Results/Re500"
   ]
  },
  {
   "cell_type": "code",
   "execution_count": null,
   "metadata": {},
   "outputs": [],
   "source": [
    "# let s = [-0.5config.L*cos(θ) for θ in linspace(0, π, config.N)][pressure_taps],\n",
    "#     model_pressures = hcat((measure_state(mean(states[i+1]), t, config, pressure_taps) for (i,t) in enumerate(T))...),\n",
    "#     cfd_pressures = hcat((cfd_pressure(t, pressure_taps, config, pressure_data) for t in T)...)\n",
    "    \n",
    "#     plt = plot(layout = (2,1), size = (800, 400))\n",
    "#     contourf!(T, s, [cfd_pressures, model_pressures], title = [\"\\$\\\\mathrm{Re} = 500\\$ CFD\" \"EnKF Mean\"],\n",
    "#         levels = linspace(-2, 2, 151), clims = (-2, 2), color = cgrad(reverse(colormap(\"RdBu\"))), xlabel = [\"\" \"Convective Time\"],\n",
    "#         yticks = ([0.5, -0.5], [\"LE\", \"TE\"]), background_color_inside = colormap(\"RdBu\")[end], colorbar_title=\"Pressure\")\n",
    "# end\n",
    "# # savefig(\"EnKF\\ Results/Re500/2pulse01/no_inflation/pressure_comparison.pdf\")"
   ]
  },
  {
   "cell_type": "code",
   "execution_count": null,
   "metadata": {},
   "outputs": [],
   "source": [
    "plot(T, [mean((x -> x[end-1]).(s)) for s in states[2:end]], legend = false,\n",
    "    xlabel = \"Convective Time\", ylabel = \"Critical LESP\", linewidth = 2, size = (600, 200),\n",
    "ylim = (0, 1))\n",
    "# savefig(\"EnKF\\ Results/Re500/2pulse01/no_inflation/lesp.pdf\")"
   ]
  },
  {
   "cell_type": "code",
   "execution_count": null,
   "metadata": {},
   "outputs": [],
   "source": [
    "plot(T, [mean((x -> x[end-1]).(s)) for s in states[2:end]], legend = false,\n",
    "    xlabel = \"Convective Time\", ylabel = \"Critical LESP\", linewidth = 2, size = (600, 200),\n",
    "ylim = (0, 1))\n",
    "# savefig(\"EnKF\\ Results/Re500/2pulse01/no_inflation/lesp.pdf\")"
   ]
  },
  {
   "cell_type": "code",
   "execution_count": null,
   "metadata": {},
   "outputs": [],
   "source": [
    "plot(T, [(length(s[1]) - 2) ÷ 3 for s in states[1:end-1]], linewidth = 2, size = (600, 200), legend = false,\n",
    "xlabel = \"Convective Time\", ylabel=\"Particle Count\")\n",
    "# savefig(\"EnKF\\ Results/Re500/2pulse01/no_inflation/particle_count.pdf\")"
   ]
  },
  {
   "cell_type": "code",
   "execution_count": 155,
   "metadata": {},
   "outputs": [
    {
     "ename": "UndefVarError",
     "evalue": "UndefVarError: states not defined",
     "output_type": "error",
     "traceback": [
      "UndefVarError: states not defined",
      "",
      "Stacktrace:",
      " [1] top-level scope at In[155]:1"
     ]
    }
   ],
   "source": [
    "plot(T, [(length(s[1]) - 2) ÷ 3 for s in states[1:end-1]], linewidth = 2, size = (600, 200), legend = false,\n",
    "xlabel = \"Convective Time\", ylabel=\"Particle Count\")\n",
    "# savefig(\"EnKF\\ Results/Re500/2pulse01/no_inflation/particle_count.pdf\")"
   ]
  },
  {
   "cell_type": "code",
   "execution_count": null,
   "metadata": {},
   "outputs": [],
   "source": [
    "plt = plot(layout = (2,2), size = (800, 500), legend = false)\n",
    "plot!(plt[1], T, map(covs) do P\n",
    "        mean(diag(P)[1:3:end-3]) + eps()\n",
    "        end, ylim = (1e-15, 1e-2), yscale = :log10, linewidth = 2, xlabel = \"Convective Time\",\n",
    "ylabel = \"\\$\\\\sigma_x^2\\$\")\n",
    "plot!(plt[2], T, map(covs) do P\n",
    "        mean(diag(P)[2:3:end-3]) + eps()\n",
    "        end, ylim = (1e-15, 1e-2), yscale = :log10, linewidth = 2, xlabel = \"Convective Time\",\n",
    "ylabel = \"\\$\\\\sigma_y^2\\$\")\n",
    "plot!(plt[3],T,  map(covs) do P\n",
    "        mean(diag(P)[3:3:end-3]) + eps()\n",
    "        end, ylim = (1e-15, 1e-2), yscale = :log10, linewidth = 2, xlabel = \"Convective Time\",\n",
    "ylabel = \"\\$\\\\sigma_\\\\Gamma^2\\$\")\n",
    "plot!(plt[4], T, map(covs) do P\n",
    "        mean(diag(P)[end-1]) + eps()\n",
    "        end, ylim = (1e-15, 1e-2), yscale = :log10, linewidth = 2, xlabel = \"Convective Time\",\n",
    "ylabel = \"\\$\\\\sigma_\\\\mathrm{LESP}^2\\$\")\n",
    "# savefig(\"EnKF\\ Results/Re500/2pulse01/no_inflation/covariance.pdf\")"
   ]
  },
  {
   "cell_type": "markdown",
   "metadata": {},
   "source": [
    "### Snapshot Figures"
   ]
  },
  {
   "cell_type": "code",
   "execution_count": null,
   "metadata": {},
   "outputs": [],
   "source": [
    "n = 500\n",
    "# for n in [250, 300, 350, 400, 450, 500]\n",
    "plt = plot(colorbar = :none, size = (750, 450), dpi = 120)\n",
    "plot!(plt, Plate(config.N, config.L, config.Δt*n, config.α), ratio = 1, legend = false)\n",
    "plot!(plt, state_to_blobs(mean(states[n]), config.δ)[1], markersize = 15sqrt.(abs.(mean(states[n])[3:3:end-2])), markerstrokealpha = 0, color = cgrad(reverse(colormap(\"RdBu\"))), clim = (-0.02, 0.02), \n",
    "    ratio = 1, xlim = (n/100 - 2, n/100 + 1), ylim = (-0.75,1), xticks = (n/100 - 2):0.5:(n/100 + 1)\n",
    ")\n",
    "# savefig(\"EnKF\\ Results/Re500/2pulse01/no_inflation/enkf_t$(lpad(n, 3, 0)).pdf\")\n",
    "\n",
    "# plt = plot(colorbar = :none, size = (750, 450), dpi = 120)\n",
    "# contour!(plt, n/100 - re500_data[\"vorticity\"][\"x\"], re500_data[\"vorticity\"][\"y\"],\n",
    "#     transpose(re500_data[\"vorticity\"][\"vorticity\"][n÷5]), levels = linspace(-30, 30, 100),\n",
    "#     color = :RdBu, clim = (-20, 20),\n",
    "#     xlim = (n/100 - 2, n/100 + 1), ylim = (-0.75, 1), ratio = 1, legend = :none, xticks = (n/100 - 2):0.5:(n/100 + 1))\n",
    "# savefig(\"EnKF\\ Results/Re500/2pulse01/multiplicative_inflation/cfd_t$(lpad(n, 3, 0)).pdf\")\n",
    "# end"
   ]
  },
  {
   "cell_type": "code",
   "execution_count": null,
   "metadata": {},
   "outputs": [],
   "source": [
    "typeof(reverse(colormap(\"RdBu\")))"
   ]
  },
  {
   "cell_type": "code",
   "execution_count": null,
   "metadata": {},
   "outputs": [],
   "source": [
    "ColorSchemes.RdBu_9)"
   ]
  },
  {
   "cell_type": "code",
   "execution_count": null,
   "metadata": {},
   "outputs": [],
   "source": [
    "cgrad(ColorSchemes.RdBu_9)"
   ]
  },
  {
   "cell_type": "code",
   "execution_count": null,
   "metadata": {},
   "outputs": [],
   "source": [
    "f = regen_forces(T, mean.(states), config);\n",
    "n = 350\n",
    "# @showprogress for (i,n) in enumerate(5:5:500)\n",
    "l = @layout [  grid(1, 2)\n",
    "               b{0.5h} ]\n",
    "\n",
    "plt = plot(layout = l, colorbar = :none, size = (1000, 800), dpi = 120)\n",
    "plot!(plt[1], Plate(config.N, config.L, config.Δt*n, config.α), ratio = 1, legend = false)\n",
    "plot!(plt[1], state_to_blobs(mean(states[n]), config.δ)[1], markersize = 15sqrt.(abs.(mean(states[n])[3:3:end-2])), markerstrokealpha = 0, color = cgrad(reverse(colormap(\"RdBu\"))), clim = (-0.02, 0.02), \n",
    "    ratio = 1, xlim = (n/100 - 2, n/100 + 1), ylim = (-0.75,1),\n",
    "    xticks = [], yticks = [])\n",
    "    contour!(plt[2], re500_data[\"vorticity\"][\"x\"], re500_data[\"vorticity\"][\"y\"],\n",
    "    reverse(transpose(re500_data[\"vorticity\"][\"vorticity\"][n÷5 + 1]), dims = 2), levels = range(-20.0, stop = 20.0, length = 100),\n",
    "    color = cgrad((colormap(\"RdBu\"))), clim = (-20, 20),\n",
    "    xlim = (1.5, 4.5), ylim = (-0.75, 1), ratio = 1, legend = :none, xticks = [], yticks = []\n",
    ")   \n",
    "plot!(plt[3], re500_data[\"force\"][\"t\"][1:10n], abs.(re500_data[\"force\"][\"F\"][1:10n]), linewidth = 2, label = \"\\$\\\\mathrm{Re} = 500\\$ CFD\")\n",
    "plot!(plt[3], T[1:n], 2abs.(f)[1:n], label = \"EnKF Mean\", linewidth = 2, linestyle = :dash, ylabel=\"\\$F_n\\$\", xlabel = \"Convective Time\", xlim = (0, 5), ylim = (0, 3))\n",
    "# plot!(plt[3], T[1:n], abs.(re500_data[\"force\"][\"F\"])[1:n], label = \"EnKF Mean\", linewidth = 2, linestyle = :dash, ylabel=\"\\$F_n\\$\", xlabel = \"Convective Time\", xlim = (0, 5), ylim = (0, 3))\n",
    "\n",
    "# savefig(\"EnKF\\ Results/Re500/2pulse01/no_inflation/state_$(lpad(i,3,0)).png\")\n",
    "# end"
   ]
  },
  {
   "cell_type": "code",
   "execution_count": null,
   "metadata": {},
   "outputs": [],
   "source": [
    "# # for n in [3, 4, 6, 8]\n",
    "# n = 3\n",
    "# let s = [-0.5config.L*cos(θ) for θ in range(0.0, stop = π, length = config.N)][pressure_taps],\n",
    "#     model_pressures = hcat((measure_state(states[i+1][n], t, config, pressure_taps) for (i,t) in enumerate(T[1:300]))...),\n",
    "# #     cfd_pressures = hcat((cfd_pressure(t, pressure_taps, config, pressure_data) for t in T)...)\n",
    "    \n",
    "#     plt = plot(size = (800, 200))\n",
    "#     contourf!(T[1:300], s, model_pressures,\n",
    "#         levels = range(-2.0, stop = 2.0, length = 151), clims = (-2, 2), color = cgrad(reverse(colormap(\"RdBu\"))), xlabel = [\"\" \"Convective Time\"],\n",
    "#         yticks = ([0.5, -0.5], [\"LE\", \"TE\"]), background_color_inside = colormap(\"RdBu\")[end], colorbar_title=\"Pressure\")\n",
    "# end\n",
    "# savefig(\"EnKF\\ Results/Ensemble/pressure_n$(lpad(n,2,0)).pdf\")\n",
    "# # end"
   ]
  },
  {
   "cell_type": "code",
   "execution_count": null,
   "metadata": {},
   "outputs": [],
   "source": [
    "let s = [-0.5config.L*cos(θ) for θ in range(0.0, stop = π, length = config.N)][pressure_taps],\n",
    "    model_pressures = hcat((measure_state(states[i+1][1], t, config, pressure_taps) for (i,t) in enumerate(T[1:300]))...),\n",
    "#     cfd_pressures = hcat((cfd_pressure(t, pressure_taps, config, pressure_data) for t in T)...)\n",
    "    \n",
    "    plt = plot(size = (800, 200))\n",
    "    contourf!(T[1:300], s, model_pressures,\n",
    "        levels = range(-2.0, stop = 2.0, length = 151), clims = (-2, 2), color = cgrad(reverse(colormap(\"RdBu\"))), xlabel = [\"\" \"Convective Time\"],\n",
    "        yticks = ([0.5, -0.5], [\"LE\", \"TE\"]), background_color_inside = colormap(\"RdBu\")[end], colorbar_title=\"Pressure\")\n",
    "end\n",
    "#savefig(\"EnKF\\ Results/Ensemble/pressure_n$(lpad(n,2,0)).pdf\")"
   ]
  },
  {
   "cell_type": "code",
   "execution_count": null,
   "metadata": {},
   "outputs": [],
   "source": []
  },
  {
   "cell_type": "code",
   "execution_count": null,
   "metadata": {},
   "outputs": [],
   "source": []
  }
 ],
 "metadata": {
  "@webio": {
   "lastCommId": null,
   "lastKernelId": null
  },
  "kernelspec": {
   "display_name": "Julia 1.1.1",
   "language": "julia",
   "name": "julia-1.1"
  },
  "language_info": {
   "file_extension": ".jl",
   "mimetype": "application/julia",
   "name": "julia",
   "version": "1.1.1"
  }
 },
 "nbformat": 4,
 "nbformat_minor": 2
}
