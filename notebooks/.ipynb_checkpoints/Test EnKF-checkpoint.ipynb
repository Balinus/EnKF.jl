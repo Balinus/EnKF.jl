{
 "cells": [
  {
   "cell_type": "code",
   "execution_count": 1,
   "metadata": {},
   "outputs": [
    {
     "data": {
      "text/plain": [
       "\"/home/mathow/Documents/EnKF/Project.toml\""
      ]
     },
     "execution_count": 1,
     "metadata": {},
     "output_type": "execute_result"
    }
   ],
   "source": [
    "using Pkg\n",
    "Pkg.activate(\"/home/mathow/Documents/EnKF/\")"
   ]
  },
  {
   "cell_type": "code",
   "execution_count": null,
   "metadata": {},
   "outputs": [
    {
     "name": "stderr",
     "output_type": "stream",
     "text": [
      "┌ Info: Precompiling EnKF [685896a8-a41b-11e9-3419-3315e75b5d74]\n",
      "└ @ Base loading.jl:1186\n"
     ]
    }
   ],
   "source": [
    "using Revise\n",
    "using EnKF\n",
    "using Distributions\n",
    "using LinearAlgebra\n",
    "using Lazy"
   ]
  },
  {
   "cell_type": "code",
   "execution_count": null,
   "metadata": {},
   "outputs": [],
   "source": [
    "f = PropagationFunction()\n",
    "m = MeasurementFunction()\n",
    "z = RealMeasurementFunction()"
   ]
  },
  {
   "cell_type": "code",
   "execution_count": null,
   "metadata": {},
   "outputs": [],
   "source": [
    "function (::PropagationFunction)(t::Float64, ENS::EnsembleState{N, TS}) where {N, TS}\n",
    "    return ENS  \n",
    "end"
   ]
  },
  {
   "cell_type": "code",
   "execution_count": null,
   "metadata": {},
   "outputs": [],
   "source": [
    "function (::MeasurementFunction)(t::Float64, mENS::EnsembleState{N, NZ, TZ},  ENS::EnsembleState{N, TS}) where {N, NS, TS, NZ, TZ}\n",
    "    fill!(mENS, 1.01*ones(NZ))\n",
    "    return mENS\n",
    "end"
   ]
  },
  {
   "cell_type": "code",
   "execution_count": 9,
   "metadata": {},
   "outputs": [],
   "source": [
    "function (::MeasurementFunction)(t::Float64, S::Array{TS,1}) where {TS}\n",
    "    return 1.05*ones(NZ)\n",
    "end"
   ]
  },
  {
   "cell_type": "code",
   "execution_count": 10,
   "metadata": {},
   "outputs": [],
   "source": [
    "function (::RealMeasurementFunction)(t::Float64, zENS::EnsembleState{N, NZ, TZ}) where {N, NZ, TZ} \n",
    "    fill!(zENS, 1.01*ones(NZ))\n",
    "    return zENS\n",
    "end"
   ]
  },
  {
   "cell_type": "code",
   "execution_count": 12,
   "metadata": {},
   "outputs": [],
   "source": [
    "# constantly(1)"
   ]
  },
  {
   "cell_type": "markdown",
   "metadata": {},
   "source": [
    "#### Ensemble Kalman filter"
   ]
  },
  {
   "cell_type": "code",
   "execution_count": 13,
   "metadata": {},
   "outputs": [
    {
     "data": {
      "text/plain": [
       "false"
      ]
     },
     "execution_count": 13,
     "metadata": {},
     "output_type": "execute_result"
    }
   ],
   "source": [
    "N = 10\n",
    "NS = 3\n",
    "TS = Float64\n",
    "NZ = 5\n",
    "TZ = Float64\n",
    "β = MultiplicativeInflation(NS, 1.01)\n",
    "ϵ = AdditiveInflation(NZ)\n",
    "isinflated = true\n",
    "isaugmented = false"
   ]
  },
  {
   "cell_type": "code",
   "execution_count": 14,
   "metadata": {},
   "outputs": [
    {
     "data": {
      "text/plain": [
       "ENKF{10,Float64,5,Float64}(PropagationFunction(), MultiplicativeInflation{3}(1.01), MeasurementFunction(), RealMeasurementFunction(), AdditiveInflation{5}(IsoNormal(\n",
       "dim: 5\n",
       "μ: [0.0, 0.0, 0.0, 0.0, 0.0]\n",
       "Σ: [1.0 0.0 … 0.0 0.0; 0.0 1.0 … 0.0 0.0; … ; 0.0 0.0 … 1.0 0.0; 0.0 0.0 … 0.0 1.0]\n",
       ")\n",
       "), true, false)"
      ]
     },
     "execution_count": 14,
     "metadata": {},
     "output_type": "execute_result"
    }
   ],
   "source": [
    "enkf = ENKF{N, TS, NZ, TZ}(f, β, m, z, ϵ, isinflated, isaugmented)"
   ]
  },
  {
   "cell_type": "code",
   "execution_count": 15,
   "metadata": {},
   "outputs": [
    {
     "data": {
      "text/plain": [
       "EnsembleState{10,3,Float64}(Array{Float64,1}[[0.0, 0.0, 0.0], [0.0, 0.0, 0.0], [0.0, 0.0, 0.0], [0.0, 0.0, 0.0], [0.0, 0.0, 0.0], [0.0, 0.0, 0.0], [0.0, 0.0, 0.0], [0.0, 0.0, 0.0], [0.0, 0.0, 0.0], [0.0, 0.0, 0.0]])"
      ]
     },
     "execution_count": 15,
     "metadata": {},
     "output_type": "execute_result"
    }
   ],
   "source": [
    "ens = EnsembleState(N, NS)"
   ]
  },
  {
   "cell_type": "markdown",
   "metadata": {},
   "source": [
    "#### Initialize each ensemble member"
   ]
  },
  {
   "cell_type": "code",
   "execution_count": 16,
   "metadata": {},
   "outputs": [
    {
     "data": {
      "text/plain": [
       "EnsembleState{10,3,Float64}(Array{Float64,1}[[-2.3926, 0.154208, 0.691639], [0.635308, 0.40942, 0.885748], [-0.621824, -0.987996, 1.12406], [1.05499, 0.199828, -1.7951], [2.4988, 0.758978, 0.940439], [-0.388564, 0.819426, -0.895534], [-1.23918, 0.342636, -2.02917], [1.10677, -0.306665, 0.155309], [-0.638602, 0.853108, -0.035176], [-0.637703, -1.08481, 0.0785451]])"
      ]
     },
     "execution_count": 16,
     "metadata": {},
     "output_type": "execute_result"
    }
   ],
   "source": [
    "initialize(ens)"
   ]
  },
  {
   "cell_type": "markdown",
   "metadata": {},
   "source": [
    "#### Propagate each ensemble member"
   ]
  },
  {
   "cell_type": "code",
   "execution_count": 17,
   "metadata": {},
   "outputs": [
    {
     "data": {
      "text/plain": [
       "EnsembleState{10,3,Float64}(Array{Float64,1}[[-2.3926, 0.154208, 0.691639], [0.635308, 0.40942, 0.885748], [-0.621824, -0.987996, 1.12406], [1.05499, 0.199828, -1.7951], [2.4988, 0.758978, 0.940439], [-0.388564, 0.819426, -0.895534], [-1.23918, 0.342636, -2.02917], [1.10677, -0.306665, 0.155309], [-0.638602, 0.853108, -0.035176], [-0.637703, -1.08481, 0.0785451]])"
      ]
     },
     "execution_count": 17,
     "metadata": {},
     "output_type": "execute_result"
    }
   ],
   "source": [
    "enkf.f(0.0, ens)"
   ]
  },
  {
   "cell_type": "markdown",
   "metadata": {},
   "source": [
    "#### Apply convariance inflation"
   ]
  },
  {
   "cell_type": "code",
   "execution_count": 18,
   "metadata": {},
   "outputs": [
    {
     "data": {
      "text/plain": [
       "EnsembleState{10,3,Float64}(Array{Float64,1}[[-2.41591, 0.154592, 0.699435], [0.642284, 0.412356, 0.895485], [-0.627419, -0.999034, 1.13618], [1.06616, 0.200668, -1.81217], [2.52441, 0.76541, 0.950722], [-0.391827, 0.826463, -0.90361], [-1.25095, 0.344904, -2.04859], [1.11846, -0.31089, 0.157741], [-0.644366, 0.860481, -0.0346485], [-0.643458, -1.09681, 0.0802098]])"
      ]
     },
     "execution_count": 18,
     "metadata": {},
     "output_type": "execute_result"
    }
   ],
   "source": [
    "if isinflated ==true\n",
    "        enkf.A(ens)\n",
    "end"
   ]
  },
  {
   "cell_type": "code",
   "execution_count": 19,
   "metadata": {},
   "outputs": [
    {
     "data": {
      "text/plain": [
       "EnsembleState{10,3,Float64}(Array{Float64,1}[[-2.41591, 0.154592, 0.699435], [0.642284, 0.412356, 0.895485], [-0.627419, -0.999034, 1.13618], [1.06616, 0.200668, -1.81217], [2.52441, 0.76541, 0.950722], [-0.391827, 0.826463, -0.90361], [-1.25095, 0.344904, -2.04859], [1.11846, -0.31089, 0.157741], [-0.644366, 0.860481, -0.0346485], [-0.643458, -1.09681, 0.0802098]])"
      ]
     },
     "execution_count": 19,
     "metadata": {},
     "output_type": "execute_result"
    }
   ],
   "source": [
    "ens"
   ]
  },
  {
   "cell_type": "markdown",
   "metadata": {},
   "source": [
    "#### Compute mean and deviation"
   ]
  },
  {
   "cell_type": "code",
   "execution_count": 20,
   "metadata": {},
   "outputs": [
    {
     "data": {
      "text/plain": [
       "3-element Array{Float64,1}:\n",
       " -0.062261177181659286\n",
       "  0.11581372028813315 \n",
       " -0.08792452237590792 "
      ]
     },
     "execution_count": 20,
     "metadata": {},
     "output_type": "execute_result"
    }
   ],
   "source": [
    "Ŝ = deepcopy(mean(ens))"
   ]
  },
  {
   "cell_type": "code",
   "execution_count": 21,
   "metadata": {},
   "outputs": [
    {
     "data": {
      "text/plain": [
       "3×10 Array{Float64,2}:\n",
       " -2.35364    0.704545  -0.565158  …   1.18072   -0.582104  -0.581197\n",
       "  0.0387778  0.296542  -1.11485      -0.426704   0.744667  -1.21263 \n",
       "  0.787359   0.98341    1.2241        0.245665   0.053276   0.168134"
      ]
     },
     "execution_count": 21,
     "metadata": {},
     "output_type": "execute_result"
    }
   ],
   "source": [
    "ensfluc = EnsembleState(size(ens))\n",
    "\n",
    "deviation(ensfluc, ens)\n",
    "A′ = hcat(ensfluc)"
   ]
  },
  {
   "cell_type": "markdown",
   "metadata": {},
   "source": [
    "#### Compute measurement"
   ]
  },
  {
   "cell_type": "code",
   "execution_count": 22,
   "metadata": {},
   "outputs": [
    {
     "data": {
      "text/plain": [
       "5×10 Array{Float64,2}:\n",
       " 1.01  1.01  1.01  1.01  1.01  1.01  1.01  1.01  1.01  1.01\n",
       " 1.01  1.01  1.01  1.01  1.01  1.01  1.01  1.01  1.01  1.01\n",
       " 1.01  1.01  1.01  1.01  1.01  1.01  1.01  1.01  1.01  1.01\n",
       " 1.01  1.01  1.01  1.01  1.01  1.01  1.01  1.01  1.01  1.01\n",
       " 1.01  1.01  1.01  1.01  1.01  1.01  1.01  1.01  1.01  1.01"
      ]
     },
     "execution_count": 22,
     "metadata": {},
     "output_type": "execute_result"
    }
   ],
   "source": [
    "mens = EnsembleState((N, NZ))\n",
    "enkf.m(0.0, mens, ens)\n",
    "Â = hcat(deepcopy(mens))"
   ]
  },
  {
   "cell_type": "markdown",
   "metadata": {},
   "source": [
    "#### Compute deviation from measurement of the mean"
   ]
  },
  {
   "cell_type": "code",
   "execution_count": 23,
   "metadata": {},
   "outputs": [
    {
     "data": {
      "text/plain": [
       "5×10 Array{Float64,2}:\n",
       " -0.04  -0.04  -0.04  -0.04  -0.04  -0.04  -0.04  -0.04  -0.04  -0.04\n",
       " -0.04  -0.04  -0.04  -0.04  -0.04  -0.04  -0.04  -0.04  -0.04  -0.04\n",
       " -0.04  -0.04  -0.04  -0.04  -0.04  -0.04  -0.04  -0.04  -0.04  -0.04\n",
       " -0.04  -0.04  -0.04  -0.04  -0.04  -0.04  -0.04  -0.04  -0.04  -0.04\n",
       " -0.04  -0.04  -0.04  -0.04  -0.04  -0.04  -0.04  -0.04  -0.04  -0.04"
      ]
     },
     "execution_count": 23,
     "metadata": {},
     "output_type": "execute_result"
    }
   ],
   "source": [
    "Â′  = Â .- enkf.m(0.0, mean(ens))"
   ]
  },
  {
   "cell_type": "markdown",
   "metadata": {},
   "source": [
    "#### Get actual measurements"
   ]
  },
  {
   "cell_type": "code",
   "execution_count": 24,
   "metadata": {},
   "outputs": [
    {
     "data": {
      "text/plain": [
       "EnsembleState{10,5,Float64}(Array{Float64,1}[[1.01, 1.01, 1.01, 1.01, 1.01], [1.01, 1.01, 1.01, 1.01, 1.01], [1.01, 1.01, 1.01, 1.01, 1.01], [1.01, 1.01, 1.01, 1.01, 1.01], [1.01, 1.01, 1.01, 1.01, 1.01], [1.01, 1.01, 1.01, 1.01, 1.01], [1.01, 1.01, 1.01, 1.01, 1.01], [1.01, 1.01, 1.01, 1.01, 1.01], [1.01, 1.01, 1.01, 1.01, 1.01], [1.01, 1.01, 1.01, 1.01, 1.01]])"
      ]
     },
     "execution_count": 24,
     "metadata": {},
     "output_type": "execute_result"
    }
   ],
   "source": [
    "zens = EnsembleState((N, NZ))\n",
    "M = 1.01*ones(NZ)\n",
    "enkf.z(0.0, zens)"
   ]
  },
  {
   "cell_type": "code",
   "execution_count": 25,
   "metadata": {},
   "outputs": [
    {
     "data": {
      "text/plain": [
       "EnsembleState{10,5,Float64}(Array{Float64,1}[[1.01, 1.01, 1.01, 1.01, 1.01], [1.01, 1.01, 1.01, 1.01, 1.01], [1.01, 1.01, 1.01, 1.01, 1.01], [1.01, 1.01, 1.01, 1.01, 1.01], [1.01, 1.01, 1.01, 1.01, 1.01], [1.01, 1.01, 1.01, 1.01, 1.01], [1.01, 1.01, 1.01, 1.01, 1.01], [1.01, 1.01, 1.01, 1.01, 1.01], [1.01, 1.01, 1.01, 1.01, 1.01], [1.01, 1.01, 1.01, 1.01, 1.01]])"
      ]
     },
     "execution_count": 25,
     "metadata": {},
     "output_type": "execute_result"
    }
   ],
   "source": [
    "zens"
   ]
  },
  {
   "cell_type": "markdown",
   "metadata": {},
   "source": [
    "#### Perturb actual measurement"
   ]
  },
  {
   "cell_type": "code",
   "execution_count": 26,
   "metadata": {},
   "outputs": [
    {
     "data": {
      "text/plain": [
       "EnsembleState{10,5,Float64}(Array{Float64,1}[[0.0729845, 0.360457, -0.595656, 0.716097, 0.919471], [2.74959, -0.0355739, 1.31031, 2.60403, 1.68868], [1.45465, 2.6402, 1.70232, 1.74599, -0.185757], [0.362484, 1.56684, 0.312665, 0.3011, 0.751375], [0.904745, 1.60629, 1.1223, -0.0596881, 1.59135], [0.728292, 1.84237, 1.72193, 1.3386, 1.17733], [1.2322, -0.00757869, 1.11979, 0.118813, 1.16315], [1.31645, 1.37846, 0.955742, 0.87712, 0.531026], [3.05504, 2.95354, 0.415102, 0.241278, 0.493672], [1.11261, 0.30206, -0.274355, 1.48479, 3.04099]])"
      ]
     },
     "execution_count": 26,
     "metadata": {},
     "output_type": "execute_result"
    }
   ],
   "source": [
    "ϵ(zens)"
   ]
  },
  {
   "cell_type": "markdown",
   "metadata": {},
   "source": [
    "#### Construct representer matrix and vectors"
   ]
  },
  {
   "cell_type": "code",
   "execution_count": 27,
   "metadata": {},
   "outputs": [
    {
     "data": {
      "text/plain": [
       "5×10 Array{Float64,2}:\n",
       "  0.0729845   2.74959     1.45465   …  1.31645   3.05504    1.11261 \n",
       "  0.360457   -0.0355739   2.6402       1.37846   2.95354    0.30206 \n",
       " -0.595656    1.31031     1.70232      0.955742  0.415102  -0.274355\n",
       "  0.716097    2.60403     1.74599      0.87712   0.241278   1.48479 \n",
       "  0.919471    1.68868    -0.185757     0.531026  0.493672   3.04099 "
      ]
     },
     "execution_count": 27,
     "metadata": {},
     "output_type": "execute_result"
    }
   ],
   "source": [
    "D = hcat(zens)"
   ]
  },
  {
   "cell_type": "code",
   "execution_count": 28,
   "metadata": {},
   "outputs": [
    {
     "data": {
      "text/plain": [
       "5×5 Array{Float64,2}:\n",
       " 1.0  0.0  0.0  0.0  0.0\n",
       " 0.0  1.0  0.0  0.0  0.0\n",
       " 0.0  0.0  1.0  0.0  0.0\n",
       " 0.0  0.0  0.0  1.0  0.0\n",
       " 0.0  0.0  0.0  0.0  1.0"
      ]
     },
     "execution_count": 28,
     "metadata": {},
     "output_type": "execute_result"
    }
   ],
   "source": [
    "cov(ϵ)"
   ]
  },
  {
   "cell_type": "code",
   "execution_count": 29,
   "metadata": {},
   "outputs": [
    {
     "data": {
      "text/plain": [
       "5×5 Array{Float64,2}:\n",
       " 9.016  0.016  0.016  0.016  0.016\n",
       " 0.016  9.016  0.016  0.016  0.016\n",
       " 0.016  0.016  9.016  0.016  0.016\n",
       " 0.016  0.016  0.016  9.016  0.016\n",
       " 0.016  0.016  0.016  0.016  9.016"
      ]
     },
     "execution_count": 29,
     "metadata": {},
     "output_type": "execute_result"
    }
   ],
   "source": [
    "(Â′*Â′') + (N-1)*cov(ϵ)*I"
   ]
  },
  {
   "cell_type": "code",
   "execution_count": 30,
   "metadata": {},
   "outputs": [
    {
     "name": "stdout",
     "output_type": "stream",
     "text": [
      "  2.355029 seconds (3.41 M allocations: 162.133 MiB, 4.94% gc time)\n"
     ]
    },
    {
     "data": {
      "text/plain": [
       "5×10 Array{Float64,2}:\n",
       " -0.103413     0.192648   0.0489536  …   0.0340488    0.226814    0.01128  \n",
       " -0.0714712   -0.116815   0.180682       0.0409387    0.215536   -0.0787806\n",
       " -0.177706     0.032728   0.0764729     -0.00603039  -0.0665127  -0.142827 \n",
       " -0.0319556    0.176475   0.0813245     -0.0147661   -0.0858264   0.0526339\n",
       " -0.00935846   0.074769  -0.133314      -0.0532211   -0.0577827   0.225545 "
      ]
     },
     "execution_count": 30,
     "metadata": {},
     "output_type": "execute_result"
    }
   ],
   "source": [
    "@time b = ((Â′*Â′') + (N-1)*cov(ϵ)*I) \\ (D - Â)"
   ]
  },
  {
   "cell_type": "code",
   "execution_count": 31,
   "metadata": {},
   "outputs": [
    {
     "name": "stdout",
     "output_type": "stream",
     "text": [
      "  0.010382 seconds (4.05 k allocations: 225.549 KiB)\n"
     ]
    },
    {
     "data": {
      "text/plain": [
       "3×10 Array{Float64,2}:\n",
       "  1.76096e-18  -1.60853e-18  -1.13605e-18  …  -1.03819e-18  -3.03333e-19\n",
       " -8.9827e-19    8.20512e-19   5.79501e-19      5.29581e-19   1.5473e-19 \n",
       "  1.36895e-18  -1.25044e-18  -8.83147e-19     -8.0707e-19   -2.35806e-19"
      ]
     },
     "execution_count": 31,
     "metadata": {},
     "output_type": "execute_result"
    }
   ],
   "source": [
    "@time Bᵀb = (A′*Â′')*b"
   ]
  },
  {
   "cell_type": "markdown",
   "metadata": {},
   "source": [
    "#### Analysis step"
   ]
  },
  {
   "cell_type": "code",
   "execution_count": 32,
   "metadata": {},
   "outputs": [
    {
     "data": {
      "text/plain": [
       "EnsembleState{10,3,Float64}(Array{Float64,1}[[-2.41591, 0.154592, 0.699435], [0.642284, 0.412356, 0.895485], [-0.627419, -0.999034, 1.13618], [1.06616, 0.200668, -1.81217], [2.52441, 0.76541, 0.950722], [-0.391827, 0.826463, -0.90361], [-1.25095, 0.344904, -2.04859], [1.11846, -0.31089, 0.157741], [-0.644366, 0.860481, -0.0346485], [-0.643458, -1.09681, 0.0802098]])"
      ]
     },
     "execution_count": 32,
     "metadata": {},
     "output_type": "execute_result"
    }
   ],
   "source": [
    "ens  += cut(Bᵀb)"
   ]
  },
  {
   "cell_type": "code",
   "execution_count": 33,
   "metadata": {},
   "outputs": [
    {
     "data": {
      "text/plain": [
       "TupleProduct{2,Continuous,Tuple{Normal{Float64},Truncated{Normal{Float64},Continuous}}}(\n",
       "v: (Normal{Float64}(μ=0.0, σ=1.0), Truncated(Normal{Float64}(μ=0.0, σ=1.0), range=(-0.1, 0.1)))\n",
       ")\n"
      ]
     },
     "execution_count": 33,
     "metadata": {},
     "output_type": "execute_result"
    }
   ],
   "source": [
    "TP = TupleProduct((Normal(), TruncatedNormal(0.0,1.0,-0.1,0.1)))"
   ]
  },
  {
   "cell_type": "code",
   "execution_count": 34,
   "metadata": {},
   "outputs": [
    {
     "data": {
      "text/plain": [
       "true"
      ]
     },
     "execution_count": 34,
     "metadata": {},
     "output_type": "execute_result"
    }
   ],
   "source": [
    "typeof(TP)<:MultivariateDistribution"
   ]
  },
  {
   "cell_type": "code",
   "execution_count": null,
   "metadata": {},
   "outputs": [],
   "source": []
  },
  {
   "cell_type": "code",
   "execution_count": null,
   "metadata": {},
   "outputs": [],
   "source": []
  },
  {
   "cell_type": "code",
   "execution_count": null,
   "metadata": {},
   "outputs": [],
   "source": []
  },
  {
   "cell_type": "code",
   "execution_count": null,
   "metadata": {},
   "outputs": [],
   "source": []
  },
  {
   "cell_type": "code",
   "execution_count": null,
   "metadata": {},
   "outputs": [],
   "source": []
  },
  {
   "cell_type": "code",
   "execution_count": null,
   "metadata": {},
   "outputs": [],
   "source": []
  }
 ],
 "metadata": {
  "@webio": {
   "lastCommId": null,
   "lastKernelId": null
  },
  "kernelspec": {
   "display_name": "Julia 1.1.0",
   "language": "julia",
   "name": "julia-1.1"
  },
  "language_info": {
   "file_extension": ".jl",
   "mimetype": "application/julia",
   "name": "julia",
   "version": "1.1.0"
  }
 },
 "nbformat": 4,
 "nbformat_minor": 2
}
