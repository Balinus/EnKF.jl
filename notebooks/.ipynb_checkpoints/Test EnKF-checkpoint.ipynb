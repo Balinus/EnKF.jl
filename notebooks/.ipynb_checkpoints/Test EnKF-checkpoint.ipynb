{
 "cells": [
  {
   "cell_type": "code",
   "execution_count": 1,
   "metadata": {},
   "outputs": [
    {
     "data": {
      "text/plain": [
       "\"/media/mat/HDD/EnKF/Project.toml\""
      ]
     },
     "execution_count": 1,
     "metadata": {},
     "output_type": "execute_result"
    }
   ],
   "source": [
    "using Pkg\n",
    "Pkg.activate(\"/media/mat/HDD/EnKF/\")"
   ]
  },
  {
   "cell_type": "code",
   "execution_count": 2,
   "metadata": {},
   "outputs": [],
   "source": [
    "using Revise\n",
    "using EnKF\n",
    "using Distributions\n",
    "using LinearAlgebra"
   ]
  },
  {
   "cell_type": "code",
   "execution_count": 68,
   "metadata": {},
   "outputs": [
    {
     "name": "stdout",
     "output_type": "stream",
     "text": [
      "  0.000005 seconds (6 allocations: 336 bytes)\n",
      "  0.000013 seconds (29 allocations: 3.031 KiB)\n"
     ]
    },
    {
     "data": {
      "text/plain": [
       "EnsembleState{10,5,Array{Float64,1}}(Array{Float64,1}[[2.29914, 1.71621, 1.10018, 1.73777, 1.16356], [0.554746, 1.36485, 1.75975, 1.23806, 1.95836], [0.897873, 1.03563, -0.177192, 1.08917, 0.9079], [0.628115, 0.952382, 0.0122414, 0.405907, -0.769271], [-0.28758, 1.23792, 1.44535, 2.46554, 0.129994], [2.3357, 2.87311, 2.64897, 1.85119, 1.12325], [2.35185, 0.946468, 0.189128, 1.79338, -0.526501], [0.67802, 1.78106, 0.964085, -0.484337, 0.778261], [-0.703807, 2.30055, 1.69619, 2.25584, 0.251962], [1.47471, 1.11853, 1.18361, 1.14305, -0.00299845]])"
      ]
     },
     "execution_count": 68,
     "metadata": {},
     "output_type": "execute_result"
    }
   ],
   "source": [
    "@time A = MvNormal(ones(5), I)\n",
    "@time out = initialize(10, A)"
   ]
  },
  {
   "cell_type": "code",
   "execution_count": 79,
   "metadata": {},
   "outputs": [
    {
     "data": {
      "text/plain": [
       "5-element Array{Float64,1}:\n",
       " 1.2762623588650732  \n",
       " 0.1835413394533778  \n",
       " 0.017948860830001134\n",
       " 0.3882095933796925  \n",
       " 0.662111982598872   "
      ]
     },
     "execution_count": 79,
     "metadata": {},
     "output_type": "execute_result"
    }
   ],
   "source": [
    "out.S[1]"
   ]
  },
  {
   "cell_type": "code",
   "execution_count": 80,
   "metadata": {},
   "outputs": [
    {
     "data": {
      "text/plain": [
       "5-element Array{Float64,1}:\n",
       " -0.36584246072126536 \n",
       " -0.014553710202640735\n",
       "  0.7857435492211184  \n",
       "  0.02345716187282365 \n",
       "  1.5070559743327538  "
      ]
     },
     "execution_count": 80,
     "metadata": {},
     "output_type": "execute_result"
    }
   ],
   "source": [
    "out.S[2]"
   ]
  },
  {
   "cell_type": "code",
   "execution_count": 81,
   "metadata": {},
   "outputs": [
    {
     "data": {
      "text/plain": [
       "5-element Array{Float64,1}:\n",
       " 0.356655016329245  \n",
       " 0.5344091632458223 \n",
       " 0.3773504640876091 \n",
       " 0.4705611702202458 \n",
       " 0.17484549747791556"
      ]
     },
     "execution_count": 81,
     "metadata": {},
     "output_type": "execute_result"
    }
   ],
   "source": [
    "out̄ = mean(out)"
   ]
  },
  {
   "cell_type": "code",
   "execution_count": 82,
   "metadata": {},
   "outputs": [
    {
     "data": {
      "text/plain": [
       "5-element Array{Float64,1}:\n",
       "  0.9196073425358282 \n",
       " -0.3508678237924445 \n",
       " -0.35940160325760795\n",
       " -0.08235157684055328\n",
       "  0.4872664851209565 "
      ]
     },
     "execution_count": 82,
     "metadata": {},
     "output_type": "execute_result"
    }
   ],
   "source": [
    "out̃1 = out.S[1] .- out̄"
   ]
  },
  {
   "cell_type": "code",
   "execution_count": 83,
   "metadata": {},
   "outputs": [
    {
     "data": {
      "text/plain": [
       "5-element Array{Float64,1}:\n",
       " -0.7224974770505104 \n",
       " -0.5489628734484631 \n",
       "  0.40839308513350936\n",
       " -0.44710400834742214\n",
       "  1.3322104768548382 "
      ]
     },
     "execution_count": 83,
     "metadata": {},
     "output_type": "execute_result"
    }
   ],
   "source": [
    "out̃2 = out.S[2] .- out̄"
   ]
  },
  {
   "cell_type": "code",
   "execution_count": 77,
   "metadata": {},
   "outputs": [
    {
     "data": {
      "text/plain": [
       "5-element Array{Float64,1}:\n",
       " -0.36584246072126536 \n",
       " -0.014553710202640735\n",
       "  0.7857435492211184  \n",
       "  0.02345716187282365 \n",
       "  1.5070559743327538  "
      ]
     },
     "execution_count": 77,
     "metadata": {},
     "output_type": "execute_result"
    }
   ],
   "source": [
    "out.S[2]"
   ]
  },
  {
   "cell_type": "code",
   "execution_count": 71,
   "metadata": {},
   "outputs": [
    {
     "data": {
      "text/plain": [
       "5-element Array{Float64,1}:\n",
       " 1.0228765972078953\n",
       " 1.5326705118118436\n",
       " 1.082230561715792 \n",
       " 1.3495562561461794\n",
       " 0.5014519894828323"
      ]
     },
     "execution_count": 71,
     "metadata": {},
     "output_type": "execute_result"
    }
   ],
   "source": [
    "mean(out)"
   ]
  },
  {
   "cell_type": "code",
   "execution_count": 72,
   "metadata": {},
   "outputs": [
    {
     "data": {
      "text/plain": [
       "EnsembleState{10,5,Array{Float64,1}}(Array{Float64,1}[[1.27626, 0.183541, 0.0179489, 0.38821, 0.662112], [-0.365842, -0.0145537, 0.785744, 0.0234572, 1.50706], [0.0693432, -0.205838, -1.0538, -0.00397481, 0.501724], [-0.117562, -0.164935, -0.776705, -0.57792, -1.13483], [-0.95869, 0.232338, 0.735296, 1.5801, -0.199009], [1.7317, 1.96808, 2.00992, 1.05429, 0.827143], [1.80825, 0.131944, -0.386014, 1.07617, -0.792993], [0.188782, 1.04799, 0.446457, -1.12983, 0.538418], [-1.14412, 1.64079, 1.23033, 1.6749, 0.0361033], [1.07843, 0.524739, 0.764328, 0.620202, -0.197271]])"
      ]
     },
     "execution_count": 72,
     "metadata": {},
     "output_type": "execute_result"
    }
   ],
   "source": [
    "fluc = deviation(out)"
   ]
  },
  {
   "cell_type": "code",
   "execution_count": 75,
   "metadata": {},
   "outputs": [
    {
     "data": {
      "text/plain": [
       "5-element Array{Float64,1}:\n",
       " -0.36584246072126536 \n",
       " -0.014553710202640735\n",
       "  0.7857435492211184  \n",
       "  0.02345716187282365 \n",
       "  1.5070559743327538  "
      ]
     },
     "execution_count": 75,
     "metadata": {},
     "output_type": "execute_result"
    }
   ],
   "source": [
    "fluc.S[2] "
   ]
  },
  {
   "cell_type": "code",
   "execution_count": 76,
   "metadata": {},
   "outputs": [
    {
     "data": {
      "text/plain": [
       "5-element Array{Float64,1}:\n",
       " -0.46813012044205504\n",
       " -0.16782076138382496\n",
       "  0.6775204930495393 \n",
       " -0.11149846374179417\n",
       "  1.4569107753844706 "
      ]
     },
     "execution_count": 76,
     "metadata": {},
     "output_type": "execute_result"
    }
   ],
   "source": [
    "out̃2"
   ]
  },
  {
   "cell_type": "code",
   "execution_count": 65,
   "metadata": {},
   "outputs": [
    {
     "name": "stdout",
     "output_type": "stream",
     "text": [
      "  0.000009 seconds (9 allocations: 864 bytes)\n"
     ]
    },
    {
     "data": {
      "text/plain": [
       "5×10 Array{Float64,2}:\n",
       " -0.539186   1.4081    -1.8842    …   1.21245    1.27941    0.791377\n",
       " -0.777557   0.12469    0.781018     -0.305445   0.914769   0.158905\n",
       " -0.854543   0.235891   0.139233      0.720152   1.00565   -1.99376 \n",
       " -0.911113  -1.08949    0.373762      0.0816877  1.32854    0.954057\n",
       "  1.39184   -0.43751   -1.15292      -0.63643    0.698721   0.068289"
      ]
     },
     "execution_count": 65,
     "metadata": {},
     "output_type": "execute_result"
    }
   ],
   "source": [
    "@time hcat(out.S ...)"
   ]
  },
  {
   "cell_type": "code",
   "execution_count": 8,
   "metadata": {},
   "outputs": [
    {
     "data": {
      "text/plain": [
       "Any"
      ]
     },
     "execution_count": 8,
     "metadata": {},
     "output_type": "execute_result"
    }
   ],
   "source": [
    "supertype(Tuple{Int64,Int64})"
   ]
  },
  {
   "cell_type": "code",
   "execution_count": 6,
   "metadata": {},
   "outputs": [
    {
     "data": {
      "text/plain": [
       "0-dimensional Array{Tuple{Int64,Int64},0}:\n",
       "(1, 4)"
      ]
     },
     "execution_count": 6,
     "metadata": {},
     "output_type": "execute_result"
    }
   ],
   "source": [
    "[i for i in enumerate(N)]"
   ]
  },
  {
   "cell_type": "code",
   "execution_count": 16,
   "metadata": {},
   "outputs": [
    {
     "data": {
      "text/plain": [
       "4-element Array{Array{Float64,1},1}:\n",
       " [0.392122, 0.3869, 1.59795, -0.415342, -1.74986, 1.27202, 0.810317, 1.4941, 0.28943, 1.27486]           \n",
       " [0.846543, 1.63695, 0.989738, -0.682586, 1.02343, -2.55806, 2.04068, 0.25681, 1.54071, 1.47328]         \n",
       " [-0.365841, 0.391182, 0.276103, 0.588314, -1.0984, 0.456155, -0.0643328, -0.585154, -0.279022, -0.61115]\n",
       " [-0.821307, 0.257601, -0.304821, -0.186259, -1.05403, -1.88551, -1.34901, -0.50757, -0.698108, 0.662555]"
      ]
     },
     "execution_count": 16,
     "metadata": {},
     "output_type": "execute_result"
    }
   ],
   "source": [
    "States = [randn(10) for i = 1:4]"
   ]
  },
  {
   "cell_type": "code",
   "execution_count": 17,
   "metadata": {},
   "outputs": [
    {
     "data": {
      "text/plain": [
       "EnsembleState{4,Array{Float64,1}}(Array{Float64,1}[[0.392122, 0.3869, 1.59795, -0.415342, -1.74986, 1.27202, 0.810317, 1.4941, 0.28943, 1.27486], [0.846543, 1.63695, 0.989738, -0.682586, 1.02343, -2.55806, 2.04068, 0.25681, 1.54071, 1.47328], [-0.365841, 0.391182, 0.276103, 0.588314, -1.0984, 0.456155, -0.0643328, -0.585154, -0.279022, -0.61115], [-0.821307, 0.257601, -0.304821, -0.186259, -1.05403, -1.88551, -1.34901, -0.50757, -0.698108, 0.662555]])"
      ]
     },
     "execution_count": 17,
     "metadata": {},
     "output_type": "execute_result"
    }
   ],
   "source": [
    "EnS = EnsembleState(States)"
   ]
  },
  {
   "cell_type": "code",
   "execution_count": 18,
   "metadata": {},
   "outputs": [
    {
     "data": {
      "text/plain": [
       "(4, (10,))"
      ]
     },
     "execution_count": 18,
     "metadata": {},
     "output_type": "execute_result"
    }
   ],
   "source": [
    "size(EnS)"
   ]
  },
  {
   "cell_type": "code",
   "execution_count": 19,
   "metadata": {},
   "outputs": [
    {
     "data": {
      "text/plain": [
       "(10,)"
      ]
     },
     "execution_count": 19,
     "metadata": {},
     "output_type": "execute_result"
    }
   ],
   "source": [
    "size(EnS.S[1])"
   ]
  },
  {
   "cell_type": "code",
   "execution_count": 21,
   "metadata": {},
   "outputs": [
    {
     "name": "stdout",
     "output_type": "stream",
     "text": [
      "  0.001923 seconds (34 allocations: 2.344 KiB)\n"
     ]
    },
    {
     "data": {
      "text/plain": [
       "10-element Array{Float64,1}:\n",
       "  0.01287947145794821\n",
       "  0.6681571160058574 \n",
       "  0.6397420518901215 \n",
       " -0.17396843980891674\n",
       " -0.7197149599083105 \n",
       " -0.6788498111208523 \n",
       "  0.359412408612103  \n",
       "  0.16454603970531606\n",
       "  0.21325342681426226\n",
       "  0.6998844119461762 "
      ]
     },
     "execution_count": 21,
     "metadata": {},
     "output_type": "execute_result"
    }
   ],
   "source": [
    "@time (EnS.S[1]+EnS.S[2]+EnS.S[3]+EnS.S[4])/4"
   ]
  },
  {
   "cell_type": "code",
   "execution_count": 22,
   "metadata": {},
   "outputs": [
    {
     "data": {
      "text/plain": [
       "10-element Array{Float64,1}:\n",
       "  0.01287947145794821\n",
       "  0.6681571160058574 \n",
       "  0.6397420518901215 \n",
       " -0.17396843980891674\n",
       " -0.7197149599083105 \n",
       " -0.6788498111208523 \n",
       "  0.359412408612103  \n",
       "  0.16454603970531606\n",
       "  0.21325342681426226\n",
       "  0.6998844119461762 "
      ]
     },
     "execution_count": 22,
     "metadata": {},
     "output_type": "execute_result"
    }
   ],
   "source": [
    "mean(EnS)"
   ]
  },
  {
   "cell_type": "code",
   "execution_count": 24,
   "metadata": {},
   "outputs": [
    {
     "data": {
      "text/plain": [
       "EnsembleState{4,Array{Float64,1}}"
      ]
     },
     "execution_count": 24,
     "metadata": {},
     "output_type": "execute_result"
    }
   ],
   "source": []
  },
  {
   "cell_type": "code",
   "execution_count": null,
   "metadata": {},
   "outputs": [],
   "source": []
  }
 ],
 "metadata": {
  "@webio": {
   "lastCommId": null,
   "lastKernelId": null
  },
  "kernelspec": {
   "display_name": "Julia 1.1.1",
   "language": "julia",
   "name": "julia-1.1"
  },
  "language_info": {
   "file_extension": ".jl",
   "mimetype": "application/julia",
   "name": "julia",
   "version": "1.1.1"
  }
 },
 "nbformat": 4,
 "nbformat_minor": 2
}
