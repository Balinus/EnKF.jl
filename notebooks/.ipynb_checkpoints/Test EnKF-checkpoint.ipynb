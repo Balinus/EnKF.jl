{
 "cells": [
  {
   "cell_type": "code",
   "execution_count": 1,
   "metadata": {},
   "outputs": [
    {
     "data": {
      "text/plain": [
       "\"/media/mat/HDD/EnKF/Project.toml\""
      ]
     },
     "execution_count": 1,
     "metadata": {},
     "output_type": "execute_result"
    }
   ],
   "source": [
    "using Pkg\n",
    "Pkg.activate(\"/media/mat/HDD/EnKF/\")"
   ]
  },
  {
   "cell_type": "code",
   "execution_count": 2,
   "metadata": {},
   "outputs": [],
   "source": [
    "using Revise\n",
    "using EnKF\n",
    "using Distributions\n",
    "using LinearAlgebra"
   ]
  },
  {
   "cell_type": "code",
   "execution_count": 3,
   "metadata": {},
   "outputs": [
    {
     "name": "stdout",
     "output_type": "stream",
     "text": [
      "  0.011557 seconds (39.83 k allocations: 2.151 MiB)\n",
      "  0.187295 seconds (857.34 k allocations: 43.526 MiB, 4.47% gc time)\n"
     ]
    },
    {
     "data": {
      "text/plain": [
       "EnsembleState{10,5,Array{Float64,1}}(Array{Float64,1}[[0.746566, 0.203313, -0.0435186, 2.42206, 0.267186], [1.03062, 2.53361, 1.38452, 0.877924, 0.451228], [0.948257, -0.631494, 0.899345, 0.544011, 2.20261], [1.3895, 2.70122, -1.55987, 0.624462, 0.871825], [0.717578, 1.70659, -0.163709, 1.46656, 1.7338], [0.211653, 2.33424, -0.318406, 0.300267, 0.357011], [-0.161422, -0.756084, 1.97297, 1.42458, 0.87071], [-0.481332, -0.731854, 0.432655, 1.44033, 1.09365], [2.6527, 1.08338, 0.648781, 2.70141, 1.59363], [0.120719, 1.19792, 1.44984, 0.473573, 2.2648]])"
      ]
     },
     "execution_count": 3,
     "metadata": {},
     "output_type": "execute_result"
    }
   ],
   "source": [
    "@time A = MvNormal(ones(5), I)\n",
    "@time out = initialize(10, A)"
   ]
  },
  {
   "cell_type": "code",
   "execution_count": 4,
   "metadata": {},
   "outputs": [],
   "source": [
    "# @time hcat(out.S ...)"
   ]
  },
  {
   "cell_type": "code",
   "execution_count": 5,
   "metadata": {},
   "outputs": [
    {
     "data": {
      "text/plain": [
       "5-element Array{Float64,1}:\n",
       " 2.272388387070121  \n",
       " 0.9908227335060145 \n",
       " 1.4848156185759112 \n",
       " 0.47738643684001225\n",
       " 0.5229105085487475 "
      ]
     },
     "execution_count": 5,
     "metadata": {},
     "output_type": "execute_result"
    }
   ],
   "source": [
    "rand(A)"
   ]
  },
  {
   "cell_type": "code",
   "execution_count": 8,
   "metadata": {},
   "outputs": [
    {
     "data": {
      "text/plain": [
       "AdditiveInflation{5}(IsoNormal(\n",
       "dim: 5\n",
       "μ: [0.0, 0.0, 0.0, 0.0, 0.0]\n",
       "Σ: [1.0 0.0 … 0.0 0.0; 0.0 1.0 … 0.0 0.0; … ; 0.0 0.0 … 1.0 0.0; 0.0 0.0 … 0.0 1.0]\n",
       ")\n",
       ")"
      ]
     },
     "execution_count": 8,
     "metadata": {},
     "output_type": "execute_result"
    }
   ],
   "source": [
    "Add = AdditiveInflation(5)"
   ]
  },
  {
   "cell_type": "code",
   "execution_count": 13,
   "metadata": {},
   "outputs": [
    {
     "data": {
      "text/plain": [
       "EnsembleState{10,5,Array{Float64,1}}(Array{Float64,1}[[0.0, 0.0, 0.0, 0.0, 0.0], [0.0, 0.0, 0.0, 0.0, 0.0], [0.0, 0.0, 0.0, 0.0, 0.0], [0.0, 0.0, 0.0, 0.0, 0.0], [0.0, 0.0, 0.0, 0.0, 0.0], [0.0, 0.0, 0.0, 0.0, 0.0], [0.0, 0.0, 0.0, 0.0, 0.0], [0.0, 0.0, 0.0, 0.0, 0.0], [0.0, 0.0, 0.0, 0.0, 0.0], [0.0, 0.0, 0.0, 0.0, 0.0]])"
      ]
     },
     "execution_count": 13,
     "metadata": {},
     "output_type": "execute_result"
    }
   ],
   "source": [
    "out = EnsembleState(10,5)"
   ]
  },
  {
   "cell_type": "code",
   "execution_count": 14,
   "metadata": {},
   "outputs": [
    {
     "name": "stdout",
     "output_type": "stream",
     "text": [
      "  0.000013 seconds (34 allocations: 1.875 KiB)\n"
     ]
    },
    {
     "data": {
      "text/plain": [
       "EnsembleState{10,5,Array{Float64,1}}(Array{Float64,1}[[-1.62329, 1.80771, -0.435176, 0.240917, -1.52402], [0.869775, -0.515919, 0.111825, 0.0606616, 1.46286], [1.72131, 0.326619, -0.164714, -1.2315, -1.44447], [2.08271, -0.83294, 0.507098, 0.339488, -2.08162], [-0.647263, 0.536572, -2.19642, 0.701106, -0.0583067], [-0.10702, 0.541239, 0.0840684, -1.3913, -0.682701], [-0.432507, 1.11047, -0.37265, -0.371761, -0.902206], [0.0897896, 0.57983, 0.423491, -0.579849, -0.507468], [-0.174747, 2.16469, -0.320401, 0.590347, -0.720571], [0.823658, 1.0179, 0.417184, 1.37398, -0.165798]])"
      ]
     },
     "execution_count": 14,
     "metadata": {},
     "output_type": "execute_result"
    }
   ],
   "source": [
    "@time Add(out)"
   ]
  },
  {
   "cell_type": "code",
   "execution_count": 15,
   "metadata": {},
   "outputs": [
    {
     "data": {
      "text/plain": [
       "MultiplicativeInflation{5}(1.0)"
      ]
     },
     "execution_count": 15,
     "metadata": {},
     "output_type": "execute_result"
    }
   ],
   "source": [
    "Mul = MultiplicativeInflation(5)"
   ]
  },
  {
   "cell_type": "code",
   "execution_count": 16,
   "metadata": {},
   "outputs": [
    {
     "data": {
      "text/plain": [
       "EnsembleState{10,5,Array{Float64,1}}(Array{Float64,1}[[0.0, 0.0, 0.0, 0.0, 0.0], [0.0, 0.0, 0.0, 0.0, 0.0], [0.0, 0.0, 0.0, 0.0, 0.0], [0.0, 0.0, 0.0, 0.0, 0.0], [0.0, 0.0, 0.0, 0.0, 0.0], [0.0, 0.0, 0.0, 0.0, 0.0], [0.0, 0.0, 0.0, 0.0, 0.0], [0.0, 0.0, 0.0, 0.0, 0.0], [0.0, 0.0, 0.0, 0.0, 0.0], [0.0, 0.0, 0.0, 0.0, 0.0]])"
      ]
     },
     "execution_count": 16,
     "metadata": {},
     "output_type": "execute_result"
    }
   ],
   "source": [
    "out = EnsembleState(10,5)"
   ]
  },
  {
   "cell_type": "code",
   "execution_count": 17,
   "metadata": {},
   "outputs": [
    {
     "data": {
      "text/plain": [
       "EnsembleState{10,5,Array{Float64,1}}(Array{Float64,1}[[0.0, 0.0, 0.0, 0.0, 0.0], [0.0, 0.0, 0.0, 0.0, 0.0], [0.0, 0.0, 0.0, 0.0, 0.0], [0.0, 0.0, 0.0, 0.0, 0.0], [0.0, 0.0, 0.0, 0.0, 0.0], [0.0, 0.0, 0.0, 0.0, 0.0], [0.0, 0.0, 0.0, 0.0, 0.0], [0.0, 0.0, 0.0, 0.0, 0.0], [0.0, 0.0, 0.0, 0.0, 0.0], [0.0, 0.0, 0.0, 0.0, 0.0]])"
      ]
     },
     "execution_count": 17,
     "metadata": {},
     "output_type": "execute_result"
    }
   ],
   "source": [
    "Mul(out)"
   ]
  },
  {
   "cell_type": "code",
   "execution_count": null,
   "metadata": {},
   "outputs": [],
   "source": [
    "out = EnsembleState(10,5)"
   ]
  },
  {
   "cell_type": "code",
   "execution_count": 20,
   "metadata": {},
   "outputs": [
    {
     "data": {
      "text/plain": [
       "MultiAdditiveInflation{5}(1.0, IsoNormal(\n",
       "dim: 5\n",
       "μ: [0.0, 0.0, 0.0, 0.0, 0.0]\n",
       "Σ: [1.0 0.0 … 0.0 0.0; 0.0 1.0 … 0.0 0.0; … ; 0.0 0.0 … 1.0 0.0; 0.0 0.0 … 0.0 1.0]\n",
       ")\n",
       ")"
      ]
     },
     "execution_count": 20,
     "metadata": {},
     "output_type": "execute_result"
    }
   ],
   "source": [
    "MulAdd = MultiAdditiveInflation(5)"
   ]
  },
  {
   "cell_type": "code",
   "execution_count": 21,
   "metadata": {},
   "outputs": [
    {
     "data": {
      "text/plain": [
       "1.05"
      ]
     },
     "execution_count": 21,
     "metadata": {},
     "output_type": "execute_result"
    }
   ],
   "source": [
    "MulAdd.β = 1.05"
   ]
  },
  {
   "cell_type": "code",
   "execution_count": 22,
   "metadata": {},
   "outputs": [
    {
     "data": {
      "text/plain": [
       "EnsembleState{10,5,Array{Float64,1}}(Array{Float64,1}[[-0.493131, -1.38874, 0.231262, -0.4716, 0.0677534], [1.47857, -0.0531732, 2.64909, -0.268656, -1.24905], [1.34614, -2.35271, -0.552836, -0.317407, 1.28813], [0.31759, -0.60549, 0.29785, 0.52047, -0.257745], [-0.0521986, -2.14691, -1.40009, -0.495878, -1.1197], [0.0394378, 1.97797, -0.909857, 1.1848, -0.292952], [-0.918117, 1.63462, -1.45435, -0.141762, -0.056872], [0.583282, -2.1044, 1.32379, 0.700178, -2.25503], [0.0985249, -1.38451, -0.770304, -0.255218, -1.26062], [-1.24293, -0.263326, -0.288099, 2.33894, -0.671788]])"
      ]
     },
     "execution_count": 22,
     "metadata": {},
     "output_type": "execute_result"
    }
   ],
   "source": [
    "MulAdd(out)"
   ]
  },
  {
   "cell_type": "code",
   "execution_count": null,
   "metadata": {},
   "outputs": [],
   "source": []
  }
 ],
 "metadata": {
  "@webio": {
   "lastCommId": null,
   "lastKernelId": null
  },
  "kernelspec": {
   "display_name": "Julia 1.1.1",
   "language": "julia",
   "name": "julia-1.1"
  },
  "language_info": {
   "file_extension": ".jl",
   "mimetype": "application/julia",
   "name": "julia",
   "version": "1.1.1"
  }
 },
 "nbformat": 4,
 "nbformat_minor": 2
}
