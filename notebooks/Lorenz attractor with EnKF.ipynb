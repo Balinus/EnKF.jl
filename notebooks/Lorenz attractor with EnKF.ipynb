{
 "cells": [
  {
   "cell_type": "code",
   "execution_count": 1,
   "metadata": {},
   "outputs": [
    {
     "data": {
      "text/plain": [
       "\"/media/mat/HDD/EnKF/Project.toml\""
      ]
     },
     "execution_count": 1,
     "metadata": {},
     "output_type": "execute_result"
    }
   ],
   "source": [
    "using Pkg\n",
    "Pkg.activate(\"/media/mat/HDD/EnKF/\")"
   ]
  },
  {
   "cell_type": "code",
   "execution_count": 18,
   "metadata": {},
   "outputs": [],
   "source": [
    "using Revise\n",
    "using EnKF\n",
    "using Distributions\n",
    "using DocStringExtensions\n",
    "using LinearAlgebra"
   ]
  },
  {
   "cell_type": "markdown",
   "metadata": {},
   "source": [
    "We are interested in simulating the Lorenz attractor\n",
    "    $$ ẋ = a(x - y)\\\\\n",
    "       ẏ = -xz + rx - y\\\\\n",
    "       ż = xy - bz$$"
   ]
  },
  {
   "cell_type": "markdown",
   "metadata": {},
   "source": [
    "Define parameters of the Lorenz attractor"
   ]
  },
  {
   "cell_type": "code",
   "execution_count": 19,
   "metadata": {},
   "outputs": [
    {
     "data": {
      "text/plain": [
       "28.0"
      ]
     },
     "execution_count": 19,
     "metadata": {},
     "output_type": "execute_result"
    }
   ],
   "source": [
    "a = 10.0\n",
    "b = 8.0/3.0\n",
    "r = 28.0"
   ]
  },
  {
   "cell_type": "markdown",
   "metadata": {},
   "source": [
    "Define propagation function fprop"
   ]
  },
  {
   "cell_type": "code",
   "execution_count": 20,
   "metadata": {},
   "outputs": [
    {
     "data": {
      "text/plain": [
       "lorenz (generic function with 1 method)"
      ]
     },
     "execution_count": 20,
     "metadata": {},
     "output_type": "execute_result"
    }
   ],
   "source": [
    "lorenz(x) = [a*(x[1] - x[2]); r*x[1] - x[1]*x[3] - x[2]; x[1]*x[1] - b*x[3]]"
   ]
  },
  {
   "cell_type": "code",
   "execution_count": 21,
   "metadata": {},
   "outputs": [],
   "source": [
    "function (::PropagationFunction)(t::Float64, ENS::EnsembleState{N, TS}) where {N, TS}\n",
    "    for s in ENS.S\n",
    "        s += Δt*lorenz(deepcopy(s))\n",
    "    end\n",
    "    return ENS\n",
    "end"
   ]
  },
  {
   "cell_type": "code",
   "execution_count": 22,
   "metadata": {},
   "outputs": [
    {
     "data": {
      "text/plain": [
       "PropagationFunction()"
      ]
     },
     "execution_count": 22,
     "metadata": {},
     "output_type": "execute_result"
    }
   ],
   "source": [
    "fprop = PropagationFunction()"
   ]
  },
  {
   "cell_type": "markdown",
   "metadata": {},
   "source": [
    "Define measurement function m"
   ]
  },
  {
   "cell_type": "code",
   "execution_count": 23,
   "metadata": {},
   "outputs": [],
   "source": [
    "function (::MeasurementFunction)(t::Float64, s::TS) where TS\n",
    "    return s\n",
    "end"
   ]
  },
  {
   "cell_type": "code",
   "execution_count": 24,
   "metadata": {},
   "outputs": [
    {
     "data": {
      "text/plain": [
       "MeasurementFunction()"
      ]
     },
     "execution_count": 24,
     "metadata": {},
     "output_type": "execute_result"
    }
   ],
   "source": [
    "m = MeasurementFunction()"
   ]
  },
  {
   "cell_type": "markdown",
   "metadata": {},
   "source": [
    "Define  real measurement function z"
   ]
  },
  {
   "cell_type": "code",
   "execution_count": 25,
   "metadata": {},
   "outputs": [],
   "source": [
    "function (::RealMeasurementFunction)(t::Float64, ENS::EnsembleState{N, TZ}) where {N, TZ}\n",
    "    return ENS\n",
    "end"
   ]
  },
  {
   "cell_type": "markdown",
   "metadata": {},
   "source": [
    "Define covariance inflation"
   ]
  },
  {
   "cell_type": "code",
   "execution_count": 26,
   "metadata": {},
   "outputs": [
    {
     "data": {
      "text/plain": [
       "IdentityInflation()"
      ]
     },
     "execution_count": 26,
     "metadata": {},
     "output_type": "execute_result"
    }
   ],
   "source": [
    "A = IdentityInflation()"
   ]
  },
  {
   "cell_type": "markdown",
   "metadata": {},
   "source": [
    "Define noise covariance"
   ]
  },
  {
   "cell_type": "code",
   "execution_count": 27,
   "metadata": {},
   "outputs": [
    {
     "data": {
      "text/plain": [
       "AdditiveInflation{3}(IsoNormal(\n",
       "dim: 3\n",
       "μ: [0.0, 0.0, 0.0]\n",
       "Σ: [1.0e-6 0.0 0.0; 0.0 1.0e-6 0.0; 0.0 0.0 1.0e-6]\n",
       ")\n",
       ")"
      ]
     },
     "execution_count": 27,
     "metadata": {},
     "output_type": "execute_result"
    }
   ],
   "source": [
    "ϵ = AdditiveInflation(MvNormal(zeros(3), 1e-3*I))"
   ]
  },
  {
   "cell_type": "code",
   "execution_count": 30,
   "metadata": {},
   "outputs": [
    {
     "data": {
      "text/plain": [
       "50"
      ]
     },
     "execution_count": 30,
     "metadata": {},
     "output_type": "execute_result"
    }
   ],
   "source": [
    "ensemble_size = 50"
   ]
  },
  {
   "cell_type": "code",
   "execution_count": 31,
   "metadata": {},
   "outputs": [
    {
     "data": {
      "text/plain": [
       "EnsembleState{50,Array{Float64,1}}(Array{Float64,1}[[1.20117, 1.29871, 1.60081], [1.20029, 1.30119, 1.59992], [1.20075, 1.29871, 1.59925], [1.20015, 1.29846, 1.59995], [1.19984, 1.29927, 1.59871], [1.20068, 1.30159, 1.60052], [1.19844, 1.29927, 1.59981], [1.19934, 1.29981, 1.60023], [1.2001, 1.29904, 1.60153], [1.19949, 1.30211, 1.6015]  …  [1.1987, 1.29982, 1.59861], [1.19962, 1.301, 1.59945], [1.19908, 1.30137, 1.601], [1.20173, 1.30128, 1.60023], [1.19903, 1.30079, 1.60018], [1.19848, 1.29949, 1.60108], [1.20028, 1.30089, 1.60014], [1.20018, 1.3013, 1.60041], [1.19868, 1.29969, 1.59958], [1.19958, 1.29957, 1.60043]])"
      ]
     },
     "execution_count": 31,
     "metadata": {},
     "output_type": "execute_result"
    }
   ],
   "source": [
    "x₀ = [1.2, 1.3, 1.6]\n",
    "ens = initialize(ensemble_size, MvNormal(x₀, 1e-3*I))"
   ]
  },
  {
   "cell_type": "code",
   "execution_count": null,
   "metadata": {},
   "outputs": [],
   "source": [
    "Δt = 1e-2\n",
    "T = 0.0:Δt:3.0\n",
    "\n",
    "for (n,t) in enumerate(T)\n",
    "    \n",
    "end"
   ]
  }
 ],
 "metadata": {
  "kernelspec": {
   "display_name": "Julia 1.1.1",
   "language": "julia",
   "name": "julia-1.1"
  },
  "language_info": {
   "file_extension": ".jl",
   "mimetype": "application/julia",
   "name": "julia",
   "version": "1.1.1"
  }
 },
 "nbformat": 4,
 "nbformat_minor": 2
}
